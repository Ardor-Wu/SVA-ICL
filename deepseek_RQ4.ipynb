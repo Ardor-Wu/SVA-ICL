{
 "cells": [
  {
   "cell_type": "code",
   "execution_count": 81,
   "metadata": {
    "collapsed": true
   },
   "outputs": [],
   "source": [
    "from openai import OpenAI\n",
    "import pandas as pd\n",
    "from tqdm import tqdm\n",
    "import numpy as np\n",
    "import random\n",
    "import os"
   ]
  },
  {
   "cell_type": "code",
   "execution_count": 82,
   "outputs": [],
   "source": [
    "client = OpenAI(api_key=\"sk-5659e4563ce54759b130c0fa617e288d\", base_url=\"https://api.deepseek.com\")"
   ],
   "metadata": {
    "collapsed": false,
    "pycharm": {
     "name": "#%%\n"
    }
   }
  },
  {
   "cell_type": "code",
   "execution_count": 83,
   "outputs": [],
   "source": [
    "codes = pd.read_csv(\"./results3/7-3/3-code-10_2.csv\",header=None)"
   ],
   "metadata": {
    "collapsed": false,
    "pycharm": {
     "name": "#%%\n"
    }
   }
  },
  {
   "cell_type": "code",
   "execution_count": 84,
   "outputs": [],
   "source": [
    "descs = pd.read_csv(\"./results3/7-3/3-code-10_2_desc.csv\",header=None)"
   ],
   "metadata": {
    "collapsed": false,
    "pycharm": {
     "name": "#%%\n"
    }
   }
  },
  {
   "cell_type": "code",
   "execution_count": 85,
   "outputs": [],
   "source": [
    "bscores = pd.read_csv(\"./results3/7-3/3-code-10_2_bscore.csv\",header=None)"
   ],
   "metadata": {
    "collapsed": false,
    "pycharm": {
     "name": "#%%\n"
    }
   }
  },
  {
   "cell_type": "code",
   "execution_count": 86,
   "outputs": [],
   "source": [
    "bseveritys = pd.read_csv(\"./results3/7-3/3-code-10_2_bseverity.csv\",header=None)"
   ],
   "metadata": {
    "collapsed": false,
    "pycharm": {
     "name": "#%%\n"
    }
   }
  },
  {
   "cell_type": "code",
   "execution_count": 87,
   "outputs": [],
   "source": [
    "codes1 = codes[0]\n",
    "codes2 = codes[1]\n",
    "codes3 = codes[2]\n",
    "codes4 = codes[3]\n",
    "codes5 = codes[4]"
   ],
   "metadata": {
    "collapsed": false,
    "pycharm": {
     "name": "#%%\n"
    }
   }
  },
  {
   "cell_type": "code",
   "execution_count": 88,
   "outputs": [],
   "source": [
    "descs1 = descs[0]\n",
    "descs2 = descs[1]\n",
    "descs3 = descs[2]\n",
    "descs4 = descs[3]\n",
    "descs5 = descs[4]"
   ],
   "metadata": {
    "collapsed": false,
    "pycharm": {
     "name": "#%%\n"
    }
   }
  },
  {
   "cell_type": "code",
   "execution_count": 89,
   "outputs": [],
   "source": [
    "bscores1 = bscores[0]\n",
    "bscores2 = bscores[1]\n",
    "bscores3 = bscores[2]\n",
    "bscores4 = bscores[3]\n",
    "bscores5 = bscores[4]"
   ],
   "metadata": {
    "collapsed": false,
    "pycharm": {
     "name": "#%%\n"
    }
   }
  },
  {
   "cell_type": "code",
   "execution_count": 90,
   "outputs": [],
   "source": [
    "bseveritys1 = bseveritys[0]\n",
    "bseveritys2 = bseveritys[1]\n",
    "bseveritys3 = bseveritys[2]\n",
    "bseveritys4 = bseveritys[3]\n",
    "bseveritys5 = bseveritys[4]"
   ],
   "metadata": {
    "collapsed": false,
    "pycharm": {
     "name": "#%%\n"
    }
   }
  },
  {
   "cell_type": "code",
   "execution_count": 91,
   "outputs": [],
   "source": [
    "df = pd.read_csv('./dataset/test/test_code.csv', header=None)"
   ],
   "metadata": {
    "collapsed": false,
    "pycharm": {
     "name": "#%%\n"
    }
   }
  },
  {
   "cell_type": "code",
   "execution_count": 92,
   "outputs": [],
   "source": [
    "test_codes = df[0].tolist()"
   ],
   "metadata": {
    "collapsed": false,
    "pycharm": {
     "name": "#%%\n"
    }
   }
  },
  {
   "cell_type": "code",
   "execution_count": 93,
   "outputs": [],
   "source": [
    "df = pd.read_csv('./dataset/test/test_desc.csv', header=None)"
   ],
   "metadata": {
    "collapsed": false,
    "pycharm": {
     "name": "#%%\n"
    }
   }
  },
  {
   "cell_type": "code",
   "execution_count": 94,
   "outputs": [],
   "source": [
    "test_descs = df[0].tolist()"
   ],
   "metadata": {
    "collapsed": false,
    "pycharm": {
     "name": "#%%\n"
    }
   }
  },
  {
   "cell_type": "code",
   "execution_count": 95,
   "outputs": [],
   "source": [
    "import tiktoken\n",
    "encoder = tiktoken.get_encoding(\"cl100k_base\")\n",
    "def cut_text_to_fit_token_limit(text, max_tokens):\n",
    "    tokens = encoder.encode(text)\n",
    "    if len(tokens) > max_tokens:\n",
    "        tokens = tokens[:max_tokens]\n",
    "        truncated_text = encoder.decode(tokens)\n",
    "        return truncated_text\n",
    "    return text"
   ],
   "metadata": {
    "collapsed": false,
    "pycharm": {
     "name": "#%%\n"
    }
   }
  },
  {
   "cell_type": "code",
   "execution_count": 96,
   "outputs": [],
   "source": [
    "def get_token_count(text):\n",
    "    \"\"\"\n",
    "    计算输入文本的token数量\n",
    "\n",
    "    参数:\n",
    "    text (str): 输入的文本\n",
    "\n",
    "    返回:\n",
    "    int: 文本的token数量\n",
    "    \"\"\"\n",
    "    # 使用编码器计算tokens\n",
    "    tokens = encoder.encode(text)\n",
    "    num_tokens = len(tokens)\n",
    "\n",
    "    return num_tokens"
   ],
   "metadata": {
    "collapsed": false,
    "pycharm": {
     "name": "#%%\n"
    }
   }
  },
  {
   "cell_type": "code",
   "execution_count": 97,
   "outputs": [],
   "source": [
    "max_tokens = 32600\n",
    "# 32768\n",
    "n = 5\n",
    "per_tokens = max_tokens//n+1\n",
    "for i in range(len(codes1)):\n",
    "    codes[0][i] = cut_text_to_fit_token_limit(codes[0][i] ,per_tokens)\n",
    "    codes[1][i] = cut_text_to_fit_token_limit(codes[1][i] ,per_tokens)\n",
    "    codes[2][i] = cut_text_to_fit_token_limit(codes[2][i] ,per_tokens)\n",
    "    codes[3][i] = cut_text_to_fit_token_limit(codes[3][i] ,per_tokens)\n",
    "    codes[4][i] = cut_text_to_fit_token_limit(codes[4][i] ,per_tokens)\n",
    "\n",
    "    descs[0][i] = cut_text_to_fit_token_limit(descs[0][i] ,per_tokens)\n",
    "    descs[1][i] = cut_text_to_fit_token_limit(descs[1][i] ,per_tokens)\n",
    "    descs[2][i] = cut_text_to_fit_token_limit(descs[2][i] ,per_tokens)\n",
    "    descs[3][i] = cut_text_to_fit_token_limit(descs[3][i] ,per_tokens)\n",
    "    descs[4][i] = cut_text_to_fit_token_limit(descs[4][i] ,per_tokens)"
   ],
   "metadata": {
    "collapsed": false,
    "pycharm": {
     "name": "#%%\n"
    }
   }
  },
  {
   "cell_type": "code",
   "execution_count": 98,
   "outputs": [],
   "source": [
    "demo_ins = \"I will give you some demo examples that include the vulnerability code and a description of the vulnerability, as well as the severity level of the vulnerability. At the end of the demo, I will give you a test example that includes the vulnerability code and a description of the vulnerability. You only need to output the severity level of the vulnerability of the test example code and description, without outputting the corresponding explanation, or the vulnerability level of the previous demo examples.\\n\"\n",
    "demo1 = \"Demo 1:\\n\"\n",
    "demo2 = \"Demo 2:\\n\"\n",
    "demo3 = \"Demo 3:\\n\"\n",
    "demo4 = \"Demo 4:\\n\"\n",
    "demo5 = \"Demo 5:\\n\"\n",
    "demos = []\n",
    "test = \"Test 1:\\n\"\n",
    "demos.append(demo1)\n",
    "demos.append(demo2)\n",
    "demos.append(demo3)\n",
    "demos.append(demo4)\n",
    "demos.append(demo5)\n",
    "\n",
    "instruct = \"Determine Base Severity of the vulnerability code based on the following vulnerable code (a function) and the textual description of the vulnerability.\\n\"\n",
    "# the Base Score and\n",
    "input_insturction = ' [input] '\n",
    "output_insturction = ' [output] '"
   ],
   "metadata": {
    "collapsed": false,
    "pycharm": {
     "name": "#%%\n"
    }
   }
  },
  {
   "cell_type": "code",
   "execution_count": 99,
   "outputs": [],
   "source": [
    "def comment(prompt):\n",
    "#     nn = len(code)\n",
    "#     prompt = \"\"\n",
    "#     for i in range(nn):\n",
    "#         prompt += instruct\n",
    "#         prompt += input_insturction\n",
    "#         prompt += \"Code: \"\n",
    "#         prompt += code[i]\n",
    "#         prompt += \"\\n\"\n",
    "#         prompt += \"Description: \"\n",
    "#         prompt += desc[i]\n",
    "#         prompt += \"\\n\"\n",
    "#         prompt += output_insturction\n",
    "#         if i < nn-1:\n",
    "# #             prompt += \"Base Score:\"\n",
    "# #             prompt += Base_Score[i]\n",
    "# #             prompt += \"\\n\"\n",
    "#             prompt += \"Base Severity:\"\n",
    "#             prompt += Base_Severity[i]\n",
    "#             prompt += \"\\n\\n\"\n",
    "\n",
    "    # prompt = 'Here is an incomplete title for a Stack Overflow post:\\n' + incomplete_title + \\\n",
    "    #          '\\nHere is a description of the post:\\n' + description + \\\n",
    "    #          '\\nHere is the code for this post:\\n' + code + \\\n",
    "    #          '\\nHere is the final title(you just need to output the content after the incomplete title, without generating the incomplete title section in front):\\n'\n",
    "\n",
    "    response = client.chat.completions.create(\n",
    "        model=\"deepseek-chat\",\n",
    "        messages=[\n",
    "            {\"role\": \"system\", \"content\": \"You are an expert in code vulnerability assessment, and you will rate the vulnerabilities based on the following scoring criteria:\\n\"+\\\n",
    "                                          \"0.1-3.9:LOW, 4.0–6.9:Medium, 7.0–8.9:High, 9.0–10.0:Critical\"},\n",
    "            {\"role\": \"user\", \"content\": prompt},\n",
    "        ],\n",
    "        temperature=0\n",
    "    )\n",
    "\n",
    "    return response.choices[0].message.content"
   ],
   "metadata": {
    "collapsed": false,
    "pycharm": {
     "name": "#%%\n"
    }
   }
  },
  {
   "cell_type": "code",
   "execution_count": 100,
   "outputs": [],
   "source": [
    "import time\n",
    "import math\n",
    "import random"
   ],
   "metadata": {
    "collapsed": false,
    "pycharm": {
     "name": "#%%\n"
    }
   }
  },
  {
   "cell_type": "code",
   "execution_count": 101,
   "outputs": [
    {
     "name": "stdout",
     "output_type": "stream",
     "text": [
      "0\n"
     ]
    },
    {
     "name": "stderr",
     "output_type": "stream",
     "text": [
      "100%|██████████| 100/100 [06:12<00:00,  3.72s/it]\n"
     ]
    },
    {
     "name": "stdout",
     "output_type": "stream",
     "text": [
      "100\n"
     ]
    },
    {
     "name": "stderr",
     "output_type": "stream",
     "text": [
      " 29%|██▉       | 29/100 [01:45<04:38,  3.93s/it]"
     ]
    },
    {
     "name": "stdout",
     "output_type": "stream",
     "text": [
      "Error:  Error code: 400 - {'detail': 'Content Exists Risk'}\n",
      "Error:  Error code: 400 - {'detail': 'Content Exists Risk'}\n",
      "Error:  Error code: 400 - {'detail': 'Content Exists Risk'}\n",
      "Error:  Error code: 400 - {'detail': 'Content Exists Risk'}\n",
      "Error:  Error code: 400 - {'detail': 'Content Exists Risk'}\n",
      "Error:  Error code: 400 - {'detail': 'Content Exists Risk'}\n"
     ]
    },
    {
     "name": "stderr",
     "output_type": "stream",
     "text": [
      "100%|██████████| 100/100 [06:08<00:00,  3.68s/it]\n"
     ]
    },
    {
     "name": "stdout",
     "output_type": "stream",
     "text": [
      "200\n"
     ]
    },
    {
     "name": "stderr",
     "output_type": "stream",
     "text": [
      "100%|██████████| 100/100 [06:01<00:00,  3.62s/it]\n"
     ]
    },
    {
     "name": "stdout",
     "output_type": "stream",
     "text": [
      "300\n"
     ]
    },
    {
     "name": "stderr",
     "output_type": "stream",
     "text": [
      " 27%|██▋       | 27/100 [01:46<04:17,  3.53s/it]"
     ]
    },
    {
     "name": "stdout",
     "output_type": "stream",
     "text": [
      "Error:  Error code: 400 - {'detail': 'Content Exists Risk'}\n",
      "Error:  Error code: 400 - {'detail': 'Content Exists Risk'}\n",
      "Error:  Error code: 400 - {'detail': 'Content Exists Risk'}\n",
      "Error:  Error code: 400 - {'detail': 'Content Exists Risk'}\n",
      "Error:  Error code: 400 - {'detail': 'Content Exists Risk'}\n",
      "Error:  Error code: 400 - {'detail': 'Content Exists Risk'}\n"
     ]
    },
    {
     "name": "stderr",
     "output_type": "stream",
     "text": [
      "100%|██████████| 100/100 [06:29<00:00,  3.90s/it]\n"
     ]
    },
    {
     "name": "stdout",
     "output_type": "stream",
     "text": [
      "400\n"
     ]
    },
    {
     "name": "stderr",
     "output_type": "stream",
     "text": [
      " 58%|█████▊    | 58/100 [03:29<02:40,  3.81s/it]"
     ]
    },
    {
     "name": "stdout",
     "output_type": "stream",
     "text": [
      "Error:  Error code: 400 - {'detail': 'Content Exists Risk'}\n",
      "Error:  Error code: 400 - {'detail': 'Content Exists Risk'}\n",
      "Error:  Error code: 400 - {'detail': 'Content Exists Risk'}\n",
      "Error:  Error code: 400 - {'detail': 'Content Exists Risk'}\n",
      "Error:  Error code: 400 - {'detail': 'Content Exists Risk'}\n",
      "Error:  Error code: 400 - {'detail': 'Content Exists Risk'}\n"
     ]
    },
    {
     "name": "stderr",
     "output_type": "stream",
     "text": [
      "100%|██████████| 100/100 [06:08<00:00,  3.69s/it]\n"
     ]
    },
    {
     "name": "stdout",
     "output_type": "stream",
     "text": [
      "500\n"
     ]
    },
    {
     "name": "stderr",
     "output_type": "stream",
     "text": [
      " 80%|████████  | 80/100 [05:03<01:13,  3.70s/it]"
     ]
    },
    {
     "name": "stdout",
     "output_type": "stream",
     "text": [
      "Error:  Error code: 400 - {'detail': 'Content Exists Risk'}\n",
      "Error:  Error code: 400 - {'detail': 'Content Exists Risk'}\n",
      "Error:  Error code: 400 - {'detail': 'Content Exists Risk'}\n",
      "Error:  Error code: 400 - {'detail': 'Content Exists Risk'}\n",
      "Error:  Error code: 400 - {'detail': 'Content Exists Risk'}\n",
      "Error:  Error code: 400 - {'detail': 'Content Exists Risk'}\n"
     ]
    },
    {
     "name": "stderr",
     "output_type": "stream",
     "text": [
      " 89%|████████▉ | 89/100 [05:45<00:44,  4.05s/it]"
     ]
    },
    {
     "name": "stdout",
     "output_type": "stream",
     "text": [
      "Error:  Error code: 400 - {'detail': 'Content Exists Risk'}\n",
      "Error:  Error code: 400 - {'detail': 'Content Exists Risk'}\n",
      "Error:  Error code: 400 - {'detail': 'Content Exists Risk'}\n",
      "Error:  Error code: 400 - {'detail': 'Content Exists Risk'}\n",
      "Error:  Error code: 400 - {'detail': 'Content Exists Risk'}\n",
      "Error:  Error code: 400 - {'detail': 'Content Exists Risk'}\n"
     ]
    },
    {
     "name": "stderr",
     "output_type": "stream",
     "text": [
      "100%|██████████| 100/100 [06:29<00:00,  3.89s/it]\n"
     ]
    },
    {
     "name": "stdout",
     "output_type": "stream",
     "text": [
      "600\n"
     ]
    },
    {
     "name": "stderr",
     "output_type": "stream",
     "text": [
      " 23%|██▎       | 23/100 [01:20<04:17,  3.34s/it]"
     ]
    },
    {
     "name": "stdout",
     "output_type": "stream",
     "text": [
      "Error:  Error code: 400 - {'detail': \"This model's maximum context length is 32768 tokens. However, you requested 34396 tokens (34396 in the messages, 0 in the completion). Please reduce the length of the messages or completion.\"}\n",
      "Error:  Error code: 400 - {'detail': \"This model's maximum context length is 32768 tokens. However, you requested 34396 tokens (34396 in the messages, 0 in the completion). Please reduce the length of the messages or completion.\"}\n",
      "Error:  Error code: 400 - {'detail': \"This model's maximum context length is 32768 tokens. However, you requested 34396 tokens (34396 in the messages, 0 in the completion). Please reduce the length of the messages or completion.\"}\n",
      "Error:  Error code: 400 - {'detail': \"This model's maximum context length is 32768 tokens. However, you requested 34396 tokens (34396 in the messages, 0 in the completion). Please reduce the length of the messages or completion.\"}\n",
      "Error:  Error code: 400 - {'detail': \"This model's maximum context length is 32768 tokens. However, you requested 34396 tokens (34396 in the messages, 0 in the completion). Please reduce the length of the messages or completion.\"}\n",
      "Error:  Error code: 400 - {'detail': \"This model's maximum context length is 32768 tokens. However, you requested 34396 tokens (34396 in the messages, 0 in the completion). Please reduce the length of the messages or completion.\"}\n"
     ]
    },
    {
     "name": "stderr",
     "output_type": "stream",
     "text": [
      " 67%|██████▋   | 67/100 [04:09<02:21,  4.29s/it]"
     ]
    },
    {
     "name": "stdout",
     "output_type": "stream",
     "text": [
      "Error:  Error code: 400 - {'detail': \"This model's maximum context length is 32768 tokens. However, you requested 33822 tokens (33822 in the messages, 0 in the completion). Please reduce the length of the messages or completion.\"}\n",
      "Error:  Error code: 400 - {'detail': \"This model's maximum context length is 32768 tokens. However, you requested 33822 tokens (33822 in the messages, 0 in the completion). Please reduce the length of the messages or completion.\"}\n",
      "Error:  Error code: 400 - {'detail': \"This model's maximum context length is 32768 tokens. However, you requested 33822 tokens (33822 in the messages, 0 in the completion). Please reduce the length of the messages or completion.\"}\n",
      "Error:  Error code: 400 - {'detail': \"This model's maximum context length is 32768 tokens. However, you requested 33822 tokens (33822 in the messages, 0 in the completion). Please reduce the length of the messages or completion.\"}\n",
      "Error:  Error code: 400 - {'detail': \"This model's maximum context length is 32768 tokens. However, you requested 33822 tokens (33822 in the messages, 0 in the completion). Please reduce the length of the messages or completion.\"}\n",
      "Error:  Error code: 400 - {'detail': \"This model's maximum context length is 32768 tokens. However, you requested 33822 tokens (33822 in the messages, 0 in the completion). Please reduce the length of the messages or completion.\"}\n"
     ]
    },
    {
     "name": "stderr",
     "output_type": "stream",
     "text": [
      "100%|██████████| 100/100 [06:20<00:00,  3.80s/it]\n"
     ]
    },
    {
     "name": "stdout",
     "output_type": "stream",
     "text": [
      "700\n"
     ]
    },
    {
     "name": "stderr",
     "output_type": "stream",
     "text": [
      " 51%|█████     | 51/100 [03:30<03:23,  4.15s/it]"
     ]
    },
    {
     "name": "stdout",
     "output_type": "stream",
     "text": [
      "Error:  Error code: 400 - {'detail': 'Content Exists Risk'}\n",
      "Error:  Error code: 400 - {'detail': 'Content Exists Risk'}\n",
      "Error:  Error code: 400 - {'detail': 'Content Exists Risk'}\n",
      "Error:  Error code: 400 - {'detail': 'Content Exists Risk'}\n",
      "Error:  Error code: 400 - {'detail': 'Content Exists Risk'}\n",
      "Error:  Error code: 400 - {'detail': 'Content Exists Risk'}\n"
     ]
    },
    {
     "name": "stderr",
     "output_type": "stream",
     "text": [
      "100%|██████████| 100/100 [07:15<00:00,  4.36s/it]\n"
     ]
    },
    {
     "name": "stdout",
     "output_type": "stream",
     "text": [
      "800\n"
     ]
    },
    {
     "name": "stderr",
     "output_type": "stream",
     "text": [
      "100%|██████████| 100/100 [09:46<00:00,  5.86s/it]\n"
     ]
    },
    {
     "name": "stdout",
     "output_type": "stream",
     "text": [
      "900\n"
     ]
    },
    {
     "name": "stderr",
     "output_type": "stream",
     "text": [
      "100%|██████████| 100/100 [07:28<00:00,  4.49s/it]\n"
     ]
    },
    {
     "name": "stdout",
     "output_type": "stream",
     "text": [
      "1000\n"
     ]
    },
    {
     "name": "stderr",
     "output_type": "stream",
     "text": [
      " 16%|█▌        | 16/100 [00:59<06:50,  4.88s/it]"
     ]
    },
    {
     "name": "stdout",
     "output_type": "stream",
     "text": [
      "Error:  Error code: 400 - {'detail': 'Content Exists Risk'}\n",
      "Error:  Error code: 400 - {'detail': 'Content Exists Risk'}\n",
      "Error:  Error code: 400 - {'detail': 'Content Exists Risk'}\n",
      "Error:  Error code: 400 - {'detail': 'Content Exists Risk'}\n",
      "Error:  Error code: 400 - {'detail': 'Content Exists Risk'}\n",
      "Error:  Error code: 400 - {'detail': 'Content Exists Risk'}\n"
     ]
    },
    {
     "name": "stderr",
     "output_type": "stream",
     "text": [
      "100%|██████████| 100/100 [06:49<00:00,  4.09s/it]\n"
     ]
    },
    {
     "name": "stdout",
     "output_type": "stream",
     "text": [
      "1100\n"
     ]
    },
    {
     "name": "stderr",
     "output_type": "stream",
     "text": [
      " 40%|████      | 40/100 [02:30<04:05,  4.09s/it]"
     ]
    },
    {
     "name": "stdout",
     "output_type": "stream",
     "text": [
      "Error:  Error code: 400 - {'detail': 'Content Exists Risk'}\n",
      "Error:  Error code: 400 - {'detail': 'Content Exists Risk'}\n",
      "Error:  Error code: 400 - {'detail': 'Content Exists Risk'}\n",
      "Error:  Error code: 400 - {'detail': 'Content Exists Risk'}\n",
      "Error:  Error code: 400 - {'detail': 'Content Exists Risk'}\n",
      "Error:  Error code: 400 - {'detail': 'Content Exists Risk'}\n"
     ]
    },
    {
     "name": "stderr",
     "output_type": "stream",
     "text": [
      "100%|██████████| 100/100 [07:08<00:00,  4.29s/it]\n"
     ]
    },
    {
     "name": "stdout",
     "output_type": "stream",
     "text": [
      "1200\n"
     ]
    },
    {
     "name": "stderr",
     "output_type": "stream",
     "text": [
      "100%|██████████| 8/8 [00:38<00:00,  4.86s/it]\n"
     ]
    }
   ],
   "source": [
    "import sys\n",
    "fail = []\n",
    "have_money = 1\n",
    "num_batches = math.ceil(len(test_codes) / 100)\n",
    "for batch_index in range(num_batches):\n",
    "    start_index = batch_index * 100\n",
    "    end_index = min(start_index + 100, len(test_codes))\n",
    "    print(start_index)\n",
    "    # codes_batch = test_codes[start_index:end_index]\n",
    "    # descs_batch = test_descs[start_index:end_index]\n",
    "    for i in tqdm(range(start_index, end_index)):\n",
    "        ans = []\n",
    "        pro = []\n",
    "\n",
    "        idx = [0,1,2,3]\n",
    "        random.shuffle(idx)\n",
    "\n",
    "        para_codes = []\n",
    "        para_codes.append(codes[idx[0]][i])\n",
    "        para_codes.append(codes[idx[1]][i])\n",
    "        para_codes.append(codes[idx[2]][i])\n",
    "        para_codes.append(codes[idx[3]][i])\n",
    "        para_codes.append(test_codes[i])\n",
    "\n",
    "        para_descs = []\n",
    "        para_descs.append(descs[idx[0]][i])\n",
    "        para_descs.append(descs[idx[1]][i])\n",
    "        para_descs.append(descs[idx[2]][i])\n",
    "        para_descs.append(descs[idx[3]][i])\n",
    "        para_descs.append(test_descs[i])\n",
    "\n",
    "        para_bscores = []\n",
    "        para_bscores.append(bscores[idx[0]][i])\n",
    "        para_bscores.append(bscores[idx[1]][i])\n",
    "        para_bscores.append(bscores[idx[2]][i])\n",
    "        para_bscores.append(bscores[idx[3]][i])\n",
    "\n",
    "        para_bseveritys = []\n",
    "        para_bseveritys.append(bseveritys[idx[0]][i])\n",
    "        para_bseveritys.append(bseveritys[idx[1]][i])\n",
    "        para_bseveritys.append(bseveritys[idx[2]][i])\n",
    "        para_bseveritys.append(bseveritys[idx[3]][i])\n",
    "\n",
    "        success = 0\n",
    "        fail_count = 0\n",
    "\n",
    "        nn = len(para_codes)\n",
    "        prompt = \"\"\n",
    "        prompt += demo_ins\n",
    "        for j in range(nn):\n",
    "            if j < nn-1:\n",
    "                prompt += demos[j]\n",
    "            else:\n",
    "                prompt += test\n",
    "            prompt += instruct\n",
    "            prompt += input_insturction\n",
    "            prompt += \"Code: \"\n",
    "            prompt += para_codes[j]\n",
    "            prompt += \"\\n\"\n",
    "            prompt += \"Description: \"\n",
    "            prompt += para_descs[j]\n",
    "            prompt += \"\\n\"\n",
    "            prompt += output_insturction\n",
    "            if j < nn-1:\n",
    "    #             prompt += \"Base Score:\"\n",
    "    #             prompt += Base_Score[i]\n",
    "    #             prompt += \"\\n\"\n",
    "                prompt += \"Base Severity:\"\n",
    "                prompt += para_bseveritys[j]\n",
    "                prompt += \"\\n\\n\"\n",
    "        pro.append(prompt)\n",
    "        while success!=1:\n",
    "            try:\n",
    "                ans.append(comment(prompt))\n",
    "                success = 1\n",
    "                time.sleep(2)\n",
    "            except Exception as e:\n",
    "                info = e.args[0]\n",
    "                print(\"Error: \", info)\n",
    "                if str(info).find(\"402\") != -1:\n",
    "                    print(\"402 Error encountered. Exiting program.\")\n",
    "                    sys.exit(1)\n",
    "                time.sleep(2)\n",
    "                fail_count += 1\n",
    "            if fail_count>5:\n",
    "                fail.append(i)\n",
    "                ans.append(\"ERROR\")\n",
    "                break\n",
    "        # time.sleep(5)\n",
    "        if have_money == 0:\n",
    "            break\n",
    "        if get_token_count(pro[0]) > max_tokens:\n",
    "            print(\"-----\",i,\"-----\")\n",
    "        df = pd.DataFrame(ans)\n",
    "        ddf = pd.DataFrame(pro)\n",
    "        if batch_index == 0 and i == 0:\n",
    "            df.to_csv('./results_RQ4/results_RQ4_deepseek/Rand/answers.csv', index=False, header=None, lineterminator='\\n')\n",
    "            ddf.to_csv('./results_RQ4/results_RQ4_deepseek/Rand/prompts.csv', index=False, header=None, lineterminator='\\n')\n",
    "        else:\n",
    "            with open('./results_RQ4/results_RQ4_deepseek/Rand/answers.csv', 'a', encoding='utf-8') as f:\n",
    "                df.to_csv(f, index=False, header=None, lineterminator='\\n')\n",
    "            with open('./results_RQ4/results_RQ4_deepseek/Rand/prompts.csv', 'a', encoding='utf-8') as f:\n",
    "                ddf.to_csv(f, index=False, header=None, lineterminator='\\n')\n",
    "    if have_money == 0:\n",
    "        break\n",
    "ddd = pd.DataFrame(fail)\n",
    "ddd.to_csv('./results_RQ4/results_RQ4_deepseek/Rand/fail.csv', index=False, header=None, lineterminator='\\n')"
   ],
   "metadata": {
    "collapsed": false,
    "pycharm": {
     "name": "#%%\n"
    }
   }
  },
  {
   "cell_type": "code",
   "execution_count": null,
   "outputs": [],
   "source": [
    "data1 = pd.read_csv(\"./results_RQ4/results_RQ4_deepseek/Rand/prompts.csv\",header=None)"
   ],
   "metadata": {
    "collapsed": false,
    "pycharm": {
     "name": "#%%\n"
    }
   }
  }
 ],
 "metadata": {
  "kernelspec": {
   "name": "topic_jupyter",
   "language": "python",
   "display_name": "topic_jupyter"
  },
  "language_info": {
   "codemirror_mode": {
    "name": "ipython",
    "version": 2
   },
   "file_extension": ".py",
   "mimetype": "text/x-python",
   "name": "python",
   "nbconvert_exporter": "python",
   "pygments_lexer": "ipython2",
   "version": "2.7.6"
  }
 },
 "nbformat": 4,
 "nbformat_minor": 0
}