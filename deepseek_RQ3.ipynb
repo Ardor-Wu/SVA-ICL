{
 "cells": [
  {
   "cell_type": "code",
   "execution_count": 26,
   "metadata": {
    "collapsed": true
   },
   "outputs": [],
   "source": [
    "from openai import OpenAI\n",
    "import pandas as pd\n",
    "from tqdm import tqdm\n",
    "import numpy as np\n",
    "import random\n",
    "import os"
   ]
  },
  {
   "cell_type": "code",
   "execution_count": 27,
   "outputs": [],
   "source": [
    "client = OpenAI(api_key=\"sk-8ef802ecf369455abb05e9651f57ae69\", base_url=\"https://api.deepseek.com\")"
   ],
   "metadata": {
    "collapsed": false,
    "pycharm": {
     "name": "#%%\n"
    }
   }
  },
  {
   "cell_type": "code",
   "execution_count": 28,
   "outputs": [],
   "source": [
    "codes = pd.read_csv(\"./results3/7-3/3-code-10_2.csv\",header=None)"
   ],
   "metadata": {
    "collapsed": false,
    "pycharm": {
     "name": "#%%\n"
    }
   }
  },
  {
   "cell_type": "code",
   "execution_count": 29,
   "outputs": [],
   "source": [
    "descs = pd.read_csv(\"./results3/7-3/3-code-10_2_desc.csv\",header=None)"
   ],
   "metadata": {
    "collapsed": false,
    "pycharm": {
     "name": "#%%\n"
    }
   }
  },
  {
   "cell_type": "code",
   "execution_count": 30,
   "outputs": [],
   "source": [
    "bscores = pd.read_csv(\"./results3/7-3/3-code-10_2_bscore.csv\",header=None)"
   ],
   "metadata": {
    "collapsed": false,
    "pycharm": {
     "name": "#%%\n"
    }
   }
  },
  {
   "cell_type": "code",
   "execution_count": 31,
   "outputs": [],
   "source": [
    "bseveritys = pd.read_csv(\"./results3/7-3/3-code-10_2_bseverity.csv\",header=None)"
   ],
   "metadata": {
    "collapsed": false,
    "pycharm": {
     "name": "#%%\n"
    }
   }
  },
  {
   "cell_type": "code",
   "execution_count": 32,
   "outputs": [],
   "source": [
    "codes1 = codes[0]\n",
    "codes2 = codes[1]\n",
    "codes3 = codes[2]\n",
    "codes4 = codes[3]\n",
    "codes5 = codes[4]"
   ],
   "metadata": {
    "collapsed": false,
    "pycharm": {
     "name": "#%%\n"
    }
   }
  },
  {
   "cell_type": "code",
   "execution_count": 33,
   "outputs": [],
   "source": [
    "descs1 = descs[0]\n",
    "descs2 = descs[1]\n",
    "descs3 = descs[2]\n",
    "descs4 = descs[3]\n",
    "descs5 = descs[4]"
   ],
   "metadata": {
    "collapsed": false,
    "pycharm": {
     "name": "#%%\n"
    }
   }
  },
  {
   "cell_type": "code",
   "execution_count": 34,
   "outputs": [],
   "source": [
    "bscores1 = bscores[0]\n",
    "bscores2 = bscores[1]\n",
    "bscores3 = bscores[2]\n",
    "bscores4 = bscores[3]\n",
    "bscores5 = bscores[4]"
   ],
   "metadata": {
    "collapsed": false,
    "pycharm": {
     "name": "#%%\n"
    }
   }
  },
  {
   "cell_type": "code",
   "execution_count": 35,
   "outputs": [],
   "source": [
    "bseveritys1 = bseveritys[0]\n",
    "bseveritys2 = bseveritys[1]\n",
    "bseveritys3 = bseveritys[2]\n",
    "bseveritys4 = bseveritys[3]\n",
    "bseveritys5 = bseveritys[4]"
   ],
   "metadata": {
    "collapsed": false,
    "pycharm": {
     "name": "#%%\n"
    }
   }
  },
  {
   "cell_type": "code",
   "execution_count": 36,
   "outputs": [],
   "source": [
    "df = pd.read_csv('./dataset/test/test_code.csv', header=None)"
   ],
   "metadata": {
    "collapsed": false,
    "pycharm": {
     "name": "#%%\n"
    }
   }
  },
  {
   "cell_type": "code",
   "execution_count": 37,
   "outputs": [],
   "source": [
    "test_codes = df[0].tolist()"
   ],
   "metadata": {
    "collapsed": false,
    "pycharm": {
     "name": "#%%\n"
    }
   }
  },
  {
   "cell_type": "code",
   "execution_count": 38,
   "outputs": [],
   "source": [
    "df = pd.read_csv('./dataset/test/test_desc.csv', header=None)"
   ],
   "metadata": {
    "collapsed": false,
    "pycharm": {
     "name": "#%%\n"
    }
   }
  },
  {
   "cell_type": "code",
   "execution_count": 39,
   "outputs": [],
   "source": [
    "test_descs = df[0].tolist()"
   ],
   "metadata": {
    "collapsed": false,
    "pycharm": {
     "name": "#%%\n"
    }
   }
  },
  {
   "cell_type": "code",
   "execution_count": 40,
   "outputs": [],
   "source": [
    "import tiktoken\n",
    "encoder = tiktoken.get_encoding(\"cl100k_base\")\n",
    "def cut_text_to_fit_token_limit(text, max_tokens):\n",
    "    tokens = encoder.encode(text)\n",
    "    if len(tokens) > max_tokens:\n",
    "        tokens = tokens[:max_tokens]\n",
    "        truncated_text = encoder.decode(tokens)\n",
    "        return truncated_text\n",
    "    return text"
   ],
   "metadata": {
    "collapsed": false,
    "pycharm": {
     "name": "#%%\n"
    }
   }
  },
  {
   "cell_type": "code",
   "execution_count": 41,
   "outputs": [],
   "source": [
    "def get_token_count(text):\n",
    "    \"\"\"\n",
    "    计算输入文本的token数量\n",
    "\n",
    "    参数:\n",
    "    text (str): 输入的文本\n",
    "\n",
    "    返回:\n",
    "    int: 文本的token数量\n",
    "    \"\"\"\n",
    "    # 使用编码器计算tokens\n",
    "    tokens = encoder.encode(text)\n",
    "    num_tokens = len(tokens)\n",
    "\n",
    "    return num_tokens"
   ],
   "metadata": {
    "collapsed": false,
    "pycharm": {
     "name": "#%%\n"
    }
   }
  },
  {
   "cell_type": "code",
   "execution_count": 42,
   "outputs": [],
   "source": [
    "max_tokens = 32600\n",
    "# 32768\n",
    "n = 6\n",
    "per_tokens = max_tokens//n+1\n",
    "for i in range(len(codes1)):\n",
    "    codes1[i] = cut_text_to_fit_token_limit(codes1[i] ,per_tokens)\n",
    "    codes2[i] = cut_text_to_fit_token_limit(codes2[i] ,per_tokens)\n",
    "    codes3[i] = cut_text_to_fit_token_limit(codes3[i] ,per_tokens)\n",
    "    codes4[i] = cut_text_to_fit_token_limit(codes4[i] ,per_tokens)\n",
    "    codes5[i] = cut_text_to_fit_token_limit(codes5[i] ,per_tokens)\n",
    "\n",
    "    descs1[i] = cut_text_to_fit_token_limit(descs1[i] ,per_tokens)\n",
    "    descs2[i] = cut_text_to_fit_token_limit(descs2[i] ,per_tokens)\n",
    "    descs3[i] = cut_text_to_fit_token_limit(descs3[i] ,per_tokens)\n",
    "    descs4[i] = cut_text_to_fit_token_limit(descs4[i] ,per_tokens)\n",
    "    descs5[i] = cut_text_to_fit_token_limit(descs5[i] ,per_tokens)"
   ],
   "metadata": {
    "collapsed": false,
    "pycharm": {
     "name": "#%%\n"
    }
   }
  },
  {
   "cell_type": "code",
   "execution_count": 43,
   "outputs": [],
   "source": [
    "# demo_ins = \"I will give you some demo examples that include the vulnerability code and a description of the vulnerability, as well as the severity level of the vulnerability. At the end of the demo, I will give you a test example that includes the vulnerability code and a description of the vulnerability. You only need to output the severity level of the vulnerability of the test example code and description, without outputting the corresponding explanation, or the vulnerability level of the previous demo examples.\\n\"\n",
    "\n",
    "demo_ins = \"I will give you a test example that includes the vulnerability code and a description of the vulnerability. You only need to output the severity level of the vulnerability of the test example code and description, without outputting the corresponding explanation.\\n\"\n",
    "\n",
    "demo1 = \"Demo 1:\\n\"\n",
    "demo2 = \"Demo 2:\\n\"\n",
    "demo3 = \"Demo 3:\\n\"\n",
    "demo4 = \"Demo 4:\\n\"\n",
    "demo5 = \"Demo 5:\\n\"\n",
    "demos = []\n",
    "test = \"Test 1:\\n\"\n",
    "demos.append(demo1)\n",
    "demos.append(demo2)\n",
    "demos.append(demo3)\n",
    "demos.append(demo4)\n",
    "demos.append(demo5)\n",
    "\n",
    "instruct = \"Determine Base Severity of the vulnerability code based on the following vulnerable code (a function) and the textual description of the vulnerability.\\n\"\n",
    "# the Base Score and\n",
    "input_insturction = ' [input] '\n",
    "output_insturction = ' [output] '"
   ],
   "metadata": {
    "collapsed": false,
    "pycharm": {
     "name": "#%%\n"
    }
   }
  },
  {
   "cell_type": "code",
   "execution_count": 44,
   "outputs": [],
   "source": [
    "def comment(prompt):\n",
    "#     nn = len(code)\n",
    "#     prompt = \"\"\n",
    "#     for i in range(nn):\n",
    "#         prompt += instruct\n",
    "#         prompt += input_insturction\n",
    "#         prompt += \"Code: \"\n",
    "#         prompt += code[i]\n",
    "#         prompt += \"\\n\"\n",
    "#         prompt += \"Description: \"\n",
    "#         prompt += desc[i]\n",
    "#         prompt += \"\\n\"\n",
    "#         prompt += output_insturction\n",
    "#         if i < nn-1:\n",
    "# #             prompt += \"Base Score:\"\n",
    "# #             prompt += Base_Score[i]\n",
    "# #             prompt += \"\\n\"\n",
    "#             prompt += \"Base Severity:\"\n",
    "#             prompt += Base_Severity[i]\n",
    "#             prompt += \"\\n\\n\"\n",
    "\n",
    "    # prompt = 'Here is an incomplete title for a Stack Overflow post:\\n' + incomplete_title + \\\n",
    "    #          '\\nHere is a description of the post:\\n' + description + \\\n",
    "    #          '\\nHere is the code for this post:\\n' + code + \\\n",
    "    #          '\\nHere is the final title(you just need to output the content after the incomplete title, without generating the incomplete title section in front):\\n'\n",
    "\n",
    "    response = client.chat.completions.create(\n",
    "        model=\"deepseek-chat\",\n",
    "        messages=[\n",
    "            {\"role\": \"system\", \"content\": \"You are an expert in code vulnerability assessment, and you will rate the vulnerabilities based on the following scoring criteria:\\n\"+\\\n",
    "                                          \"0.1-3.9:LOW, 4.0–6.9:Medium, 7.0–8.9:High, 9.0–10.0:Critical\"},\n",
    "            {\"role\": \"user\", \"content\": prompt},\n",
    "        ],\n",
    "        temperature=0\n",
    "    )\n",
    "\n",
    "    return response.choices[0].message.content"
   ],
   "metadata": {
    "collapsed": false,
    "pycharm": {
     "name": "#%%\n"
    }
   }
  },
  {
   "cell_type": "code",
   "execution_count": 45,
   "outputs": [],
   "source": [
    "import time\n",
    "import math"
   ],
   "metadata": {
    "collapsed": false,
    "pycharm": {
     "name": "#%%\n"
    }
   }
  },
  {
   "cell_type": "code",
   "execution_count": 46,
   "outputs": [],
   "source": [
    "# zero shot\n",
    "\n",
    "# import sys\n",
    "# fail = []\n",
    "# have_money = 1\n",
    "# num_batches = math.ceil(len(test_codes) / 100)\n",
    "# for batch_index in range(num_batches):\n",
    "#     start_index = batch_index * 100\n",
    "#     end_index = min(start_index + 100, len(test_codes))\n",
    "#     print(start_index)\n",
    "#     # codes_batch = test_codes[start_index:end_index]\n",
    "#     # descs_batch = test_descs[start_index:end_index]\n",
    "#     for i in tqdm(range(start_index, end_index)):\n",
    "#         ans = []\n",
    "#         pro = []\n",
    "#\n",
    "#         para_codes = []\n",
    "#         para_codes.append(codes4[i])\n",
    "#         para_codes.append(codes3[i])\n",
    "#         para_codes.append(codes2[i])\n",
    "#         para_codes.append(codes1[i])\n",
    "#         para_codes.append(test_codes[i])\n",
    "#\n",
    "#         para_descs = []\n",
    "#         para_descs.append(descs4[i])\n",
    "#         para_descs.append(descs3[i])\n",
    "#         para_descs.append(descs2[i])\n",
    "#         para_descs.append(descs1[i])\n",
    "#         para_descs.append(test_descs[i])\n",
    "#\n",
    "#         para_bscores = []\n",
    "#         para_bscores.append(bscores4[i])\n",
    "#         para_bscores.append(bscores3[i])\n",
    "#         para_bscores.append(bscores3[i])\n",
    "#         para_bscores.append(bscores1[i])\n",
    "#\n",
    "#         para_bseveritys = []\n",
    "#         para_bseveritys.append(bseveritys4[i])\n",
    "#         para_bseveritys.append(bseveritys3[i])\n",
    "#         para_bseveritys.append(bseveritys2[i])\n",
    "#         para_bseveritys.append(bseveritys1[i])\n",
    "#\n",
    "#         success = 0\n",
    "#         fail_count = 0\n",
    "#\n",
    "#         nn = len(para_codes)\n",
    "#         prompt = \"\"\n",
    "#         prompt += demo_ins\n",
    "#         prompt += test\n",
    "#         prompt += instruct\n",
    "#         prompt += input_insturction\n",
    "#         prompt += \"Code: \"\n",
    "#         prompt += para_codes[-1]\n",
    "#         # print(para_codes[-1]==test_codes[i])\n",
    "#         prompt += \"\\n\"\n",
    "#         prompt += \"Description: \"\n",
    "#         prompt += para_descs[-1]\n",
    "#         prompt += \"\\n\"\n",
    "#         prompt += output_insturction\n",
    "#\n",
    "#         pro.append(prompt)\n",
    "#         # print(prompt)\n",
    "#         while success!=1:\n",
    "#             try:\n",
    "#                 ans.append(comment(prompt))\n",
    "#                 success = 1\n",
    "#                 time.sleep(2)\n",
    "#             except Exception as e:\n",
    "#                 info = e.args[0]\n",
    "#                 print(\"Error: \", info)\n",
    "#                 if str(info).find(\"402\") != -1:\n",
    "#                     print(\"402 Error encountered. Exiting program.\")\n",
    "#                     sys.exit(1)\n",
    "#                 time.sleep(2)\n",
    "#                 fail_count += 1\n",
    "#             if fail_count>5:\n",
    "#                 fail.append(i)\n",
    "#                 ans.append(\"ERROR\")\n",
    "#                 break\n",
    "#         # time.sleep(5)\n",
    "#         if have_money == 0:\n",
    "#             break\n",
    "#         if get_token_count(pro[0]) > max_tokens:\n",
    "#             print(\"-----\",i,\"-----\")\n",
    "#         df = pd.DataFrame(ans)\n",
    "#         ddf = pd.DataFrame(pro)\n",
    "#         if batch_index == 0 and i == 0:\n",
    "#             df.to_csv('./results_RQ3/results_RQ3_deepseek/zero_shot/answers.csv', index=False, header=None, lineterminator='\\n')\n",
    "#             ddf.to_csv('./results_RQ3/results_RQ3_deepseek/zero_shot/prompts.csv', index=False, header=None, lineterminator='\\n')\n",
    "#         else:\n",
    "#             with open('./results_RQ3/results_RQ3_deepseek/zero_shot/answers.csv', 'a', encoding='utf-8') as f:\n",
    "#                 df.to_csv(f, index=False, header=None, lineterminator='\\n')\n",
    "#             with open('./results_RQ3/results_RQ3_deepseek/zero_shot/prompts.csv', 'a', encoding='utf-8') as f:\n",
    "#                 ddf.to_csv(f, index=False, header=None, lineterminator='\\n')\n",
    "#     if have_money == 0:\n",
    "#         break\n",
    "# ddd = pd.DataFrame(fail)\n",
    "# ddd.to_csv('./results_RQ3/results_RQ3_deepseek/zero_shot/fail.csv', index=False, header=None, lineterminator='\\n')"
   ],
   "metadata": {
    "collapsed": false,
    "pycharm": {
     "name": "#%%\n"
    }
   }
  },
  {
   "cell_type": "code",
   "execution_count": 47,
   "outputs": [
    {
     "name": "stdout",
     "output_type": "stream",
     "text": [
      "0\n"
     ]
    },
    {
     "name": "stderr",
     "output_type": "stream",
     "text": [
      "100%|██████████| 100/100 [05:33<00:00,  3.34s/it]\n"
     ]
    },
    {
     "name": "stdout",
     "output_type": "stream",
     "text": [
      "100\n"
     ]
    },
    {
     "name": "stderr",
     "output_type": "stream",
     "text": [
      "100%|██████████| 100/100 [05:35<00:00,  3.36s/it]\n"
     ]
    },
    {
     "name": "stdout",
     "output_type": "stream",
     "text": [
      "200\n"
     ]
    },
    {
     "name": "stderr",
     "output_type": "stream",
     "text": [
      "100%|██████████| 100/100 [05:36<00:00,  3.36s/it]\n"
     ]
    },
    {
     "name": "stdout",
     "output_type": "stream",
     "text": [
      "300\n"
     ]
    },
    {
     "name": "stderr",
     "output_type": "stream",
     "text": [
      "100%|██████████| 100/100 [05:44<00:00,  3.44s/it]\n"
     ]
    },
    {
     "name": "stdout",
     "output_type": "stream",
     "text": [
      "400\n"
     ]
    },
    {
     "name": "stderr",
     "output_type": "stream",
     "text": [
      "100%|██████████| 100/100 [05:48<00:00,  3.48s/it]\n"
     ]
    },
    {
     "name": "stdout",
     "output_type": "stream",
     "text": [
      "500\n"
     ]
    },
    {
     "name": "stderr",
     "output_type": "stream",
     "text": [
      "100%|██████████| 100/100 [05:26<00:00,  3.27s/it]\n"
     ]
    },
    {
     "name": "stdout",
     "output_type": "stream",
     "text": [
      "600\n"
     ]
    },
    {
     "name": "stderr",
     "output_type": "stream",
     "text": [
      "100%|██████████| 100/100 [05:31<00:00,  3.32s/it]\n"
     ]
    },
    {
     "name": "stdout",
     "output_type": "stream",
     "text": [
      "700\n"
     ]
    },
    {
     "name": "stderr",
     "output_type": "stream",
     "text": [
      "100%|██████████| 100/100 [05:40<00:00,  3.41s/it]\n"
     ]
    },
    {
     "name": "stdout",
     "output_type": "stream",
     "text": [
      "800\n"
     ]
    },
    {
     "name": "stderr",
     "output_type": "stream",
     "text": [
      "100%|██████████| 100/100 [05:23<00:00,  3.24s/it]\n"
     ]
    },
    {
     "name": "stdout",
     "output_type": "stream",
     "text": [
      "900\n"
     ]
    },
    {
     "name": "stderr",
     "output_type": "stream",
     "text": [
      "100%|██████████| 100/100 [05:34<00:00,  3.35s/it]\n"
     ]
    },
    {
     "name": "stdout",
     "output_type": "stream",
     "text": [
      "1000\n"
     ]
    },
    {
     "name": "stderr",
     "output_type": "stream",
     "text": [
      "100%|██████████| 100/100 [05:39<00:00,  3.40s/it]\n"
     ]
    },
    {
     "name": "stdout",
     "output_type": "stream",
     "text": [
      "1100\n"
     ]
    },
    {
     "name": "stderr",
     "output_type": "stream",
     "text": [
      "100%|██████████| 100/100 [05:32<00:00,  3.33s/it]\n"
     ]
    },
    {
     "name": "stdout",
     "output_type": "stream",
     "text": [
      "1200\n"
     ]
    },
    {
     "name": "stderr",
     "output_type": "stream",
     "text": [
      "100%|██████████| 8/8 [00:26<00:00,  3.26s/it]\n"
     ]
    }
   ],
   "source": [
    "import sys\n",
    "fail = []\n",
    "have_money = 1\n",
    "num_batches = math.ceil(len(test_codes) / 100)\n",
    "for batch_index in range(num_batches):\n",
    "    start_index = batch_index * 100\n",
    "    end_index = min(start_index + 100, len(test_codes))\n",
    "    print(start_index)\n",
    "    # codes_batch = test_codes[start_index:end_index]\n",
    "    # descs_batch = test_descs[start_index:end_index]\n",
    "    for i in tqdm(range(start_index, end_index)):\n",
    "        ans = []\n",
    "        pro = []\n",
    "\n",
    "        para_codes = []\n",
    "        para_codes.append(codes5[i])\n",
    "        para_codes.append(codes4[i])\n",
    "        para_codes.append(codes3[i])\n",
    "        para_codes.append(codes2[i])\n",
    "        para_codes.append(codes1[i])\n",
    "        para_codes.append(test_codes[i])\n",
    "\n",
    "        para_descs = []\n",
    "        para_descs.append(descs5[i])\n",
    "        para_descs.append(descs4[i])\n",
    "        para_descs.append(descs3[i])\n",
    "        para_descs.append(descs2[i])\n",
    "        para_descs.append(descs1[i])\n",
    "        para_descs.append(test_descs[i])\n",
    "\n",
    "        para_bscores = []\n",
    "        para_bscores.append(bscores5[i])\n",
    "        para_bscores.append(bscores4[i])\n",
    "        para_bscores.append(bscores3[i])\n",
    "        para_bscores.append(bscores3[i])\n",
    "        para_bscores.append(bscores1[i])\n",
    "\n",
    "        para_bseveritys = []\n",
    "        para_bseveritys.append(bseveritys5[i])\n",
    "        para_bseveritys.append(bseveritys4[i])\n",
    "        para_bseveritys.append(bseveritys3[i])\n",
    "        para_bseveritys.append(bseveritys2[i])\n",
    "        para_bseveritys.append(bseveritys1[i])\n",
    "\n",
    "        success = 0\n",
    "        fail_count = 0\n",
    "\n",
    "        nn = len(para_codes)\n",
    "        prompt = \"\"\n",
    "        prompt += demo_ins\n",
    "        for j in range(nn-2,nn):\n",
    "            if j < nn-1:\n",
    "                prompt += demos[j]\n",
    "            else:\n",
    "                prompt += test\n",
    "            prompt += instruct\n",
    "            prompt += input_insturction\n",
    "            prompt += \"Code: \"\n",
    "            prompt += para_codes[j]\n",
    "            prompt += \"\\n\"\n",
    "            prompt += \"Description: \"\n",
    "            prompt += para_descs[j]\n",
    "            prompt += \"\\n\"\n",
    "            prompt += output_insturction\n",
    "            if j < nn-1:\n",
    "    #             prompt += \"Base Score:\"\n",
    "    #             prompt += Base_Score[i]\n",
    "    #             prompt += \"\\n\"\n",
    "                prompt += \"Base Severity:\"\n",
    "                prompt += para_bseveritys[j]\n",
    "                prompt += \"\\n\\n\"\n",
    "        pro.append(prompt)\n",
    "        while success!=1:\n",
    "            try:\n",
    "                ans.append(comment(prompt))\n",
    "                success = 1\n",
    "                time.sleep(2)\n",
    "            except Exception as e:\n",
    "                info = e.args[0]\n",
    "                print(\"Error: \", info)\n",
    "                if str(info).find(\"402\") != -1:\n",
    "                    print(\"402 Error encountered. Exiting program.\")\n",
    "                    sys.exit(1)\n",
    "                time.sleep(2)\n",
    "                fail_count += 1\n",
    "            if fail_count>5:\n",
    "                fail.append(i)\n",
    "                ans.append(\"ERROR\")\n",
    "                break\n",
    "        # time.sleep(5)\n",
    "        if have_money == 0:\n",
    "            break\n",
    "        if get_token_count(pro[0]) > max_tokens:\n",
    "            print(\"-----\",i,\"-----\")\n",
    "        df = pd.DataFrame(ans)\n",
    "        ddf = pd.DataFrame(pro)\n",
    "        if batch_index == 0 and i == 0:\n",
    "            df.to_csv('./results_RQ3/results_RQ3_deepseek/five_shot/answers.csv', index=False, header=None, lineterminator='\\n')\n",
    "            ddf.to_csv('./results_RQ3/results_RQ3_deepseek/five_shot/prompts.csv', index=False, header=None, lineterminator='\\n')\n",
    "        else:\n",
    "            with open('./results_RQ3/results_RQ3_deepseek/five_shot/answers.csv', 'a', encoding='utf-8') as f:\n",
    "                df.to_csv(f, index=False, header=None, lineterminator='\\n')\n",
    "            with open('./results_RQ3/results_RQ3_deepseek/five_shot/prompts.csv', 'a', encoding='utf-8') as f:\n",
    "                ddf.to_csv(f, index=False, header=None, lineterminator='\\n')\n",
    "    if have_money == 0:\n",
    "        break\n",
    "ddd = pd.DataFrame(fail)\n",
    "ddd.to_csv('./results_RQ3/results_RQ3_deepseek/five_shot/fail.csv', index=False, header=None, lineterminator='\\n')"
   ],
   "metadata": {
    "collapsed": false,
    "pycharm": {
     "name": "#%%\n"
    }
   }
  },
  {
   "cell_type": "code",
   "execution_count": null,
   "outputs": [],
   "source": [],
   "metadata": {
    "collapsed": false,
    "pycharm": {
     "name": "#%%\n"
    }
   }
  }
 ],
 "metadata": {
  "kernelspec": {
   "name": "topic_jupyter",
   "language": "python",
   "display_name": "topic_jupyter"
  },
  "language_info": {
   "codemirror_mode": {
    "name": "ipython",
    "version": 2
   },
   "file_extension": ".py",
   "mimetype": "text/x-python",
   "name": "python",
   "nbconvert_exporter": "python",
   "pygments_lexer": "ipython2",
   "version": "2.7.6"
  }
 },
 "nbformat": 4,
 "nbformat_minor": 0
}