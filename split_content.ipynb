{
 "cells": [
  {
   "cell_type": "code",
   "execution_count": 57,
   "metadata": {
    "collapsed": true
   },
   "outputs": [],
   "source": [
    "import pandas as pd"
   ]
  },
  {
   "cell_type": "code",
   "execution_count": 58,
   "outputs": [],
   "source": [
    "data = pd.read_excel(\"./dataset3/train/train_all.xlsx\")"
   ],
   "metadata": {
    "collapsed": false,
    "pycharm": {
     "name": "#%%\n"
    }
   }
  },
  {
   "cell_type": "code",
   "execution_count": 59,
   "outputs": [
    {
     "data": {
      "text/plain": "              cve_id                                        func_before  \\\n0     CVE-2023-38850  static void write_html_body( FILE        *out,...   \n1     CVE-2017-15587  static void pdf_read_new_xref_section(fz_conte...   \n2     CVE-2023-36364  static int rel_deps(mvc *sql, sql_rel *r, list...   \n3     CVE-2019-19319  int ext4_setup_system_zone(struct super_block ...   \n4     CVE-2019-19948  static MagickBooleanType WriteSGIImage(const I...   \n...              ...                                                ...   \n9651  CVE-2019-12448  static void do_query_info (GVfsBackend *backen...   \n9652  CVE-2018-10853  static int linear_read_system(struct x86_emula...   \n9653  CVE-2020-27670  static unsigned int clear_iommu_pte_present(un...   \n9654  CVE-2019-19082  struct resource_pool *dce100_create_resource_p...   \n9655  CVE-2023-42801  static void inputSendThreadProc(void* context)...   \n\n                                            description  Base Score  \\\n0     Buffer Overflow vulnerability in Michaelrsweet...         5.5   \n1     An integer overflow was discovered in pdf_read...         7.8   \n2     An issue in the rel_deps component of MonetDB ...         7.5   \n3     In the Linux kernel before 5.2, a setxattr ope...         6.5   \n4     In ImageMagick 7.0.8-43 Q16, there is a heap-b...         9.8   \n...                                                 ...         ...   \n9651  An issue was discovered in GNOME gvfs 1.29.4 t...         8.1   \n9652  A flaw was found in the way Linux kernel KVM h...         7.0   \n9653  An issue was discovered in Xen through 4.14.x ...         7.8   \n9654  Memory leaks in *create_resource_pool() functi...         4.7   \n9655  Moonlight-common-c contains the core GameStrea...         7.6   \n\n     Base Severity  \n0           MEDIUM  \n1             HIGH  \n2             HIGH  \n3           MEDIUM  \n4         CRITICAL  \n...            ...  \n9651          HIGH  \n9652          HIGH  \n9653          HIGH  \n9654        MEDIUM  \n9655          HIGH  \n\n[9656 rows x 5 columns]",
      "text/html": "<div>\n<style scoped>\n    .dataframe tbody tr th:only-of-type {\n        vertical-align: middle;\n    }\n\n    .dataframe tbody tr th {\n        vertical-align: top;\n    }\n\n    .dataframe thead th {\n        text-align: right;\n    }\n</style>\n<table border=\"1\" class=\"dataframe\">\n  <thead>\n    <tr style=\"text-align: right;\">\n      <th></th>\n      <th>cve_id</th>\n      <th>func_before</th>\n      <th>description</th>\n      <th>Base Score</th>\n      <th>Base Severity</th>\n    </tr>\n  </thead>\n  <tbody>\n    <tr>\n      <th>0</th>\n      <td>CVE-2023-38850</td>\n      <td>static void write_html_body( FILE        *out,...</td>\n      <td>Buffer Overflow vulnerability in Michaelrsweet...</td>\n      <td>5.5</td>\n      <td>MEDIUM</td>\n    </tr>\n    <tr>\n      <th>1</th>\n      <td>CVE-2017-15587</td>\n      <td>static void pdf_read_new_xref_section(fz_conte...</td>\n      <td>An integer overflow was discovered in pdf_read...</td>\n      <td>7.8</td>\n      <td>HIGH</td>\n    </tr>\n    <tr>\n      <th>2</th>\n      <td>CVE-2023-36364</td>\n      <td>static int rel_deps(mvc *sql, sql_rel *r, list...</td>\n      <td>An issue in the rel_deps component of MonetDB ...</td>\n      <td>7.5</td>\n      <td>HIGH</td>\n    </tr>\n    <tr>\n      <th>3</th>\n      <td>CVE-2019-19319</td>\n      <td>int ext4_setup_system_zone(struct super_block ...</td>\n      <td>In the Linux kernel before 5.2, a setxattr ope...</td>\n      <td>6.5</td>\n      <td>MEDIUM</td>\n    </tr>\n    <tr>\n      <th>4</th>\n      <td>CVE-2019-19948</td>\n      <td>static MagickBooleanType WriteSGIImage(const I...</td>\n      <td>In ImageMagick 7.0.8-43 Q16, there is a heap-b...</td>\n      <td>9.8</td>\n      <td>CRITICAL</td>\n    </tr>\n    <tr>\n      <th>...</th>\n      <td>...</td>\n      <td>...</td>\n      <td>...</td>\n      <td>...</td>\n      <td>...</td>\n    </tr>\n    <tr>\n      <th>9651</th>\n      <td>CVE-2019-12448</td>\n      <td>static void do_query_info (GVfsBackend *backen...</td>\n      <td>An issue was discovered in GNOME gvfs 1.29.4 t...</td>\n      <td>8.1</td>\n      <td>HIGH</td>\n    </tr>\n    <tr>\n      <th>9652</th>\n      <td>CVE-2018-10853</td>\n      <td>static int linear_read_system(struct x86_emula...</td>\n      <td>A flaw was found in the way Linux kernel KVM h...</td>\n      <td>7.0</td>\n      <td>HIGH</td>\n    </tr>\n    <tr>\n      <th>9653</th>\n      <td>CVE-2020-27670</td>\n      <td>static unsigned int clear_iommu_pte_present(un...</td>\n      <td>An issue was discovered in Xen through 4.14.x ...</td>\n      <td>7.8</td>\n      <td>HIGH</td>\n    </tr>\n    <tr>\n      <th>9654</th>\n      <td>CVE-2019-19082</td>\n      <td>struct resource_pool *dce100_create_resource_p...</td>\n      <td>Memory leaks in *create_resource_pool() functi...</td>\n      <td>4.7</td>\n      <td>MEDIUM</td>\n    </tr>\n    <tr>\n      <th>9655</th>\n      <td>CVE-2023-42801</td>\n      <td>static void inputSendThreadProc(void* context)...</td>\n      <td>Moonlight-common-c contains the core GameStrea...</td>\n      <td>7.6</td>\n      <td>HIGH</td>\n    </tr>\n  </tbody>\n</table>\n<p>9656 rows × 5 columns</p>\n</div>"
     },
     "execution_count": 59,
     "metadata": {},
     "output_type": "execute_result"
    }
   ],
   "source": [
    "data"
   ],
   "metadata": {
    "collapsed": false,
    "pycharm": {
     "name": "#%%\n"
    }
   }
  },
  {
   "cell_type": "code",
   "execution_count": 60,
   "outputs": [],
   "source": [
    "col = data[\"Base Severity\"]"
   ],
   "metadata": {
    "collapsed": false,
    "pycharm": {
     "name": "#%%\n"
    }
   }
  },
  {
   "cell_type": "code",
   "execution_count": 61,
   "outputs": [],
   "source": [
    "col.to_csv(\"./dataset3/train/train_bseveritys.csv\", header=False, index=False)"
   ],
   "metadata": {
    "collapsed": false,
    "pycharm": {
     "name": "#%%\n"
    }
   }
  },
  {
   "cell_type": "code",
   "execution_count": 62,
   "outputs": [],
   "source": [
    "col = data[\"Base Score\"]"
   ],
   "metadata": {
    "collapsed": false,
    "pycharm": {
     "name": "#%%\n"
    }
   }
  },
  {
   "cell_type": "code",
   "execution_count": 63,
   "outputs": [],
   "source": [
    "col.to_csv(\"./dataset3/train/train_bscore.csv\", header=False, index=False)"
   ],
   "metadata": {
    "collapsed": false,
    "pycharm": {
     "name": "#%%\n"
    }
   }
  },
  {
   "cell_type": "code",
   "execution_count": 64,
   "outputs": [],
   "source": [
    "col = data[\"func_before\"]"
   ],
   "metadata": {
    "collapsed": false,
    "pycharm": {
     "name": "#%%\n"
    }
   }
  },
  {
   "cell_type": "code",
   "execution_count": 65,
   "outputs": [],
   "source": [
    "col.to_csv(\"./dataset3/train/train_code.csv\", header=False, index=False)"
   ],
   "metadata": {
    "collapsed": false,
    "pycharm": {
     "name": "#%%\n"
    }
   }
  },
  {
   "cell_type": "code",
   "execution_count": 66,
   "outputs": [],
   "source": [
    "col = data[\"description\"]"
   ],
   "metadata": {
    "collapsed": false,
    "pycharm": {
     "name": "#%%\n"
    }
   }
  },
  {
   "cell_type": "code",
   "execution_count": 67,
   "outputs": [],
   "source": [
    "col.to_csv(\"./dataset3/train/train_desc.csv\", header=False, index=False)"
   ],
   "metadata": {
    "collapsed": false,
    "pycharm": {
     "name": "#%%\n"
    }
   }
  },
  {
   "cell_type": "code",
   "execution_count": null,
   "outputs": [],
   "source": [],
   "metadata": {
    "collapsed": false,
    "pycharm": {
     "name": "#%%\n"
    }
   }
  }
 ],
 "metadata": {
  "kernelspec": {
   "name": "funcgnn_jupyter",
   "language": "python",
   "display_name": "funcGNN_jupyter"
  },
  "language_info": {
   "codemirror_mode": {
    "name": "ipython",
    "version": 2
   },
   "file_extension": ".py",
   "mimetype": "text/x-python",
   "name": "python",
   "nbconvert_exporter": "python",
   "pygments_lexer": "ipython2",
   "version": "2.7.6"
  }
 },
 "nbformat": 4,
 "nbformat_minor": 0
}