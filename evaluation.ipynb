{
 "cells": [
  {
   "cell_type": "code",
   "execution_count": 245,
   "metadata": {
    "collapsed": true
   },
   "outputs": [],
   "source": [
    "import time\n",
    "\n",
    "import pandas as pd\n",
    "from sklearn.metrics import accuracy_score, precision_recall_fscore_support, precision_score, recall_score, f1_score, \\\n",
    "    matthews_corrcoef"
   ]
  },
  {
   "cell_type": "code",
   "execution_count": 246,
   "outputs": [],
   "source": [
    "# data1 = pd.read_csv(\"./results_RQ3/results_RQ3_deepseek/one_shot/answers.csv\",header=None)\n",
    "data1 = pd.read_csv(\"./results/10-0/answers.csv\",header=None)\n",
    "# ,encoding='ISO-8859-1'\n",
    "# data1 = pd.read_csv(\"./results/answers.csv\",header=None)"
   ],
   "metadata": {
    "collapsed": false,
    "pycharm": {
     "name": "#%%\n"
    }
   }
  },
  {
   "cell_type": "code",
   "execution_count": 247,
   "outputs": [
    {
     "data": {
      "text/plain": "                         0\n0       Base Severity:HIGH\n1       Base Severity:HIGH\n2       Base Severity:HIGH\n3     Base Severity:MEDIUM\n4       Base Severity:HIGH\n...                    ...\n1203  Base Severity:MEDIUM\n1204                  HIGH\n1205    Base Severity:HIGH\n1206    Base Severity:HIGH\n1207  Base Severity:MEDIUM\n\n[1208 rows x 1 columns]",
      "text/html": "<div>\n<style scoped>\n    .dataframe tbody tr th:only-of-type {\n        vertical-align: middle;\n    }\n\n    .dataframe tbody tr th {\n        vertical-align: top;\n    }\n\n    .dataframe thead th {\n        text-align: right;\n    }\n</style>\n<table border=\"1\" class=\"dataframe\">\n  <thead>\n    <tr style=\"text-align: right;\">\n      <th></th>\n      <th>0</th>\n    </tr>\n  </thead>\n  <tbody>\n    <tr>\n      <th>0</th>\n      <td>Base Severity:HIGH</td>\n    </tr>\n    <tr>\n      <th>1</th>\n      <td>Base Severity:HIGH</td>\n    </tr>\n    <tr>\n      <th>2</th>\n      <td>Base Severity:HIGH</td>\n    </tr>\n    <tr>\n      <th>3</th>\n      <td>Base Severity:MEDIUM</td>\n    </tr>\n    <tr>\n      <th>4</th>\n      <td>Base Severity:HIGH</td>\n    </tr>\n    <tr>\n      <th>...</th>\n      <td>...</td>\n    </tr>\n    <tr>\n      <th>1203</th>\n      <td>Base Severity:MEDIUM</td>\n    </tr>\n    <tr>\n      <th>1204</th>\n      <td>HIGH</td>\n    </tr>\n    <tr>\n      <th>1205</th>\n      <td>Base Severity:HIGH</td>\n    </tr>\n    <tr>\n      <th>1206</th>\n      <td>Base Severity:HIGH</td>\n    </tr>\n    <tr>\n      <th>1207</th>\n      <td>Base Severity:MEDIUM</td>\n    </tr>\n  </tbody>\n</table>\n<p>1208 rows × 1 columns</p>\n</div>"
     },
     "execution_count": 247,
     "metadata": {},
     "output_type": "execute_result"
    }
   ],
   "source": [
    "data1"
   ],
   "metadata": {
    "collapsed": false,
    "pycharm": {
     "name": "#%%\n"
    }
   }
  },
  {
   "cell_type": "code",
   "execution_count": 248,
   "outputs": [],
   "source": [
    "temp = data1[0]"
   ],
   "metadata": {
    "collapsed": false,
    "pycharm": {
     "name": "#%%\n"
    }
   }
  },
  {
   "cell_type": "code",
   "execution_count": 249,
   "outputs": [
    {
     "data": {
      "text/plain": "'Base Severity:HIGH'"
     },
     "execution_count": 249,
     "metadata": {},
     "output_type": "execute_result"
    }
   ],
   "source": [
    "temp[0]"
   ],
   "metadata": {
    "collapsed": false,
    "pycharm": {
     "name": "#%%\n"
    }
   }
  },
  {
   "cell_type": "code",
   "execution_count": 250,
   "outputs": [],
   "source": [
    "import re\n",
    "\n",
    "def extract_severity(id,text,error):\n",
    "    # 如果文本中包含\"ERROR\"，直接返回\"HIGH\"\n",
    "    if \"ERROR\" in text:\n",
    "        error += 1\n",
    "        return \"MEDIUM\"\n",
    "\n",
    "     # 定义匹配模式\n",
    "    pattern = r'\\b(HIGH|LOW|CRITICAL|MEDIUM)\\b'\n",
    "\n",
    "    # 搜索文本中所有的匹配项\n",
    "    matches = re.findall(pattern, text, flags=re.IGNORECASE)\n",
    "\n",
    "    # 使用集合去重\n",
    "    unique_matches = set(matches)\n",
    "\n",
    "    # 检查唯一匹配项的数量\n",
    "    if len(unique_matches) == 1:\n",
    "        return matches[0]\n",
    "    elif len(unique_matches) == 0:\n",
    "        print(id)\n",
    "        print(text)\n",
    "        raise ValueError(\"Error: No severity level (HIGH, LOW, CRITICAL, MEDIUM) found in the text.\")\n",
    "    else:\n",
    "        return matches[0]\n"
   ],
   "metadata": {
    "collapsed": false,
    "pycharm": {
     "name": "#%%\n"
    }
   }
  },
  {
   "cell_type": "code",
   "execution_count": 251,
   "outputs": [],
   "source": [
    "# print(extract_severity(1,temp[13]))"
   ],
   "metadata": {
    "collapsed": false,
    "pycharm": {
     "name": "#%%\n"
    }
   }
  },
  {
   "cell_type": "code",
   "execution_count": 252,
   "outputs": [],
   "source": [
    "# # 示例文本\n",
    "# text1 = temp[0]\n",
    "# text2 = temp[1]\n",
    "#\n",
    "# # 提取基本严重性级别\n",
    "# severity1 = extract_severity(text1).upper()\n",
    "# severity2 = extract_severity(text2).upper()\n",
    "#\n",
    "# # 输出结果\n",
    "# print(\"示例1的基本严重性级别:\", severity1)\n",
    "# print(\"示例2的基本严重性级别:\", severity2)\n",
    "#\n",
    "# # 保存到列表中\n",
    "# severity_list = [severity1, severity2]\n",
    "# print(\"基本严重性级别列表:\", severity_list)"
   ],
   "metadata": {
    "collapsed": false,
    "pycharm": {
     "name": "#%%\n"
    }
   }
  },
  {
   "cell_type": "code",
   "execution_count": 253,
   "outputs": [
    {
     "name": "stdout",
     "output_type": "stream",
     "text": [
      "ERROR : 0\n"
     ]
    }
   ],
   "source": [
    "predicted = []\n",
    "error = 0\n",
    "for i in range(len(temp)):\n",
    "    severity = extract_severity(i,temp[i],error).upper()\n",
    "    predicted.append(severity)\n",
    "print(\"ERROR :\", error)"
   ],
   "metadata": {
    "collapsed": false,
    "pycharm": {
     "name": "#%%\n"
    }
   }
  },
  {
   "cell_type": "code",
   "execution_count": 254,
   "outputs": [
    {
     "data": {
      "text/plain": "['HIGH',\n 'HIGH',\n 'HIGH',\n 'MEDIUM',\n 'HIGH',\n 'HIGH',\n 'HIGH',\n 'HIGH',\n 'HIGH',\n 'MEDIUM',\n 'HIGH',\n 'HIGH',\n 'HIGH',\n 'HIGH',\n 'HIGH',\n 'CRITICAL',\n 'MEDIUM',\n 'CRITICAL',\n 'HIGH',\n 'HIGH',\n 'HIGH',\n 'MEDIUM',\n 'HIGH',\n 'MEDIUM',\n 'HIGH',\n 'MEDIUM',\n 'MEDIUM',\n 'CRITICAL',\n 'MEDIUM',\n 'HIGH',\n 'HIGH',\n 'MEDIUM',\n 'HIGH',\n 'MEDIUM',\n 'HIGH',\n 'HIGH',\n 'CRITICAL',\n 'HIGH',\n 'HIGH',\n 'MEDIUM',\n 'HIGH',\n 'MEDIUM',\n 'HIGH',\n 'HIGH',\n 'MEDIUM',\n 'LOW',\n 'CRITICAL',\n 'HIGH',\n 'MEDIUM',\n 'HIGH',\n 'CRITICAL',\n 'MEDIUM',\n 'MEDIUM',\n 'HIGH',\n 'HIGH',\n 'MEDIUM',\n 'HIGH',\n 'HIGH',\n 'HIGH',\n 'HIGH',\n 'MEDIUM',\n 'HIGH',\n 'HIGH',\n 'HIGH',\n 'HIGH',\n 'MEDIUM',\n 'HIGH',\n 'HIGH',\n 'MEDIUM',\n 'HIGH',\n 'MEDIUM',\n 'MEDIUM',\n 'MEDIUM',\n 'HIGH',\n 'HIGH',\n 'MEDIUM',\n 'HIGH',\n 'HIGH',\n 'HIGH',\n 'HIGH',\n 'HIGH',\n 'MEDIUM',\n 'HIGH',\n 'MEDIUM',\n 'CRITICAL',\n 'MEDIUM',\n 'HIGH',\n 'HIGH',\n 'MEDIUM',\n 'MEDIUM',\n 'CRITICAL',\n 'MEDIUM',\n 'HIGH',\n 'HIGH',\n 'HIGH',\n 'CRITICAL',\n 'HIGH',\n 'MEDIUM',\n 'HIGH',\n 'HIGH',\n 'HIGH',\n 'HIGH',\n 'HIGH',\n 'MEDIUM',\n 'LOW',\n 'HIGH',\n 'HIGH',\n 'MEDIUM',\n 'HIGH',\n 'MEDIUM',\n 'HIGH',\n 'HIGH',\n 'MEDIUM',\n 'HIGH',\n 'HIGH',\n 'MEDIUM',\n 'MEDIUM',\n 'HIGH',\n 'MEDIUM',\n 'MEDIUM',\n 'HIGH',\n 'HIGH',\n 'CRITICAL',\n 'HIGH',\n 'HIGH',\n 'HIGH',\n 'CRITICAL',\n 'HIGH',\n 'MEDIUM',\n 'MEDIUM',\n 'MEDIUM',\n 'MEDIUM',\n 'MEDIUM',\n 'HIGH',\n 'HIGH',\n 'HIGH',\n 'HIGH',\n 'MEDIUM',\n 'HIGH',\n 'HIGH',\n 'CRITICAL',\n 'HIGH',\n 'HIGH',\n 'MEDIUM',\n 'CRITICAL',\n 'MEDIUM',\n 'HIGH',\n 'MEDIUM',\n 'HIGH',\n 'HIGH',\n 'HIGH',\n 'CRITICAL',\n 'HIGH',\n 'HIGH',\n 'MEDIUM',\n 'CRITICAL',\n 'MEDIUM',\n 'MEDIUM',\n 'MEDIUM',\n 'HIGH',\n 'HIGH',\n 'CRITICAL',\n 'HIGH',\n 'MEDIUM',\n 'HIGH',\n 'HIGH',\n 'MEDIUM',\n 'HIGH',\n 'MEDIUM',\n 'MEDIUM',\n 'MEDIUM',\n 'HIGH',\n 'MEDIUM',\n 'MEDIUM',\n 'MEDIUM',\n 'HIGH',\n 'HIGH',\n 'CRITICAL',\n 'MEDIUM',\n 'HIGH',\n 'CRITICAL',\n 'HIGH',\n 'HIGH',\n 'MEDIUM',\n 'CRITICAL',\n 'MEDIUM',\n 'MEDIUM',\n 'HIGH',\n 'HIGH',\n 'HIGH',\n 'HIGH',\n 'HIGH',\n 'HIGH',\n 'MEDIUM',\n 'CRITICAL',\n 'HIGH',\n 'HIGH',\n 'MEDIUM',\n 'HIGH',\n 'HIGH',\n 'CRITICAL',\n 'HIGH',\n 'HIGH',\n 'MEDIUM',\n 'MEDIUM',\n 'CRITICAL',\n 'MEDIUM',\n 'HIGH',\n 'HIGH',\n 'HIGH',\n 'HIGH',\n 'HIGH',\n 'MEDIUM',\n 'MEDIUM',\n 'HIGH',\n 'HIGH',\n 'HIGH',\n 'MEDIUM',\n 'HIGH',\n 'HIGH',\n 'HIGH',\n 'MEDIUM',\n 'HIGH',\n 'MEDIUM',\n 'HIGH',\n 'HIGH',\n 'HIGH',\n 'CRITICAL',\n 'HIGH',\n 'HIGH',\n 'HIGH',\n 'MEDIUM',\n 'MEDIUM',\n 'HIGH',\n 'MEDIUM',\n 'HIGH',\n 'HIGH',\n 'HIGH',\n 'MEDIUM',\n 'MEDIUM',\n 'HIGH',\n 'MEDIUM',\n 'HIGH',\n 'HIGH',\n 'CRITICAL',\n 'CRITICAL',\n 'MEDIUM',\n 'LOW',\n 'CRITICAL',\n 'MEDIUM',\n 'MEDIUM',\n 'HIGH',\n 'MEDIUM',\n 'HIGH',\n 'HIGH',\n 'HIGH',\n 'HIGH',\n 'HIGH',\n 'CRITICAL',\n 'HIGH',\n 'MEDIUM',\n 'HIGH',\n 'HIGH',\n 'HIGH',\n 'MEDIUM',\n 'HIGH',\n 'HIGH',\n 'HIGH',\n 'MEDIUM',\n 'HIGH',\n 'LOW',\n 'HIGH',\n 'MEDIUM',\n 'MEDIUM',\n 'HIGH',\n 'HIGH',\n 'HIGH',\n 'HIGH',\n 'HIGH',\n 'HIGH',\n 'HIGH',\n 'MEDIUM',\n 'MEDIUM',\n 'CRITICAL',\n 'HIGH',\n 'HIGH',\n 'MEDIUM',\n 'HIGH',\n 'HIGH',\n 'MEDIUM',\n 'MEDIUM',\n 'HIGH',\n 'HIGH',\n 'HIGH',\n 'HIGH',\n 'MEDIUM',\n 'HIGH',\n 'HIGH',\n 'CRITICAL',\n 'HIGH',\n 'HIGH',\n 'HIGH',\n 'MEDIUM',\n 'HIGH',\n 'MEDIUM',\n 'MEDIUM',\n 'MEDIUM',\n 'MEDIUM',\n 'CRITICAL',\n 'CRITICAL',\n 'MEDIUM',\n 'LOW',\n 'HIGH',\n 'HIGH',\n 'MEDIUM',\n 'MEDIUM',\n 'CRITICAL',\n 'HIGH',\n 'MEDIUM',\n 'HIGH',\n 'CRITICAL',\n 'HIGH',\n 'MEDIUM',\n 'HIGH',\n 'CRITICAL',\n 'MEDIUM',\n 'MEDIUM',\n 'MEDIUM',\n 'MEDIUM',\n 'HIGH',\n 'CRITICAL',\n 'HIGH',\n 'HIGH',\n 'HIGH',\n 'HIGH',\n 'HIGH',\n 'MEDIUM',\n 'MEDIUM',\n 'HIGH',\n 'HIGH',\n 'MEDIUM',\n 'HIGH',\n 'MEDIUM',\n 'MEDIUM',\n 'CRITICAL',\n 'HIGH',\n 'MEDIUM',\n 'MEDIUM',\n 'HIGH',\n 'CRITICAL',\n 'MEDIUM',\n 'HIGH',\n 'MEDIUM',\n 'HIGH',\n 'CRITICAL',\n 'MEDIUM',\n 'HIGH',\n 'HIGH',\n 'CRITICAL',\n 'MEDIUM',\n 'MEDIUM',\n 'HIGH',\n 'HIGH',\n 'MEDIUM',\n 'HIGH',\n 'MEDIUM',\n 'CRITICAL',\n 'HIGH',\n 'HIGH',\n 'MEDIUM',\n 'MEDIUM',\n 'CRITICAL',\n 'CRITICAL',\n 'HIGH',\n 'HIGH',\n 'HIGH',\n 'MEDIUM',\n 'HIGH',\n 'HIGH',\n 'CRITICAL',\n 'MEDIUM',\n 'MEDIUM',\n 'HIGH',\n 'MEDIUM',\n 'MEDIUM',\n 'MEDIUM',\n 'HIGH',\n 'HIGH',\n 'HIGH',\n 'HIGH',\n 'MEDIUM',\n 'HIGH',\n 'HIGH',\n 'MEDIUM',\n 'HIGH',\n 'HIGH',\n 'HIGH',\n 'HIGH',\n 'MEDIUM',\n 'HIGH',\n 'HIGH',\n 'HIGH',\n 'MEDIUM',\n 'MEDIUM',\n 'LOW',\n 'HIGH',\n 'HIGH',\n 'HIGH',\n 'HIGH',\n 'HIGH',\n 'HIGH',\n 'HIGH',\n 'CRITICAL',\n 'HIGH',\n 'HIGH',\n 'HIGH',\n 'MEDIUM',\n 'CRITICAL',\n 'MEDIUM',\n 'HIGH',\n 'HIGH',\n 'HIGH',\n 'LOW',\n 'MEDIUM',\n 'HIGH',\n 'HIGH',\n 'MEDIUM',\n 'HIGH',\n 'CRITICAL',\n 'MEDIUM',\n 'MEDIUM',\n 'HIGH',\n 'HIGH',\n 'HIGH',\n 'HIGH',\n 'HIGH',\n 'MEDIUM',\n 'MEDIUM',\n 'HIGH',\n 'HIGH',\n 'HIGH',\n 'CRITICAL',\n 'HIGH',\n 'HIGH',\n 'MEDIUM',\n 'HIGH',\n 'MEDIUM',\n 'HIGH',\n 'HIGH',\n 'HIGH',\n 'HIGH',\n 'HIGH',\n 'CRITICAL',\n 'HIGH',\n 'LOW',\n 'MEDIUM',\n 'HIGH',\n 'HIGH',\n 'MEDIUM',\n 'HIGH',\n 'HIGH',\n 'CRITICAL',\n 'HIGH',\n 'HIGH',\n 'MEDIUM',\n 'HIGH',\n 'CRITICAL',\n 'HIGH',\n 'HIGH',\n 'LOW',\n 'CRITICAL',\n 'MEDIUM',\n 'MEDIUM',\n 'HIGH',\n 'HIGH',\n 'HIGH',\n 'HIGH',\n 'CRITICAL',\n 'MEDIUM',\n 'MEDIUM',\n 'HIGH',\n 'MEDIUM',\n 'CRITICAL',\n 'HIGH',\n 'HIGH',\n 'MEDIUM',\n 'LOW',\n 'HIGH',\n 'HIGH',\n 'MEDIUM',\n 'HIGH',\n 'HIGH',\n 'MEDIUM',\n 'HIGH',\n 'HIGH',\n 'HIGH',\n 'MEDIUM',\n 'HIGH',\n 'HIGH',\n 'CRITICAL',\n 'HIGH',\n 'HIGH',\n 'HIGH',\n 'HIGH',\n 'MEDIUM',\n 'MEDIUM',\n 'HIGH',\n 'HIGH',\n 'MEDIUM',\n 'HIGH',\n 'HIGH',\n 'MEDIUM',\n 'HIGH',\n 'HIGH',\n 'MEDIUM',\n 'HIGH',\n 'HIGH',\n 'HIGH',\n 'MEDIUM',\n 'MEDIUM',\n 'MEDIUM',\n 'HIGH',\n 'HIGH',\n 'MEDIUM',\n 'HIGH',\n 'MEDIUM',\n 'HIGH',\n 'MEDIUM',\n 'MEDIUM',\n 'CRITICAL',\n 'HIGH',\n 'HIGH',\n 'HIGH',\n 'HIGH',\n 'MEDIUM',\n 'MEDIUM',\n 'HIGH',\n 'HIGH',\n 'HIGH',\n 'MEDIUM',\n 'HIGH',\n 'HIGH',\n 'HIGH',\n 'HIGH',\n 'HIGH',\n 'CRITICAL',\n 'CRITICAL',\n 'MEDIUM',\n 'HIGH',\n 'MEDIUM',\n 'MEDIUM',\n 'CRITICAL',\n 'HIGH',\n 'MEDIUM',\n 'HIGH',\n 'MEDIUM',\n 'HIGH',\n 'HIGH',\n 'HIGH',\n 'HIGH',\n 'HIGH',\n 'HIGH',\n 'HIGH',\n 'MEDIUM',\n 'HIGH',\n 'MEDIUM',\n 'HIGH',\n 'HIGH',\n 'HIGH',\n 'HIGH',\n 'HIGH',\n 'HIGH',\n 'HIGH',\n 'HIGH',\n 'MEDIUM',\n 'CRITICAL',\n 'HIGH',\n 'HIGH',\n 'MEDIUM',\n 'HIGH',\n 'MEDIUM',\n 'MEDIUM',\n 'HIGH',\n 'MEDIUM',\n 'HIGH',\n 'CRITICAL',\n 'HIGH',\n 'HIGH',\n 'MEDIUM',\n 'MEDIUM',\n 'HIGH',\n 'MEDIUM',\n 'HIGH',\n 'HIGH',\n 'HIGH',\n 'HIGH',\n 'HIGH',\n 'HIGH',\n 'MEDIUM',\n 'MEDIUM',\n 'LOW',\n 'MEDIUM',\n 'HIGH',\n 'HIGH',\n 'MEDIUM',\n 'CRITICAL',\n 'HIGH',\n 'HIGH',\n 'MEDIUM',\n 'HIGH',\n 'MEDIUM',\n 'MEDIUM',\n 'HIGH',\n 'HIGH',\n 'MEDIUM',\n 'MEDIUM',\n 'CRITICAL',\n 'CRITICAL',\n 'MEDIUM',\n 'HIGH',\n 'HIGH',\n 'HIGH',\n 'HIGH',\n 'CRITICAL',\n 'HIGH',\n 'CRITICAL',\n 'HIGH',\n 'HIGH',\n 'HIGH',\n 'HIGH',\n 'HIGH',\n 'HIGH',\n 'HIGH',\n 'LOW',\n 'HIGH',\n 'MEDIUM',\n 'HIGH',\n 'CRITICAL',\n 'HIGH',\n 'HIGH',\n 'CRITICAL',\n 'MEDIUM',\n 'HIGH',\n 'LOW',\n 'MEDIUM',\n 'MEDIUM',\n 'LOW',\n 'CRITICAL',\n 'MEDIUM',\n 'CRITICAL',\n 'MEDIUM',\n 'HIGH',\n 'HIGH',\n 'HIGH',\n 'MEDIUM',\n 'HIGH',\n 'LOW',\n 'MEDIUM',\n 'HIGH',\n 'MEDIUM',\n 'MEDIUM',\n 'HIGH',\n 'MEDIUM',\n 'HIGH',\n 'HIGH',\n 'CRITICAL',\n 'CRITICAL',\n 'MEDIUM',\n 'HIGH',\n 'HIGH',\n 'MEDIUM',\n 'CRITICAL',\n 'LOW',\n 'MEDIUM',\n 'CRITICAL',\n 'MEDIUM',\n 'HIGH',\n 'HIGH',\n 'MEDIUM',\n 'HIGH',\n 'HIGH',\n 'HIGH',\n 'HIGH',\n 'CRITICAL',\n 'HIGH',\n 'CRITICAL',\n 'MEDIUM',\n 'HIGH',\n 'MEDIUM',\n 'HIGH',\n 'HIGH',\n 'HIGH',\n 'MEDIUM',\n 'HIGH',\n 'HIGH',\n 'HIGH',\n 'HIGH',\n 'MEDIUM',\n 'HIGH',\n 'HIGH',\n 'HIGH',\n 'HIGH',\n 'HIGH',\n 'HIGH',\n 'CRITICAL',\n 'CRITICAL',\n 'HIGH',\n 'MEDIUM',\n 'MEDIUM',\n 'HIGH',\n 'HIGH',\n 'MEDIUM',\n 'HIGH',\n 'MEDIUM',\n 'MEDIUM',\n 'MEDIUM',\n 'HIGH',\n 'MEDIUM',\n 'MEDIUM',\n 'LOW',\n 'MEDIUM',\n 'HIGH',\n 'HIGH',\n 'HIGH',\n 'HIGH',\n 'MEDIUM',\n 'MEDIUM',\n 'HIGH',\n 'MEDIUM',\n 'HIGH',\n 'CRITICAL',\n 'HIGH',\n 'MEDIUM',\n 'HIGH',\n 'HIGH',\n 'MEDIUM',\n 'CRITICAL',\n 'HIGH',\n 'HIGH',\n 'HIGH',\n 'HIGH',\n 'MEDIUM',\n 'MEDIUM',\n 'MEDIUM',\n 'HIGH',\n 'HIGH',\n 'HIGH',\n 'HIGH',\n 'LOW',\n 'MEDIUM',\n 'HIGH',\n 'MEDIUM',\n 'MEDIUM',\n 'HIGH',\n 'HIGH',\n 'LOW',\n 'HIGH',\n 'MEDIUM',\n 'HIGH',\n 'MEDIUM',\n 'CRITICAL',\n 'HIGH',\n 'HIGH',\n 'HIGH',\n 'HIGH',\n 'HIGH',\n 'MEDIUM',\n 'HIGH',\n 'MEDIUM',\n 'MEDIUM',\n 'HIGH',\n 'HIGH',\n 'HIGH',\n 'HIGH',\n 'MEDIUM',\n 'HIGH',\n 'CRITICAL',\n 'CRITICAL',\n 'MEDIUM',\n 'CRITICAL',\n 'CRITICAL',\n 'MEDIUM',\n 'HIGH',\n 'MEDIUM',\n 'HIGH',\n 'HIGH',\n 'MEDIUM',\n 'MEDIUM',\n 'HIGH',\n 'MEDIUM',\n 'CRITICAL',\n 'MEDIUM',\n 'HIGH',\n 'HIGH',\n 'HIGH',\n 'HIGH',\n 'HIGH',\n 'HIGH',\n 'HIGH',\n 'HIGH',\n 'CRITICAL',\n 'MEDIUM',\n 'CRITICAL',\n 'HIGH',\n 'HIGH',\n 'MEDIUM',\n 'HIGH',\n 'MEDIUM',\n 'MEDIUM',\n 'HIGH',\n 'MEDIUM',\n 'HIGH',\n 'MEDIUM',\n 'MEDIUM',\n 'HIGH',\n 'HIGH',\n 'HIGH',\n 'HIGH',\n 'MEDIUM',\n 'CRITICAL',\n 'MEDIUM',\n 'HIGH',\n 'HIGH',\n 'HIGH',\n 'MEDIUM',\n 'HIGH',\n 'HIGH',\n 'MEDIUM',\n 'MEDIUM',\n 'HIGH',\n 'HIGH',\n 'HIGH',\n 'HIGH',\n 'HIGH',\n 'HIGH',\n 'HIGH',\n 'HIGH',\n 'HIGH',\n 'HIGH',\n 'LOW',\n 'HIGH',\n 'MEDIUM',\n 'MEDIUM',\n 'LOW',\n 'MEDIUM',\n 'CRITICAL',\n 'CRITICAL',\n 'CRITICAL',\n 'HIGH',\n 'HIGH',\n 'CRITICAL',\n 'HIGH',\n 'HIGH',\n 'HIGH',\n 'HIGH',\n 'MEDIUM',\n 'CRITICAL',\n 'HIGH',\n 'HIGH',\n 'HIGH',\n 'MEDIUM',\n 'HIGH',\n 'HIGH',\n 'HIGH',\n 'MEDIUM',\n 'HIGH',\n 'LOW',\n 'HIGH',\n 'HIGH',\n 'HIGH',\n 'MEDIUM',\n 'HIGH',\n 'LOW',\n 'HIGH',\n 'CRITICAL',\n 'MEDIUM',\n 'CRITICAL',\n 'MEDIUM',\n 'LOW',\n 'MEDIUM',\n 'HIGH',\n 'LOW',\n 'MEDIUM',\n 'HIGH',\n 'HIGH',\n 'HIGH',\n 'MEDIUM',\n 'HIGH',\n 'HIGH',\n 'HIGH',\n 'HIGH',\n 'CRITICAL',\n 'HIGH',\n 'MEDIUM',\n 'HIGH',\n 'HIGH',\n 'HIGH',\n 'HIGH',\n 'HIGH',\n 'LOW',\n 'HIGH',\n 'HIGH',\n 'MEDIUM',\n 'MEDIUM',\n 'HIGH',\n 'HIGH',\n 'HIGH',\n 'MEDIUM',\n 'MEDIUM',\n 'MEDIUM',\n 'HIGH',\n 'MEDIUM',\n 'HIGH',\n 'HIGH',\n 'LOW',\n 'HIGH',\n 'MEDIUM',\n 'CRITICAL',\n 'MEDIUM',\n 'CRITICAL',\n 'CRITICAL',\n 'HIGH',\n 'MEDIUM',\n 'HIGH',\n 'LOW',\n 'HIGH',\n 'HIGH',\n 'MEDIUM',\n 'HIGH',\n 'HIGH',\n 'CRITICAL',\n 'CRITICAL',\n 'CRITICAL',\n 'HIGH',\n 'HIGH',\n 'MEDIUM',\n 'CRITICAL',\n 'MEDIUM',\n 'MEDIUM',\n 'HIGH',\n 'MEDIUM',\n 'MEDIUM',\n 'MEDIUM',\n 'MEDIUM',\n 'MEDIUM',\n 'HIGH',\n 'MEDIUM',\n 'HIGH',\n 'HIGH',\n 'HIGH',\n 'MEDIUM',\n 'MEDIUM',\n 'HIGH',\n 'HIGH',\n 'MEDIUM',\n 'HIGH',\n 'HIGH',\n 'MEDIUM',\n 'MEDIUM',\n 'CRITICAL',\n 'HIGH',\n 'HIGH',\n 'HIGH',\n 'MEDIUM',\n 'HIGH',\n 'CRITICAL',\n 'HIGH',\n 'HIGH',\n 'LOW',\n 'MEDIUM',\n 'HIGH',\n 'MEDIUM',\n 'HIGH',\n 'MEDIUM',\n 'MEDIUM',\n 'MEDIUM',\n 'MEDIUM',\n 'HIGH',\n 'MEDIUM',\n 'CRITICAL',\n 'HIGH',\n 'CRITICAL',\n 'CRITICAL',\n 'MEDIUM',\n 'HIGH',\n 'MEDIUM',\n 'CRITICAL',\n 'HIGH',\n 'MEDIUM',\n 'MEDIUM',\n 'MEDIUM',\n 'HIGH',\n 'HIGH',\n 'MEDIUM',\n 'HIGH',\n 'HIGH',\n 'HIGH',\n 'HIGH',\n 'MEDIUM',\n 'HIGH',\n ...]"
     },
     "execution_count": 254,
     "metadata": {},
     "output_type": "execute_result"
    }
   ],
   "source": [
    "predicted"
   ],
   "metadata": {
    "collapsed": false,
    "pycharm": {
     "name": "#%%\n"
    }
   }
  },
  {
   "cell_type": "markdown",
   "source": [],
   "metadata": {
    "collapsed": false
   }
  },
  {
   "cell_type": "code",
   "execution_count": 255,
   "outputs": [
    {
     "data": {
      "text/plain": "1208"
     },
     "execution_count": 255,
     "metadata": {},
     "output_type": "execute_result"
    }
   ],
   "source": [
    "predicted.__len__()"
   ],
   "metadata": {
    "collapsed": false,
    "pycharm": {
     "name": "#%%\n"
    }
   }
  },
  {
   "cell_type": "code",
   "execution_count": 256,
   "outputs": [],
   "source": [
    "p = pd.DataFrame(predicted)\n",
    "p.to_csv(\"./results/10-0/answers_label.csv\", index=False, header=None)"
   ],
   "metadata": {
    "collapsed": false,
    "pycharm": {
     "name": "#%%\n"
    }
   }
  },
  {
   "cell_type": "code",
   "execution_count": 256,
   "outputs": [],
   "source": [],
   "metadata": {
    "collapsed": false,
    "pycharm": {
     "name": "#%%\n"
    }
   }
  },
  {
   "cell_type": "code",
   "execution_count": 257,
   "outputs": [],
   "source": [
    "# actual = pd.DataFrame(actual)"
   ],
   "metadata": {
    "collapsed": false,
    "pycharm": {
     "name": "#%%\n"
    }
   }
  },
  {
   "cell_type": "code",
   "execution_count": 258,
   "outputs": [],
   "source": [
    "# actual"
   ],
   "metadata": {
    "collapsed": false,
    "pycharm": {
     "name": "#%%\n"
    }
   }
  },
  {
   "cell_type": "code",
   "execution_count": 259,
   "outputs": [],
   "source": [
    "data2 = pd.read_csv(\"./dataset/test/test_bseveritys.csv\",header=None)"
   ],
   "metadata": {
    "collapsed": false,
    "pycharm": {
     "name": "#%%\n"
    }
   }
  },
  {
   "cell_type": "code",
   "execution_count": 260,
   "outputs": [
    {
     "data": {
      "text/plain": "           0\n0       HIGH\n1        LOW\n2       HIGH\n3     MEDIUM\n4     MEDIUM\n...      ...\n1203  MEDIUM\n1204    HIGH\n1205    HIGH\n1206    HIGH\n1207    HIGH\n\n[1208 rows x 1 columns]",
      "text/html": "<div>\n<style scoped>\n    .dataframe tbody tr th:only-of-type {\n        vertical-align: middle;\n    }\n\n    .dataframe tbody tr th {\n        vertical-align: top;\n    }\n\n    .dataframe thead th {\n        text-align: right;\n    }\n</style>\n<table border=\"1\" class=\"dataframe\">\n  <thead>\n    <tr style=\"text-align: right;\">\n      <th></th>\n      <th>0</th>\n    </tr>\n  </thead>\n  <tbody>\n    <tr>\n      <th>0</th>\n      <td>HIGH</td>\n    </tr>\n    <tr>\n      <th>1</th>\n      <td>LOW</td>\n    </tr>\n    <tr>\n      <th>2</th>\n      <td>HIGH</td>\n    </tr>\n    <tr>\n      <th>3</th>\n      <td>MEDIUM</td>\n    </tr>\n    <tr>\n      <th>4</th>\n      <td>MEDIUM</td>\n    </tr>\n    <tr>\n      <th>...</th>\n      <td>...</td>\n    </tr>\n    <tr>\n      <th>1203</th>\n      <td>MEDIUM</td>\n    </tr>\n    <tr>\n      <th>1204</th>\n      <td>HIGH</td>\n    </tr>\n    <tr>\n      <th>1205</th>\n      <td>HIGH</td>\n    </tr>\n    <tr>\n      <th>1206</th>\n      <td>HIGH</td>\n    </tr>\n    <tr>\n      <th>1207</th>\n      <td>HIGH</td>\n    </tr>\n  </tbody>\n</table>\n<p>1208 rows × 1 columns</p>\n</div>"
     },
     "execution_count": 260,
     "metadata": {},
     "output_type": "execute_result"
    }
   ],
   "source": [
    "data2"
   ],
   "metadata": {
    "collapsed": false,
    "pycharm": {
     "name": "#%%\n"
    }
   }
  },
  {
   "cell_type": "code",
   "execution_count": 261,
   "outputs": [],
   "source": [
    "actual = data2[0]"
   ],
   "metadata": {
    "collapsed": false,
    "pycharm": {
     "name": "#%%\n"
    }
   }
  },
  {
   "cell_type": "code",
   "execution_count": 262,
   "outputs": [],
   "source": [
    "actual = list(actual)"
   ],
   "metadata": {
    "collapsed": false,
    "pycharm": {
     "name": "#%%\n"
    }
   }
  },
  {
   "cell_type": "code",
   "execution_count": 263,
   "outputs": [
    {
     "data": {
      "text/plain": "['HIGH',\n 'LOW',\n 'HIGH',\n 'MEDIUM',\n 'MEDIUM',\n 'HIGH',\n 'HIGH',\n 'HIGH',\n 'HIGH',\n 'MEDIUM',\n 'HIGH',\n 'MEDIUM',\n 'HIGH',\n 'HIGH',\n 'HIGH',\n 'CRITICAL',\n 'MEDIUM',\n 'HIGH',\n 'HIGH',\n 'HIGH',\n 'HIGH',\n 'MEDIUM',\n 'HIGH',\n 'MEDIUM',\n 'MEDIUM',\n 'MEDIUM',\n 'MEDIUM',\n 'HIGH',\n 'MEDIUM',\n 'HIGH',\n 'HIGH',\n 'LOW',\n 'HIGH',\n 'MEDIUM',\n 'MEDIUM',\n 'HIGH',\n 'CRITICAL',\n 'HIGH',\n 'MEDIUM',\n 'HIGH',\n 'HIGH',\n 'MEDIUM',\n 'CRITICAL',\n 'HIGH',\n 'MEDIUM',\n 'CRITICAL',\n 'CRITICAL',\n 'MEDIUM',\n 'MEDIUM',\n 'HIGH',\n 'CRITICAL',\n 'MEDIUM',\n 'MEDIUM',\n 'HIGH',\n 'CRITICAL',\n 'MEDIUM',\n 'MEDIUM',\n 'HIGH',\n 'HIGH',\n 'HIGH',\n 'MEDIUM',\n 'HIGH',\n 'MEDIUM',\n 'HIGH',\n 'HIGH',\n 'MEDIUM',\n 'HIGH',\n 'CRITICAL',\n 'MEDIUM',\n 'HIGH',\n 'MEDIUM',\n 'LOW',\n 'MEDIUM',\n 'HIGH',\n 'HIGH',\n 'MEDIUM',\n 'HIGH',\n 'HIGH',\n 'HIGH',\n 'MEDIUM',\n 'HIGH',\n 'MEDIUM',\n 'CRITICAL',\n 'MEDIUM',\n 'MEDIUM',\n 'MEDIUM',\n 'HIGH',\n 'MEDIUM',\n 'MEDIUM',\n 'MEDIUM',\n 'CRITICAL',\n 'HIGH',\n 'HIGH',\n 'MEDIUM',\n 'HIGH',\n 'HIGH',\n 'HIGH',\n 'MEDIUM',\n 'HIGH',\n 'HIGH',\n 'HIGH',\n 'HIGH',\n 'HIGH',\n 'MEDIUM',\n 'LOW',\n 'HIGH',\n 'HIGH',\n 'MEDIUM',\n 'HIGH',\n 'MEDIUM',\n 'HIGH',\n 'HIGH',\n 'MEDIUM',\n 'HIGH',\n 'HIGH',\n 'MEDIUM',\n 'HIGH',\n 'HIGH',\n 'MEDIUM',\n 'MEDIUM',\n 'HIGH',\n 'HIGH',\n 'CRITICAL',\n 'HIGH',\n 'MEDIUM',\n 'HIGH',\n 'CRITICAL',\n 'HIGH',\n 'MEDIUM',\n 'MEDIUM',\n 'MEDIUM',\n 'MEDIUM',\n 'MEDIUM',\n 'MEDIUM',\n 'MEDIUM',\n 'CRITICAL',\n 'HIGH',\n 'MEDIUM',\n 'HIGH',\n 'HIGH',\n 'CRITICAL',\n 'HIGH',\n 'HIGH',\n 'MEDIUM',\n 'CRITICAL',\n 'MEDIUM',\n 'HIGH',\n 'MEDIUM',\n 'CRITICAL',\n 'MEDIUM',\n 'HIGH',\n 'HIGH',\n 'MEDIUM',\n 'HIGH',\n 'CRITICAL',\n 'HIGH',\n 'MEDIUM',\n 'HIGH',\n 'MEDIUM',\n 'HIGH',\n 'MEDIUM',\n 'HIGH',\n 'HIGH',\n 'LOW',\n 'HIGH',\n 'MEDIUM',\n 'MEDIUM',\n 'HIGH',\n 'MEDIUM',\n 'MEDIUM',\n 'MEDIUM',\n 'HIGH',\n 'HIGH',\n 'MEDIUM',\n 'HIGH',\n 'LOW',\n 'HIGH',\n 'CRITICAL',\n 'MEDIUM',\n 'MEDIUM',\n 'CRITICAL',\n 'HIGH',\n 'MEDIUM',\n 'HIGH',\n 'CRITICAL',\n 'MEDIUM',\n 'CRITICAL',\n 'HIGH',\n 'MEDIUM',\n 'HIGH',\n 'HIGH',\n 'HIGH',\n 'HIGH',\n 'LOW',\n 'CRITICAL',\n 'HIGH',\n 'HIGH',\n 'MEDIUM',\n 'MEDIUM',\n 'HIGH',\n 'MEDIUM',\n 'MEDIUM',\n 'HIGH',\n 'MEDIUM',\n 'CRITICAL',\n 'CRITICAL',\n 'MEDIUM',\n 'HIGH',\n 'MEDIUM',\n 'HIGH',\n 'CRITICAL',\n 'HIGH',\n 'MEDIUM',\n 'MEDIUM',\n 'MEDIUM',\n 'MEDIUM',\n 'MEDIUM',\n 'MEDIUM',\n 'HIGH',\n 'MEDIUM',\n 'HIGH',\n 'MEDIUM',\n 'MEDIUM',\n 'MEDIUM',\n 'HIGH',\n 'MEDIUM',\n 'HIGH',\n 'CRITICAL',\n 'HIGH',\n 'HIGH',\n 'HIGH',\n 'HIGH',\n 'MEDIUM',\n 'MEDIUM',\n 'MEDIUM',\n 'HIGH',\n 'HIGH',\n 'HIGH',\n 'MEDIUM',\n 'HIGH',\n 'HIGH',\n 'HIGH',\n 'HIGH',\n 'MEDIUM',\n 'MEDIUM',\n 'CRITICAL',\n 'MEDIUM',\n 'LOW',\n 'CRITICAL',\n 'MEDIUM',\n 'MEDIUM',\n 'MEDIUM',\n 'MEDIUM',\n 'MEDIUM',\n 'HIGH',\n 'MEDIUM',\n 'HIGH',\n 'CRITICAL',\n 'HIGH',\n 'HIGH',\n 'HIGH',\n 'HIGH',\n 'HIGH',\n 'MEDIUM',\n 'HIGH',\n 'MEDIUM',\n 'MEDIUM',\n 'MEDIUM',\n 'HIGH',\n 'LOW',\n 'CRITICAL',\n 'MEDIUM',\n 'MEDIUM',\n 'MEDIUM',\n 'CRITICAL',\n 'MEDIUM',\n 'HIGH',\n 'MEDIUM',\n 'HIGH',\n 'MEDIUM',\n 'CRITICAL',\n 'MEDIUM',\n 'CRITICAL',\n 'HIGH',\n 'CRITICAL',\n 'HIGH',\n 'MEDIUM',\n 'HIGH',\n 'MEDIUM',\n 'MEDIUM',\n 'MEDIUM',\n 'HIGH',\n 'MEDIUM',\n 'MEDIUM',\n 'CRITICAL',\n 'MEDIUM',\n 'HIGH',\n 'HIGH',\n 'CRITICAL',\n 'HIGH',\n 'HIGH',\n 'HIGH',\n 'MEDIUM',\n 'MEDIUM',\n 'HIGH',\n 'MEDIUM',\n 'LOW',\n 'MEDIUM',\n 'HIGH',\n 'HIGH',\n 'MEDIUM',\n 'HIGH',\n 'HIGH',\n 'HIGH',\n 'MEDIUM',\n 'MEDIUM',\n 'HIGH',\n 'HIGH',\n 'MEDIUM',\n 'HIGH',\n 'CRITICAL',\n 'HIGH',\n 'MEDIUM',\n 'HIGH',\n 'HIGH',\n 'MEDIUM',\n 'MEDIUM',\n 'MEDIUM',\n 'MEDIUM',\n 'HIGH',\n 'CRITICAL',\n 'CRITICAL',\n 'HIGH',\n 'HIGH',\n 'HIGH',\n 'MEDIUM',\n 'MEDIUM',\n 'MEDIUM',\n 'HIGH',\n 'HIGH',\n 'HIGH',\n 'CRITICAL',\n 'MEDIUM',\n 'MEDIUM',\n 'CRITICAL',\n 'CRITICAL',\n 'HIGH',\n 'HIGH',\n 'CRITICAL',\n 'HIGH',\n 'MEDIUM',\n 'HIGH',\n 'MEDIUM',\n 'MEDIUM',\n 'HIGH',\n 'MEDIUM',\n 'HIGH',\n 'MEDIUM',\n 'CRITICAL',\n 'CRITICAL',\n 'MEDIUM',\n 'HIGH',\n 'MEDIUM',\n 'CRITICAL',\n 'CRITICAL',\n 'MEDIUM',\n 'HIGH',\n 'HIGH',\n 'MEDIUM',\n 'MEDIUM',\n 'MEDIUM',\n 'CRITICAL',\n 'HIGH',\n 'HIGH',\n 'MEDIUM',\n 'HIGH',\n 'MEDIUM',\n 'CRITICAL',\n 'HIGH',\n 'CRITICAL',\n 'MEDIUM',\n 'MEDIUM',\n 'HIGH',\n 'MEDIUM',\n 'HIGH',\n 'HIGH',\n 'HIGH',\n 'HIGH',\n 'HIGH',\n 'MEDIUM',\n 'HIGH',\n 'MEDIUM',\n 'HIGH',\n 'MEDIUM',\n 'HIGH',\n 'MEDIUM',\n 'HIGH',\n 'CRITICAL',\n 'MEDIUM',\n 'HIGH',\n 'HIGH',\n 'HIGH',\n 'MEDIUM',\n 'MEDIUM',\n 'MEDIUM',\n 'MEDIUM',\n 'HIGH',\n 'HIGH',\n 'HIGH',\n 'HIGH',\n 'MEDIUM',\n 'HIGH',\n 'HIGH',\n 'HIGH',\n 'HIGH',\n 'MEDIUM',\n 'MEDIUM',\n 'CRITICAL',\n 'MEDIUM',\n 'HIGH',\n 'HIGH',\n 'CRITICAL',\n 'CRITICAL',\n 'MEDIUM',\n 'HIGH',\n 'HIGH',\n 'MEDIUM',\n 'HIGH',\n 'HIGH',\n 'HIGH',\n 'MEDIUM',\n 'HIGH',\n 'CRITICAL',\n 'MEDIUM',\n 'MEDIUM',\n 'MEDIUM',\n 'MEDIUM',\n 'MEDIUM',\n 'HIGH',\n 'HIGH',\n 'HIGH',\n 'CRITICAL',\n 'HIGH',\n 'LOW',\n 'HIGH',\n 'MEDIUM',\n 'MEDIUM',\n 'HIGH',\n 'HIGH',\n 'HIGH',\n 'HIGH',\n 'HIGH',\n 'CRITICAL',\n 'HIGH',\n 'LOW',\n 'MEDIUM',\n 'HIGH',\n 'HIGH',\n 'MEDIUM',\n 'HIGH',\n 'HIGH',\n 'HIGH',\n 'HIGH',\n 'CRITICAL',\n 'MEDIUM',\n 'MEDIUM',\n 'CRITICAL',\n 'HIGH',\n 'CRITICAL',\n 'LOW',\n 'CRITICAL',\n 'MEDIUM',\n 'MEDIUM',\n 'HIGH',\n 'MEDIUM',\n 'MEDIUM',\n 'MEDIUM',\n 'HIGH',\n 'MEDIUM',\n 'MEDIUM',\n 'HIGH',\n 'MEDIUM',\n 'HIGH',\n 'HIGH',\n 'HIGH',\n 'HIGH',\n 'MEDIUM',\n 'HIGH',\n 'CRITICAL',\n 'MEDIUM',\n 'HIGH',\n 'HIGH',\n 'HIGH',\n 'HIGH',\n 'HIGH',\n 'LOW',\n 'MEDIUM',\n 'MEDIUM',\n 'HIGH',\n 'MEDIUM',\n 'HIGH',\n 'HIGH',\n 'HIGH',\n 'MEDIUM',\n 'MEDIUM',\n 'HIGH',\n 'HIGH',\n 'HIGH',\n 'MEDIUM',\n 'HIGH',\n 'HIGH',\n 'CRITICAL',\n 'HIGH',\n 'HIGH',\n 'MEDIUM',\n 'HIGH',\n 'HIGH',\n 'HIGH',\n 'MEDIUM',\n 'MEDIUM',\n 'MEDIUM',\n 'HIGH',\n 'CRITICAL',\n 'MEDIUM',\n 'HIGH',\n 'HIGH',\n 'HIGH',\n 'HIGH',\n 'MEDIUM',\n 'CRITICAL',\n 'HIGH',\n 'HIGH',\n 'MEDIUM',\n 'CRITICAL',\n 'MEDIUM',\n 'MEDIUM',\n 'CRITICAL',\n 'HIGH',\n 'HIGH',\n 'MEDIUM',\n 'CRITICAL',\n 'CRITICAL',\n 'LOW',\n 'HIGH',\n 'HIGH',\n 'HIGH',\n 'HIGH',\n 'MEDIUM',\n 'HIGH',\n 'MEDIUM',\n 'HIGH',\n 'HIGH',\n 'HIGH',\n 'MEDIUM',\n 'MEDIUM',\n 'HIGH',\n 'CRITICAL',\n 'MEDIUM',\n 'CRITICAL',\n 'HIGH',\n 'HIGH',\n 'CRITICAL',\n 'HIGH',\n 'MEDIUM',\n 'MEDIUM',\n 'MEDIUM',\n 'HIGH',\n 'HIGH',\n 'HIGH',\n 'HIGH',\n 'HIGH',\n 'HIGH',\n 'MEDIUM',\n 'HIGH',\n 'MEDIUM',\n 'CRITICAL',\n 'HIGH',\n 'HIGH',\n 'MEDIUM',\n 'HIGH',\n 'MEDIUM',\n 'MEDIUM',\n 'MEDIUM',\n 'HIGH',\n 'MEDIUM',\n 'CRITICAL',\n 'MEDIUM',\n 'HIGH',\n 'HIGH',\n 'MEDIUM',\n 'CRITICAL',\n 'MEDIUM',\n 'HIGH',\n 'HIGH',\n 'HIGH',\n 'LOW',\n 'HIGH',\n 'HIGH',\n 'MEDIUM',\n 'MEDIUM',\n 'HIGH',\n 'HIGH',\n 'HIGH',\n 'MEDIUM',\n 'MEDIUM',\n 'HIGH',\n 'MEDIUM',\n 'HIGH',\n 'HIGH',\n 'HIGH',\n 'CRITICAL',\n 'MEDIUM',\n 'MEDIUM',\n 'CRITICAL',\n 'HIGH',\n 'HIGH',\n 'CRITICAL',\n 'CRITICAL',\n 'MEDIUM',\n 'MEDIUM',\n 'HIGH',\n 'HIGH',\n 'MEDIUM',\n 'HIGH',\n 'MEDIUM',\n 'HIGH',\n 'MEDIUM',\n 'MEDIUM',\n 'HIGH',\n 'HIGH',\n 'HIGH',\n 'MEDIUM',\n 'HIGH',\n 'HIGH',\n 'CRITICAL',\n 'HIGH',\n 'HIGH',\n 'CRITICAL',\n 'MEDIUM',\n 'HIGH',\n 'CRITICAL',\n 'MEDIUM',\n 'CRITICAL',\n 'HIGH',\n 'MEDIUM',\n 'MEDIUM',\n 'HIGH',\n 'HIGH',\n 'HIGH',\n 'CRITICAL',\n 'HIGH',\n 'MEDIUM',\n 'HIGH',\n 'HIGH',\n 'HIGH',\n 'MEDIUM',\n 'LOW',\n 'MEDIUM',\n 'CRITICAL',\n 'MEDIUM',\n 'HIGH',\n 'HIGH',\n 'MEDIUM',\n 'HIGH',\n 'CRITICAL',\n 'CRITICAL',\n 'CRITICAL',\n 'HIGH',\n 'LOW',\n 'MEDIUM',\n 'MEDIUM',\n 'HIGH',\n 'MEDIUM',\n 'MEDIUM',\n 'CRITICAL',\n 'MEDIUM',\n 'MEDIUM',\n 'HIGH',\n 'MEDIUM',\n 'HIGH',\n 'HIGH',\n 'HIGH',\n 'MEDIUM',\n 'HIGH',\n 'MEDIUM',\n 'CRITICAL',\n 'MEDIUM',\n 'MEDIUM',\n 'HIGH',\n 'CRITICAL',\n 'HIGH',\n 'HIGH',\n 'MEDIUM',\n 'MEDIUM',\n 'MEDIUM',\n 'HIGH',\n 'MEDIUM',\n 'MEDIUM',\n 'HIGH',\n 'MEDIUM',\n 'HIGH',\n 'MEDIUM',\n 'CRITICAL',\n 'LOW',\n 'CRITICAL',\n 'CRITICAL',\n 'HIGH',\n 'MEDIUM',\n 'MEDIUM',\n 'HIGH',\n 'HIGH',\n 'LOW',\n 'HIGH',\n 'HIGH',\n 'HIGH',\n 'MEDIUM',\n 'HIGH',\n 'CRITICAL',\n 'MEDIUM',\n 'MEDIUM',\n 'MEDIUM',\n 'MEDIUM',\n 'CRITICAL',\n 'HIGH',\n 'HIGH',\n 'MEDIUM',\n 'MEDIUM',\n 'HIGH',\n 'MEDIUM',\n 'MEDIUM',\n 'HIGH',\n 'MEDIUM',\n 'MEDIUM',\n 'HIGH',\n 'MEDIUM',\n 'MEDIUM',\n 'HIGH',\n 'HIGH',\n 'HIGH',\n 'HIGH',\n 'CRITICAL',\n 'MEDIUM',\n 'LOW',\n 'MEDIUM',\n 'HIGH',\n 'HIGH',\n 'MEDIUM',\n 'HIGH',\n 'HIGH',\n 'MEDIUM',\n 'MEDIUM',\n 'MEDIUM',\n 'MEDIUM',\n 'HIGH',\n 'HIGH',\n 'HIGH',\n 'MEDIUM',\n 'MEDIUM',\n 'MEDIUM',\n 'MEDIUM',\n 'CRITICAL',\n 'HIGH',\n 'MEDIUM',\n 'MEDIUM',\n 'MEDIUM',\n 'HIGH',\n 'MEDIUM',\n 'MEDIUM',\n 'MEDIUM',\n 'MEDIUM',\n 'HIGH',\n 'HIGH',\n 'MEDIUM',\n 'HIGH',\n 'MEDIUM',\n 'HIGH',\n 'HIGH',\n 'CRITICAL',\n 'MEDIUM',\n 'HIGH',\n 'HIGH',\n 'MEDIUM',\n 'MEDIUM',\n 'MEDIUM',\n 'MEDIUM',\n 'MEDIUM',\n 'MEDIUM',\n 'MEDIUM',\n 'CRITICAL',\n 'MEDIUM',\n 'CRITICAL',\n 'MEDIUM',\n 'HIGH',\n 'MEDIUM',\n 'HIGH',\n 'HIGH',\n 'MEDIUM',\n 'HIGH',\n 'HIGH',\n 'HIGH',\n 'CRITICAL',\n 'MEDIUM',\n 'CRITICAL',\n 'HIGH',\n 'MEDIUM',\n 'MEDIUM',\n 'HIGH',\n 'MEDIUM',\n 'HIGH',\n 'HIGH',\n 'HIGH',\n 'HIGH',\n 'MEDIUM',\n 'MEDIUM',\n 'HIGH',\n 'MEDIUM',\n 'HIGH',\n 'HIGH',\n 'MEDIUM',\n 'HIGH',\n 'MEDIUM',\n 'HIGH',\n 'HIGH',\n 'MEDIUM',\n 'MEDIUM',\n 'HIGH',\n 'CRITICAL',\n 'MEDIUM',\n 'MEDIUM',\n 'HIGH',\n 'HIGH',\n 'HIGH',\n 'CRITICAL',\n 'HIGH',\n 'HIGH',\n 'MEDIUM',\n 'MEDIUM',\n 'HIGH',\n 'HIGH',\n 'HIGH',\n 'HIGH',\n 'MEDIUM',\n 'MEDIUM',\n 'MEDIUM',\n 'HIGH',\n 'CRITICAL',\n 'CRITICAL',\n 'HIGH',\n 'HIGH',\n 'LOW',\n 'CRITICAL',\n 'HIGH',\n 'HIGH',\n 'MEDIUM',\n 'HIGH',\n 'HIGH',\n 'HIGH',\n 'HIGH',\n 'LOW',\n 'HIGH',\n 'HIGH',\n 'MEDIUM',\n 'HIGH',\n 'HIGH',\n 'MEDIUM',\n 'MEDIUM',\n 'LOW',\n 'HIGH',\n 'HIGH',\n 'CRITICAL',\n 'MEDIUM',\n 'MEDIUM',\n 'HIGH',\n 'HIGH',\n 'CRITICAL',\n 'HIGH',\n 'CRITICAL',\n 'MEDIUM',\n 'MEDIUM',\n 'MEDIUM',\n 'CRITICAL',\n 'HIGH',\n 'HIGH',\n 'MEDIUM',\n 'MEDIUM',\n 'HIGH',\n 'MEDIUM',\n 'HIGH',\n 'HIGH',\n 'HIGH',\n 'MEDIUM',\n 'CRITICAL',\n 'HIGH',\n 'MEDIUM',\n 'HIGH',\n 'HIGH',\n 'HIGH',\n 'HIGH',\n 'HIGH',\n 'MEDIUM',\n 'HIGH',\n 'HIGH',\n 'MEDIUM',\n 'MEDIUM',\n 'HIGH',\n 'HIGH',\n 'HIGH',\n 'MEDIUM',\n 'MEDIUM',\n 'MEDIUM',\n 'MEDIUM',\n 'HIGH',\n 'MEDIUM',\n 'LOW',\n 'HIGH',\n 'MEDIUM',\n 'MEDIUM',\n 'CRITICAL',\n 'MEDIUM',\n 'CRITICAL',\n 'HIGH',\n 'HIGH',\n 'MEDIUM',\n 'HIGH',\n 'MEDIUM',\n 'HIGH',\n 'MEDIUM',\n 'MEDIUM',\n 'HIGH',\n 'HIGH',\n 'HIGH',\n 'CRITICAL',\n 'CRITICAL',\n 'HIGH',\n 'HIGH',\n 'MEDIUM',\n 'CRITICAL',\n 'MEDIUM',\n 'MEDIUM',\n 'HIGH',\n 'CRITICAL',\n 'MEDIUM',\n 'MEDIUM',\n 'MEDIUM',\n 'MEDIUM',\n 'HIGH',\n 'MEDIUM',\n 'HIGH',\n 'HIGH',\n 'MEDIUM',\n 'MEDIUM',\n 'MEDIUM',\n 'MEDIUM',\n 'MEDIUM',\n 'MEDIUM',\n 'CRITICAL',\n 'HIGH',\n 'HIGH',\n 'MEDIUM',\n 'CRITICAL',\n 'MEDIUM',\n 'CRITICAL',\n 'HIGH',\n 'CRITICAL',\n 'HIGH',\n 'CRITICAL',\n 'HIGH',\n 'MEDIUM',\n 'MEDIUM',\n 'MEDIUM',\n 'HIGH',\n 'MEDIUM',\n 'CRITICAL',\n 'HIGH',\n 'HIGH',\n 'MEDIUM',\n 'MEDIUM',\n 'HIGH',\n 'MEDIUM',\n 'HIGH',\n 'HIGH',\n 'HIGH',\n 'HIGH',\n 'HIGH',\n 'HIGH',\n 'MEDIUM',\n 'CRITICAL',\n 'HIGH',\n 'LOW',\n 'MEDIUM',\n 'MEDIUM',\n 'MEDIUM',\n 'HIGH',\n 'MEDIUM',\n 'HIGH',\n 'CRITICAL',\n 'HIGH',\n 'MEDIUM',\n 'MEDIUM',\n 'HIGH',\n ...]"
     },
     "execution_count": 263,
     "metadata": {},
     "output_type": "execute_result"
    }
   ],
   "source": [
    "actual"
   ],
   "metadata": {
    "collapsed": false,
    "pycharm": {
     "name": "#%%\n"
    }
   }
  },
  {
   "cell_type": "code",
   "execution_count": 264,
   "outputs": [
    {
     "data": {
      "text/plain": "1208"
     },
     "execution_count": 264,
     "metadata": {},
     "output_type": "execute_result"
    }
   ],
   "source": [
    "actual.__len__()"
   ],
   "metadata": {
    "collapsed": false,
    "pycharm": {
     "name": "#%%\n"
    }
   }
  },
  {
   "cell_type": "code",
   "execution_count": 265,
   "outputs": [
    {
     "name": "stdout",
     "output_type": "stream",
     "text": [
      "<class 'list'>\n"
     ]
    }
   ],
   "source": [
    "print(type(actual))"
   ],
   "metadata": {
    "collapsed": false,
    "pycharm": {
     "name": "#%%\n"
    }
   }
  },
  {
   "cell_type": "code",
   "execution_count": 266,
   "outputs": [
    {
     "name": "stdout",
     "output_type": "stream",
     "text": [
      "789\n"
     ]
    }
   ],
   "source": [
    "cnt = 0\n",
    "for i in range(len(actual)):\n",
    "    if predicted[i] == actual[i]:\n",
    "        cnt += 1\n",
    "print(cnt)"
   ],
   "metadata": {
    "collapsed": false,
    "pycharm": {
     "name": "#%%\n"
    }
   }
  },
  {
   "cell_type": "code",
   "execution_count": 267,
   "outputs": [],
   "source": [
    "acc = accuracy_score(actual, predicted)\n",
    "precisionma, recallma, f1ma, _ = precision_recall_fscore_support(actual, predicted, average='macro')\n",
    "mcc = matthews_corrcoef(actual, predicted)"
   ],
   "metadata": {
    "collapsed": false,
    "pycharm": {
     "name": "#%%\n"
    }
   }
  },
  {
   "cell_type": "code",
   "execution_count": 268,
   "outputs": [],
   "source": [
    "# def write_to_file(file_path, content):\n",
    "#     try:\n",
    "#         with open(file_path, 'a+') as file:\n",
    "#             file.write(content)\n",
    "#         # print(f\"内容已成功写入到文件 {file_path} 中。\")\n",
    "#     except Exception as e:\n",
    "#         print(f\"写入文件时出现错误：{e}\")"
   ],
   "metadata": {
    "collapsed": false,
    "pycharm": {
     "name": "#%%\n"
    }
   }
  },
  {
   "cell_type": "code",
   "execution_count": 269,
   "outputs": [],
   "source": [
    "# import time\n",
    "# print()\n"
   ],
   "metadata": {
    "collapsed": false,
    "pycharm": {
     "name": "#%%\n"
    }
   }
  },
  {
   "cell_type": "code",
   "execution_count": 270,
   "outputs": [],
   "source": [
    "# # 示例用法\n",
    "# import time\n",
    "# file_path = \"./results3_llama3/9-1/metrics.txt\"\n",
    "# content = str(time.strftime(\"%Y-%m-%d %H:%M:%S\", time.localtime()))\n",
    "# print(content)\n",
    "# write_to_file(file_path, content)\n",
    "# content = \"Accuracy: \"+str(acc)\n",
    "# print(content)\n",
    "# write_to_file(file_path, content)\n",
    "# content = \"Precision: \"+str(precisionma)\n",
    "# print(content)\n",
    "# write_to_file(file_path, content)\n",
    "# content = \"Recall: \"+str(recallma)\n",
    "# print(content)\n",
    "# write_to_file(file_path, content)\n",
    "# content = \"F1 Score: \"+str(f1ma)\n",
    "# print(content)\n",
    "# write_to_file(file_path, content)\n",
    "# content = \"MCC: \"+str(mcc)\n",
    "# print(content)\n",
    "# write_to_file(file_path, content)"
   ],
   "metadata": {
    "collapsed": false,
    "pycharm": {
     "name": "#%%\n"
    }
   }
  },
  {
   "cell_type": "code",
   "execution_count": 271,
   "outputs": [
    {
     "name": "stderr",
     "output_type": "stream",
     "text": [
      "2024-05-30 09:39:58,102 - Accuracy: 0.6531456953642384\n",
      "2024-05-30 09:39:58,103 - Precision: 0.533416663100259\n",
      "2024-05-30 09:39:58,103 - Recall: 0.5119303793617465\n",
      "2024-05-30 09:39:58,104 - F1 Score: 0.5179629438580076\n",
      "2024-05-30 09:39:58,104 - MCC: 0.43404378638533464\n"
     ]
    }
   ],
   "source": [
    "import logging\n",
    "import os\n",
    "\n",
    "# 确保日志目录存在\n",
    "# log_dir = './results_RQ3/results_RQ3_deepseek/one_shot/'\n",
    "log_dir = './results/10-0/'\n",
    "os.makedirs(log_dir, exist_ok=True)\n",
    "\n",
    "# 配置日志记录\n",
    "log_file_path = os.path.join(log_dir, 'metrics.log')\n",
    "\n",
    "# 创建一个新的日志记录器\n",
    "logger = logging.getLogger('metrics_logger')\n",
    "logger.setLevel(logging.INFO)\n",
    "\n",
    "# 移除所有处理程序（如果有）\n",
    "if logger.hasHandlers():\n",
    "    logger.handlers.clear()\n",
    "\n",
    "# 创建文件处理程序\n",
    "file_handler = logging.FileHandler(log_file_path, mode='a', encoding='utf-8')\n",
    "file_handler.setLevel(logging.INFO)\n",
    "\n",
    "# 创建控制台处理程序\n",
    "console_handler = logging.StreamHandler()\n",
    "console_handler.setLevel(logging.INFO)\n",
    "\n",
    "# 创建格式化程序并将其添加到处理程序\n",
    "formatter = logging.Formatter('%(asctime)s - %(message)s')\n",
    "file_handler.setFormatter(formatter)\n",
    "console_handler.setFormatter(formatter)\n",
    "\n",
    "# 将处理程序添加到记录器\n",
    "logger.addHandler(file_handler)\n",
    "logger.addHandler(console_handler)\n",
    "\n",
    "# 记录日志\n",
    "logger.info(f\"Accuracy: {acc}\")\n",
    "logger.info(f\"Precision: {precisionma}\")\n",
    "logger.info(f\"Recall: {recallma}\")\n",
    "logger.info(f\"F1 Score: {f1ma}\")\n",
    "logger.info(f\"MCC: {mcc}\")\n",
    "\n",
    "# 确保日志处理程序关闭并刷新\n",
    "for handler in logger.handlers:\n",
    "    handler.flush()\n",
    "    handler.close()"
   ],
   "metadata": {
    "collapsed": false,
    "pycharm": {
     "name": "#%%\n"
    }
   }
  },
  {
   "cell_type": "code",
   "execution_count": null,
   "outputs": [],
   "source": [],
   "metadata": {
    "collapsed": false,
    "pycharm": {
     "name": "#%%\n"
    }
   }
  }
 ],
 "metadata": {
  "kernelspec": {
   "name": "funcgnn_jupyter",
   "language": "python",
   "display_name": "funcGNN_jupyter"
  },
  "language_info": {
   "codemirror_mode": {
    "name": "ipython",
    "version": 2
   },
   "file_extension": ".py",
   "mimetype": "text/x-python",
   "name": "python",
   "nbconvert_exporter": "python",
   "pygments_lexer": "ipython2",
   "version": "2.7.6"
  }
 },
 "nbformat": 4,
 "nbformat_minor": 0
}