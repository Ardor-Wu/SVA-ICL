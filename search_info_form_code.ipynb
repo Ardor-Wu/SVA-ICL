{
 "cells": [
  {
   "cell_type": "code",
   "execution_count": 37,
   "metadata": {
    "collapsed": true
   },
   "outputs": [],
   "source": [
    "import pandas as pd"
   ]
  },
  {
   "cell_type": "code",
   "execution_count": 38,
   "outputs": [],
   "source": [
    "data = pd.read_csv(\"./results/10-0/code-10_2.csv\",header=None)"
   ],
   "metadata": {
    "collapsed": false,
    "pycharm": {
     "name": "#%%\n"
    }
   }
  },
  {
   "cell_type": "code",
   "execution_count": 39,
   "outputs": [],
   "source": [
    "data2 = pd.read_excel(\"./dataset/train/train_all.xlsx\")"
   ],
   "metadata": {
    "collapsed": false,
    "pycharm": {
     "name": "#%%\n"
    }
   }
  },
  {
   "cell_type": "code",
   "execution_count": 40,
   "outputs": [
    {
     "data": {
      "text/plain": "                                                      0  \\\n0     static int uv__rwlock_fallback_tryrdlock(uv_rw...   \n1     void Compute(OpKernelContext* ctx) override { ...   \n2     static OPJ_BOOL opj_j2k_write_sod(opj_j2k_t *p...   \n3     static void mbochs_remove(struct mdev_device *...   \n4     static int filter_frame(AVFilterLink *inlink, ...   \n...                                                 ...   \n1203  static void dissect_schedule_message(tvbuff_t ...   \n1204  int git_delta_apply( void **out, size_t *out_l...   \n1205  static ecma_value_t ecma_module_evaluate (ecma...   \n1206  static int dissect_pbb_tlvblock(tvbuff_t *tvb,...   \n1207  static int hhf_init(struct Qdisc *sch, struct ...   \n\n                                                      1  \\\n0     static void uv__rwlock_fallback_rdlock(uv_rwlo...   \n1     void Compute(OpKernelContext* context) overrid...   \n2     static OPJ_BOOL opj_j2k_write_sot(opj_j2k_t *p...   \n3     static void p2m_pod_zero_check(struct p2m_doma...   \n4     static inline const u32 *flow_keys_hash_start(...   \n...                                                 ...   \n1203  static void add_headers (proto_tree *tree, tvb...   \n1204  int git_delta_apply( void **out, size_t *out_l...   \n1205  ecma_value_t re_parse_char_class (re_parser_ct...   \n1206  static int dissect_xra_tlv_cw_info(tvbuff_t * ...   \n1207  uint8_t hfs_cat_traverse(HFS_INFO * hfs, TSK_H...   \n\n                                                      2  \\\n0     static void uv__rwlock_fallback_rdunlock(uv_rw...   \n1     void DoCompute(OpKernelContext* c) { core::Ref...   \n2     static OPJ_BOOL opj_j2k_write_all_tile_parts(o...   \n3     static int check_func_arg(struct bpf_verifier_...   \n4     static inline LineContribType *_gdContribution...   \n...                                                 ...   \n1203  static int dissect_usb_video_control_interface...   \n1204  int move_hugetlb_page_tables(struct vm_area_st...   \n1205  static void find_entries (FILE *inf) { char *c...   \n1206  int nfc_llcp_send_cc(struct nfc_llcp_sock *soc...   \n1207  void hci_sock_dev_event(struct hci_dev *hdev, ...   \n\n                                                      3  \\\n0     static void uv__rwlock_fallback_wrlock(uv_rwlo...   \n1     void Compute(OpKernelContext* ctx) override { ...   \n2     OPJ_BOOL opj_j2k_read_tile_header(      opj_j2...   \n3     static void llc_sap_rcv(struct llc_sap *sap, s...   \n4     static unsigned SkATan2_255(float y, float x) ...   \n...                                                 ...   \n1203  static void dissect_q931_pdu(tvbuff_t *tvb, pa...   \n1204  static int kvm_mmu_notifier_invalidate_range_s...   \n1205  bool DNP3_Base::ProcessData(int len, const u_c...   \n1206  static int nfc_llcp_build_gb(struct nfc_llcp_l...   \n1207  int nfc_deactivate_target(struct nfc_dev *dev,...   \n\n                                                      4  \\\n0     int uv_mutex_trylock(uv_mutex_t* mutex) { int ...   \n1     void ValidateInputTensors(OpKernelContext* ctx...   \n2     static OPJ_BOOL opj_j2k_write_mco(     opj_j2k...   \n3     TypeAttr CastQuantizedTypeAttrFromExpressedTyp...   \n4     static bool intersect(active_line *endp, activ...   \n...                                                 ...   \n1203  static fp_info * fp_set_per_packet_inf_from_co...   \n1204  int mutt_seqset_iterator_next (SEQSET_ITERATOR...   \n1205  static bool parser_parse_class_body (parser_co...   \n1206  static bool bgp_attr_aigp_valid(uint8_t *pnt, ...   \n1207  void nfc_unregister_device(struct nfc_dev *dev...   \n\n                                                      5  \\\n0     int uv_mutex_trylock(uv_mutex_t* mutex) { int ...   \n1     void Compute(OpKernelContext* context) overrid...   \n2     OPJ_BOOL opj_j2k_get_tile(      opj_j2k_t *p_j...   \n3     static int xfrm_user_rcv_msg(struct sk_buff *s...   \n4     static int epsc_print_page(gx_device_printer *...   \n...                                                 ...   \n1203  static void dissect_opensafety_ssdo_message(tv...   \n1204  void StartAdvertisingSet(int reg_id, IdTxPower...   \n1205  void scanner_filter_arguments (parser_context_...   \n1206  static int llcp_sock_connect(struct socket *so...   \n1207  int compile_lhs( char_u    *var_start, lhs_T  ...   \n\n                                                      6  \\\n0     int uv_rwlock_trywrlock(uv_rwlock_t* rwlock) {...   \n1     bool operator==(const TensorKey& t1, const Ten...   \n2     opj_pi_iterator_t *opj_pi_create_decode(opj_im...   \n3     static uint8_t check_packet_type(struct dhcp_p...   \n4     static void _cairo_arc_in_direction (cairo_t  ...   \n...                                                 ...   \n1203  static int dissect_packetcable_cccV6_option(pr...   \n1204  unsigned long move_page_tables(struct vm_area_...   \n1205  void jerryx_print_unhandled_exception (jerry_v...   \n1206  int nfc_llcp_send_symm(struct nfc_dev *dev) { ...   \n1207  int ppp_register_net_channel(struct net *net, ...   \n\n                                                      7  \\\n0     int uv_rwlock_trywrlock(uv_rwlock_t* rwlock) {...   \n1     void Compute(OpKernelContext* context) overrid...   \n2     opj_pi_iterator_t *opj_pi_create_decode(opj_im...   \n3     static void setAppend(SetType& set, const Vari...   \n4     void bm_bezier3(Bitmap *b, int x0, int y0, int...   \n...                                                 ...   \n1203  static int dissect_bacapp(tvbuff_t *tvb, packe...   \n1204  unsigned long move_page_tables(struct vm_area_...   \n1205  ecma_value_t opfunc_form_super_reference (ecma...   \n1206  static int llcp_sock_connect(struct socket *so...   \n1207  int inet_csk_listen_start(struct sock *sk) { s...   \n\n                                                      8  \\\n0     int uv_rwlock_tryrdlock(uv_rwlock_t* rwlock) {...   \n1     void Compute(OpKernelContext* context) overrid...   \n2     static void opj_get_encoding_parameters(const ...   \n3     static void get_amqp_1_0_value_formatter(tvbuf...   \n4     void bm_ellipse(Bitmap *b, int x0, int y0, int...   \n...                                                 ...   \n1203  static int dissect_modbus_response(tvbuff_t *t...   \n1204  void HttpSM::do_range_setup_if_necessary() { M...   \n1205  ecma_environment_record_t * ecma_op_get_enviro...   \n1206  static int llcp_sock_create(struct net *net, s...   \n1207  static void sas_init_port(struct asd_sas_port ...   \n\n                                                      9  \n0     static inline int pthread_mutex_unlock(pthread...  \n1     void Compute(OpKernelContext* ctx) override { ...  \n2     void opj_get_all_encoding_parameters(   const ...  \n3     static void smtp_log_to_file(smtp_t *smtp) { F...  \n4     static int set_text_distance(gs_point *pdist, ...  \n...                                                 ...  \n1203  static void dissect_opensafety_ssdo_message(tv...  \n1204  static void svm_range_evict_svm_bo_worker(stru...  \n1205  void parser_resolve_private_identifier (parser...  \n1206  static int llcp_sock_create(struct net *net, s...  \n1207  static inline pgd_t *pgd_alloc(struct mm_struc...  \n\n[1208 rows x 10 columns]",
      "text/html": "<div>\n<style scoped>\n    .dataframe tbody tr th:only-of-type {\n        vertical-align: middle;\n    }\n\n    .dataframe tbody tr th {\n        vertical-align: top;\n    }\n\n    .dataframe thead th {\n        text-align: right;\n    }\n</style>\n<table border=\"1\" class=\"dataframe\">\n  <thead>\n    <tr style=\"text-align: right;\">\n      <th></th>\n      <th>0</th>\n      <th>1</th>\n      <th>2</th>\n      <th>3</th>\n      <th>4</th>\n      <th>5</th>\n      <th>6</th>\n      <th>7</th>\n      <th>8</th>\n      <th>9</th>\n    </tr>\n  </thead>\n  <tbody>\n    <tr>\n      <th>0</th>\n      <td>static int uv__rwlock_fallback_tryrdlock(uv_rw...</td>\n      <td>static void uv__rwlock_fallback_rdlock(uv_rwlo...</td>\n      <td>static void uv__rwlock_fallback_rdunlock(uv_rw...</td>\n      <td>static void uv__rwlock_fallback_wrlock(uv_rwlo...</td>\n      <td>int uv_mutex_trylock(uv_mutex_t* mutex) { int ...</td>\n      <td>int uv_mutex_trylock(uv_mutex_t* mutex) { int ...</td>\n      <td>int uv_rwlock_trywrlock(uv_rwlock_t* rwlock) {...</td>\n      <td>int uv_rwlock_trywrlock(uv_rwlock_t* rwlock) {...</td>\n      <td>int uv_rwlock_tryrdlock(uv_rwlock_t* rwlock) {...</td>\n      <td>static inline int pthread_mutex_unlock(pthread...</td>\n    </tr>\n    <tr>\n      <th>1</th>\n      <td>void Compute(OpKernelContext* ctx) override { ...</td>\n      <td>void Compute(OpKernelContext* context) overrid...</td>\n      <td>void DoCompute(OpKernelContext* c) { core::Ref...</td>\n      <td>void Compute(OpKernelContext* ctx) override { ...</td>\n      <td>void ValidateInputTensors(OpKernelContext* ctx...</td>\n      <td>void Compute(OpKernelContext* context) overrid...</td>\n      <td>bool operator==(const TensorKey&amp; t1, const Ten...</td>\n      <td>void Compute(OpKernelContext* context) overrid...</td>\n      <td>void Compute(OpKernelContext* context) overrid...</td>\n      <td>void Compute(OpKernelContext* ctx) override { ...</td>\n    </tr>\n    <tr>\n      <th>2</th>\n      <td>static OPJ_BOOL opj_j2k_write_sod(opj_j2k_t *p...</td>\n      <td>static OPJ_BOOL opj_j2k_write_sot(opj_j2k_t *p...</td>\n      <td>static OPJ_BOOL opj_j2k_write_all_tile_parts(o...</td>\n      <td>OPJ_BOOL opj_j2k_read_tile_header(      opj_j2...</td>\n      <td>static OPJ_BOOL opj_j2k_write_mco(     opj_j2k...</td>\n      <td>OPJ_BOOL opj_j2k_get_tile(      opj_j2k_t *p_j...</td>\n      <td>opj_pi_iterator_t *opj_pi_create_decode(opj_im...</td>\n      <td>opj_pi_iterator_t *opj_pi_create_decode(opj_im...</td>\n      <td>static void opj_get_encoding_parameters(const ...</td>\n      <td>void opj_get_all_encoding_parameters(   const ...</td>\n    </tr>\n    <tr>\n      <th>3</th>\n      <td>static void mbochs_remove(struct mdev_device *...</td>\n      <td>static void p2m_pod_zero_check(struct p2m_doma...</td>\n      <td>static int check_func_arg(struct bpf_verifier_...</td>\n      <td>static void llc_sap_rcv(struct llc_sap *sap, s...</td>\n      <td>TypeAttr CastQuantizedTypeAttrFromExpressedTyp...</td>\n      <td>static int xfrm_user_rcv_msg(struct sk_buff *s...</td>\n      <td>static uint8_t check_packet_type(struct dhcp_p...</td>\n      <td>static void setAppend(SetType&amp; set, const Vari...</td>\n      <td>static void get_amqp_1_0_value_formatter(tvbuf...</td>\n      <td>static void smtp_log_to_file(smtp_t *smtp) { F...</td>\n    </tr>\n    <tr>\n      <th>4</th>\n      <td>static int filter_frame(AVFilterLink *inlink, ...</td>\n      <td>static inline const u32 *flow_keys_hash_start(...</td>\n      <td>static inline LineContribType *_gdContribution...</td>\n      <td>static unsigned SkATan2_255(float y, float x) ...</td>\n      <td>static bool intersect(active_line *endp, activ...</td>\n      <td>static int epsc_print_page(gx_device_printer *...</td>\n      <td>static void _cairo_arc_in_direction (cairo_t  ...</td>\n      <td>void bm_bezier3(Bitmap *b, int x0, int y0, int...</td>\n      <td>void bm_ellipse(Bitmap *b, int x0, int y0, int...</td>\n      <td>static int set_text_distance(gs_point *pdist, ...</td>\n    </tr>\n    <tr>\n      <th>...</th>\n      <td>...</td>\n      <td>...</td>\n      <td>...</td>\n      <td>...</td>\n      <td>...</td>\n      <td>...</td>\n      <td>...</td>\n      <td>...</td>\n      <td>...</td>\n      <td>...</td>\n    </tr>\n    <tr>\n      <th>1203</th>\n      <td>static void dissect_schedule_message(tvbuff_t ...</td>\n      <td>static void add_headers (proto_tree *tree, tvb...</td>\n      <td>static int dissect_usb_video_control_interface...</td>\n      <td>static void dissect_q931_pdu(tvbuff_t *tvb, pa...</td>\n      <td>static fp_info * fp_set_per_packet_inf_from_co...</td>\n      <td>static void dissect_opensafety_ssdo_message(tv...</td>\n      <td>static int dissect_packetcable_cccV6_option(pr...</td>\n      <td>static int dissect_bacapp(tvbuff_t *tvb, packe...</td>\n      <td>static int dissect_modbus_response(tvbuff_t *t...</td>\n      <td>static void dissect_opensafety_ssdo_message(tv...</td>\n    </tr>\n    <tr>\n      <th>1204</th>\n      <td>int git_delta_apply( void **out, size_t *out_l...</td>\n      <td>int git_delta_apply( void **out, size_t *out_l...</td>\n      <td>int move_hugetlb_page_tables(struct vm_area_st...</td>\n      <td>static int kvm_mmu_notifier_invalidate_range_s...</td>\n      <td>int mutt_seqset_iterator_next (SEQSET_ITERATOR...</td>\n      <td>void StartAdvertisingSet(int reg_id, IdTxPower...</td>\n      <td>unsigned long move_page_tables(struct vm_area_...</td>\n      <td>unsigned long move_page_tables(struct vm_area_...</td>\n      <td>void HttpSM::do_range_setup_if_necessary() { M...</td>\n      <td>static void svm_range_evict_svm_bo_worker(stru...</td>\n    </tr>\n    <tr>\n      <th>1205</th>\n      <td>static ecma_value_t ecma_module_evaluate (ecma...</td>\n      <td>ecma_value_t re_parse_char_class (re_parser_ct...</td>\n      <td>static void find_entries (FILE *inf) { char *c...</td>\n      <td>bool DNP3_Base::ProcessData(int len, const u_c...</td>\n      <td>static bool parser_parse_class_body (parser_co...</td>\n      <td>void scanner_filter_arguments (parser_context_...</td>\n      <td>void jerryx_print_unhandled_exception (jerry_v...</td>\n      <td>ecma_value_t opfunc_form_super_reference (ecma...</td>\n      <td>ecma_environment_record_t * ecma_op_get_enviro...</td>\n      <td>void parser_resolve_private_identifier (parser...</td>\n    </tr>\n    <tr>\n      <th>1206</th>\n      <td>static int dissect_pbb_tlvblock(tvbuff_t *tvb,...</td>\n      <td>static int dissect_xra_tlv_cw_info(tvbuff_t * ...</td>\n      <td>int nfc_llcp_send_cc(struct nfc_llcp_sock *soc...</td>\n      <td>static int nfc_llcp_build_gb(struct nfc_llcp_l...</td>\n      <td>static bool bgp_attr_aigp_valid(uint8_t *pnt, ...</td>\n      <td>static int llcp_sock_connect(struct socket *so...</td>\n      <td>int nfc_llcp_send_symm(struct nfc_dev *dev) { ...</td>\n      <td>static int llcp_sock_connect(struct socket *so...</td>\n      <td>static int llcp_sock_create(struct net *net, s...</td>\n      <td>static int llcp_sock_create(struct net *net, s...</td>\n    </tr>\n    <tr>\n      <th>1207</th>\n      <td>static int hhf_init(struct Qdisc *sch, struct ...</td>\n      <td>uint8_t hfs_cat_traverse(HFS_INFO * hfs, TSK_H...</td>\n      <td>void hci_sock_dev_event(struct hci_dev *hdev, ...</td>\n      <td>int nfc_deactivate_target(struct nfc_dev *dev,...</td>\n      <td>void nfc_unregister_device(struct nfc_dev *dev...</td>\n      <td>int compile_lhs( char_u    *var_start, lhs_T  ...</td>\n      <td>int ppp_register_net_channel(struct net *net, ...</td>\n      <td>int inet_csk_listen_start(struct sock *sk) { s...</td>\n      <td>static void sas_init_port(struct asd_sas_port ...</td>\n      <td>static inline pgd_t *pgd_alloc(struct mm_struc...</td>\n    </tr>\n  </tbody>\n</table>\n<p>1208 rows × 10 columns</p>\n</div>"
     },
     "execution_count": 40,
     "metadata": {},
     "output_type": "execute_result"
    }
   ],
   "source": [
    "data"
   ],
   "metadata": {
    "collapsed": false,
    "pycharm": {
     "name": "#%%\n"
    }
   }
  },
  {
   "cell_type": "code",
   "execution_count": 41,
   "outputs": [
    {
     "data": {
      "text/plain": "0       static int uv__rwlock_fallback_tryrdlock(uv_rw...\n1       void Compute(OpKernelContext* ctx) override { ...\n2       static OPJ_BOOL opj_j2k_write_sod(opj_j2k_t *p...\n3       static void mbochs_remove(struct mdev_device *...\n4       static int filter_frame(AVFilterLink *inlink, ...\n                              ...                        \n1203    static void dissect_schedule_message(tvbuff_t ...\n1204    int git_delta_apply( void **out, size_t *out_l...\n1205    static ecma_value_t ecma_module_evaluate (ecma...\n1206    static int dissect_pbb_tlvblock(tvbuff_t *tvb,...\n1207    static int hhf_init(struct Qdisc *sch, struct ...\nName: 0, Length: 1208, dtype: object"
     },
     "execution_count": 41,
     "metadata": {},
     "output_type": "execute_result"
    }
   ],
   "source": [
    "data[0]"
   ],
   "metadata": {
    "collapsed": false,
    "pycharm": {
     "name": "#%%\n"
    }
   }
  },
  {
   "cell_type": "code",
   "execution_count": 42,
   "outputs": [
    {
     "data": {
      "text/plain": "              cve_id                                        func_before  \\\n0      CVE-2018-9498  void initWithPreallocatedStorage(int count, vo...   \n1      CVE-2021-4069  static void ex_open(exarg_T *eap) { regmatch_T...   \n2     CVE-2020-29374  static int i915_gem_userptr_get_pages(struct d...   \n3     CVE-2021-32687  int setTypeAdd(robj *subject, sds value) { lon...   \n4     CVE-2018-19661  static inline void d2ulaw_array (const double ...   \n...              ...                                                ...   \n9651   CVE-2016-5135  TokenPreloadScanner::TokenPreloadScanner(const...   \n9652  CVE-2022-42012  static void byteswap_body_helper (DBusTypeRead...   \n9653  CVE-2020-12140  static void input_l2cap_frame_flow_channel(l2c...   \n9654  CVE-2023-42801  static int sendMessageTcp(short ptype, short p...   \n9655   CVE-2017-8925  static int omninet_open(struct tty_struct *tty...   \n\n                                            description  Base Score  \\\n0     In SkSampler::Fill of SkSampler.cpp, there is ...         7.8   \n1                   vim is vulnerable to Use After Free         7.8   \n2     An issue was discovered in the Linux kernel be...         3.6   \n3     Redis is an open source, in-memory database th...         7.5   \n4     An issue was discovered in libsndfile 1.0.28. ...         6.5   \n...                                                 ...         ...   \n9651  WebKit/Source/core/html/parser/HTMLPreloadScan...         6.5   \n9652  An issue was discovered in D-Bus before 1.12.2...         6.5   \n9653  A buffer overflow in os/net/mac/ble/ble-l2cap....         8.8   \n9654  Moonlight-common-c contains the core GameStrea...         7.6   \n9655  The omninet_open function in drivers/usb/seria...         5.5   \n\n     Base Severity  \n0             HIGH  \n1             HIGH  \n2              LOW  \n3             HIGH  \n4           MEDIUM  \n...            ...  \n9651        MEDIUM  \n9652        MEDIUM  \n9653          HIGH  \n9654          HIGH  \n9655        MEDIUM  \n\n[9656 rows x 5 columns]",
      "text/html": "<div>\n<style scoped>\n    .dataframe tbody tr th:only-of-type {\n        vertical-align: middle;\n    }\n\n    .dataframe tbody tr th {\n        vertical-align: top;\n    }\n\n    .dataframe thead th {\n        text-align: right;\n    }\n</style>\n<table border=\"1\" class=\"dataframe\">\n  <thead>\n    <tr style=\"text-align: right;\">\n      <th></th>\n      <th>cve_id</th>\n      <th>func_before</th>\n      <th>description</th>\n      <th>Base Score</th>\n      <th>Base Severity</th>\n    </tr>\n  </thead>\n  <tbody>\n    <tr>\n      <th>0</th>\n      <td>CVE-2018-9498</td>\n      <td>void initWithPreallocatedStorage(int count, vo...</td>\n      <td>In SkSampler::Fill of SkSampler.cpp, there is ...</td>\n      <td>7.8</td>\n      <td>HIGH</td>\n    </tr>\n    <tr>\n      <th>1</th>\n      <td>CVE-2021-4069</td>\n      <td>static void ex_open(exarg_T *eap) { regmatch_T...</td>\n      <td>vim is vulnerable to Use After Free</td>\n      <td>7.8</td>\n      <td>HIGH</td>\n    </tr>\n    <tr>\n      <th>2</th>\n      <td>CVE-2020-29374</td>\n      <td>static int i915_gem_userptr_get_pages(struct d...</td>\n      <td>An issue was discovered in the Linux kernel be...</td>\n      <td>3.6</td>\n      <td>LOW</td>\n    </tr>\n    <tr>\n      <th>3</th>\n      <td>CVE-2021-32687</td>\n      <td>int setTypeAdd(robj *subject, sds value) { lon...</td>\n      <td>Redis is an open source, in-memory database th...</td>\n      <td>7.5</td>\n      <td>HIGH</td>\n    </tr>\n    <tr>\n      <th>4</th>\n      <td>CVE-2018-19661</td>\n      <td>static inline void d2ulaw_array (const double ...</td>\n      <td>An issue was discovered in libsndfile 1.0.28. ...</td>\n      <td>6.5</td>\n      <td>MEDIUM</td>\n    </tr>\n    <tr>\n      <th>...</th>\n      <td>...</td>\n      <td>...</td>\n      <td>...</td>\n      <td>...</td>\n      <td>...</td>\n    </tr>\n    <tr>\n      <th>9651</th>\n      <td>CVE-2016-5135</td>\n      <td>TokenPreloadScanner::TokenPreloadScanner(const...</td>\n      <td>WebKit/Source/core/html/parser/HTMLPreloadScan...</td>\n      <td>6.5</td>\n      <td>MEDIUM</td>\n    </tr>\n    <tr>\n      <th>9652</th>\n      <td>CVE-2022-42012</td>\n      <td>static void byteswap_body_helper (DBusTypeRead...</td>\n      <td>An issue was discovered in D-Bus before 1.12.2...</td>\n      <td>6.5</td>\n      <td>MEDIUM</td>\n    </tr>\n    <tr>\n      <th>9653</th>\n      <td>CVE-2020-12140</td>\n      <td>static void input_l2cap_frame_flow_channel(l2c...</td>\n      <td>A buffer overflow in os/net/mac/ble/ble-l2cap....</td>\n      <td>8.8</td>\n      <td>HIGH</td>\n    </tr>\n    <tr>\n      <th>9654</th>\n      <td>CVE-2023-42801</td>\n      <td>static int sendMessageTcp(short ptype, short p...</td>\n      <td>Moonlight-common-c contains the core GameStrea...</td>\n      <td>7.6</td>\n      <td>HIGH</td>\n    </tr>\n    <tr>\n      <th>9655</th>\n      <td>CVE-2017-8925</td>\n      <td>static int omninet_open(struct tty_struct *tty...</td>\n      <td>The omninet_open function in drivers/usb/seria...</td>\n      <td>5.5</td>\n      <td>MEDIUM</td>\n    </tr>\n  </tbody>\n</table>\n<p>9656 rows × 5 columns</p>\n</div>"
     },
     "execution_count": 42,
     "metadata": {},
     "output_type": "execute_result"
    }
   ],
   "source": [
    "data2"
   ],
   "metadata": {
    "collapsed": false,
    "pycharm": {
     "name": "#%%\n"
    }
   }
  },
  {
   "cell_type": "code",
   "execution_count": 43,
   "outputs": [],
   "source": [
    "func_before = data2[\"func_before\"]\n",
    "description = data2[\"description\"]\n",
    "Base_Score = data2[\"Base Score\"]\n",
    "Base_Severity = data2[\"Base Severity\"]"
   ],
   "metadata": {
    "collapsed": false,
    "pycharm": {
     "name": "#%%\n"
    }
   }
  },
  {
   "cell_type": "code",
   "execution_count": 44,
   "outputs": [
    {
     "data": {
      "text/plain": "0         HIGH\n1         HIGH\n2          LOW\n3         HIGH\n4       MEDIUM\n         ...  \n9651    MEDIUM\n9652    MEDIUM\n9653      HIGH\n9654      HIGH\n9655    MEDIUM\nName: Base Severity, Length: 9656, dtype: object"
     },
     "execution_count": 44,
     "metadata": {},
     "output_type": "execute_result"
    }
   ],
   "source": [
    "Base_Severity"
   ],
   "metadata": {
    "collapsed": false,
    "pycharm": {
     "name": "#%%\n"
    }
   }
  },
  {
   "cell_type": "code",
   "execution_count": 45,
   "outputs": [
    {
     "name": "stdout",
     "output_type": "stream",
     "text": [
      "0\n",
      "1208\n",
      "1208\n",
      "1\n",
      "1208\n",
      "1208\n",
      "2\n",
      "1208\n",
      "1208\n",
      "3\n",
      "1208\n",
      "1208\n",
      "4\n",
      "1208\n",
      "1208\n",
      "5\n",
      "1208\n",
      "1208\n",
      "6\n",
      "1208\n",
      "1208\n",
      "7\n",
      "1208\n",
      "1208\n",
      "8\n",
      "1208\n",
      "1208\n",
      "9\n",
      "1208\n",
      "1208\n"
     ]
    }
   ],
   "source": [
    "df1 = pd.DataFrame()\n",
    "df2 = pd.DataFrame()\n",
    "df3 = pd.DataFrame()\n",
    "for i in range(10):\n",
    "    codes = data[i]\n",
    "    descs = []\n",
    "    bscore = []\n",
    "    bseverity = []\n",
    "    for j in range(len(codes)):\n",
    "        for k in range(len(func_before)):\n",
    "            if func_before[k] == codes[j]:\n",
    "                descs.append(description[k])\n",
    "                bscore.append(Base_Score[k])\n",
    "                bseverity.append(Base_Severity[k])\n",
    "                break\n",
    "    print(i)\n",
    "    print(len(codes))\n",
    "    print(len(bseverity))\n",
    "    df1[i] = descs\n",
    "    df2[i] = bscore\n",
    "    df3[i] = bseverity"
   ],
   "metadata": {
    "collapsed": false,
    "pycharm": {
     "name": "#%%\n"
    }
   }
  },
  {
   "cell_type": "code",
   "execution_count": 46,
   "outputs": [],
   "source": [
    "df1.to_csv(\"./results/10-0/code-10_2_desc.csv\",header=None,index=None)"
   ],
   "metadata": {
    "collapsed": false,
    "pycharm": {
     "name": "#%%\n"
    }
   }
  },
  {
   "cell_type": "code",
   "execution_count": 47,
   "outputs": [],
   "source": [
    "df2.to_csv(\"./results/10-0/code-10_2_bscore.csv\",header=None,index=None)"
   ],
   "metadata": {
    "collapsed": false,
    "pycharm": {
     "name": "#%%\n"
    }
   }
  },
  {
   "cell_type": "code",
   "execution_count": 48,
   "outputs": [],
   "source": [
    "df3.to_csv(\"./results/10-0/code-10_2_bseverity.csv\",header=None,index=None)"
   ],
   "metadata": {
    "collapsed": false,
    "pycharm": {
     "name": "#%%\n"
    }
   }
  },
  {
   "cell_type": "code",
   "execution_count": null,
   "outputs": [],
   "source": [],
   "metadata": {
    "collapsed": false,
    "pycharm": {
     "name": "#%%\n"
    }
   }
  }
 ],
 "metadata": {
  "kernelspec": {
   "display_name": "Python 3",
   "language": "python",
   "name": "python3"
  },
  "language_info": {
   "codemirror_mode": {
    "name": "ipython",
    "version": 2
   },
   "file_extension": ".py",
   "mimetype": "text/x-python",
   "name": "python",
   "nbconvert_exporter": "python",
   "pygments_lexer": "ipython2",
   "version": "2.7.6"
  }
 },
 "nbformat": 4,
 "nbformat_minor": 0
}