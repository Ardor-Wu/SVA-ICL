{
 "cells": [
  {
   "cell_type": "code",
   "execution_count": 139,
   "metadata": {
    "collapsed": true
   },
   "outputs": [],
   "source": [
    "import pandas as pd"
   ]
  },
  {
   "cell_type": "code",
   "execution_count": 155,
   "outputs": [],
   "source": [
    "source_file = './dataset/demo2.xlsx'\n",
    "data = pd.read_excel(source_file)\n",
    "\n"
   ],
   "metadata": {
    "collapsed": false,
    "pycharm": {
     "name": "#%%\n"
    }
   }
  },
  {
   "cell_type": "code",
   "execution_count": 156,
   "outputs": [
    {
     "data": {
      "text/plain": "              cve_id        cwe_ids                 cvss_vector  cvss_is_v3  \\\n0      CVE-2016-2538    ['CWE-189']  AV:L/AC:L/Au:N/C:P/I:N/A:P         0.0   \n1      CVE-2016-2538    ['CWE-189']  AV:L/AC:L/Au:N/C:P/I:N/A:P         0.0   \n2      CVE-2016-2538    ['CWE-189']  AV:L/AC:L/Au:N/C:P/I:N/A:P         0.0   \n3      CVE-2016-2841     ['CWE-20']  AV:L/AC:L/Au:N/C:N/I:N/A:P         0.0   \n4      CVE-2016-3062    ['CWE-119']  AV:N/AC:M/Au:N/C:P/I:P/A:P         0.0   \n...              ...            ...                         ...         ...   \n17970  CVE-2012-2121    ['CWE-264']  AV:L/AC:L/Au:N/C:N/I:N/A:C         0.0   \n17971  CVE-2012-2121    ['CWE-264']  AV:L/AC:L/Au:N/C:N/I:N/A:C         0.0   \n17972  CVE-2012-2123    ['CWE-264']  AV:L/AC:L/Au:N/C:C/I:C/A:C         0.0   \n17973  CVE-2015-1292    ['CWE-264']  AV:N/AC:L/Au:N/C:P/I:N/A:N         0.0   \n17974  CVE-2015-1294  ['CWE-Other']  AV:N/AC:L/Au:N/C:P/I:P/A:P         0.0   \n\n            repo_name                                         commit_msg  \\\n0                qemu  usb: check RNDIS buffer offsets & length\\n\\nWh...   \n1                qemu  usb: check RNDIS buffer offsets & length\\n\\nWh...   \n2                qemu  usb: check RNDIS buffer offsets & length\\n\\nWh...   \n3                qemu  net: ne2000: check ring buffer control registe...   \n4              ffmpeg  mov: reset dref_count on realloc to keep value...   \n...               ...                                                ...   \n17970  torvalds/linux  KVM: unmap pages from the iommu when slots are...   \n17971  torvalds/linux  KVM: unmap pages from the iommu when slots are...   \n17972  torvalds/linux  fcaps: clear the same personality flags as sui...   \n17973        chromium  DOMWindow::navigator should return a navigator...   \n17974            skia  Added check for ill-conditioned invert\\n\\nsk_i...   \n\n                                    commit_hash  \\\n0      fe3c546c5ff2a6210f9a4d8561cc64051ca8603e   \n1      fe3c546c5ff2a6210f9a4d8561cc64051ca8603e   \n2      fe3c546c5ff2a6210f9a4d8561cc64051ca8603e   \n3      415ab35a441eca767d033a2702223e785b9d5190   \n4      689e59b7ffed34eba6159dcc78e87133862e3746   \n...                                         ...   \n17970  09ca8e1173bcb12e2a449698c9ae3b86a8a10195   \n17971  09ca8e1173bcb12e2a449698c9ae3b86a8a10195   \n17972  d52fc5dde171f030170a6cb78034d166b13c9445   \n17973  c62d8db228d01f75d74b5a3420c6dec8f7d961fd   \n17974  20eee3f047f56b7715b311313b2998daaaf08a96   \n\n                                                 git_url  \\\n0      https://github.com/qemu/qemu/commit/fe3c546c5f...   \n1      https://github.com/qemu/qemu/commit/fe3c546c5f...   \n2      https://github.com/qemu/qemu/commit/fe3c546c5f...   \n3      https://github.com/qemu/qemu/commit/415ab35a44...   \n4      https://github.com/FFmpeg/FFmpeg/commit/689e59...   \n...                                                  ...   \n17970  https://github.com/torvalds/linux/commit/09ca8...   \n17971  https://github.com/torvalds/linux/commit/09ca8...   \n17972  https://github.com/torvalds/linux/commit/d52fc...   \n17973  https://github.com/chromium/chromium/commit/c6...   \n17974  https://skia.googlesource.com/skia/+/20eee3f04...   \n\n                                               file_path  \\\n0                                   hw/usb/dev-network.c   \n1                                   hw/usb/dev-network.c   \n2                                   hw/usb/dev-network.c   \n3                                        hw/net/ne2000.c   \n4                                      libavformat/mov.c   \n...                                                  ...   \n17970                                virt/kvm/kvm_main.c   \n17971                                   virt/kvm/iommu.c   \n17972                               security/commoncap.c   \n17973  third_party/WebKit/Source/core/frame/LocalDOMW...   \n17974                              src/core/SkMatrix.cpp   \n\n                         func_name  \\\n0             rndis_query_response   \n1               rndis_set_response   \n2           usb_net_handle_dataout   \n3               ne2000_buffer_full   \n4                    mov_read_dref   \n...                            ...   \n17970      __kvm_set_memory_region   \n17971     kvm_iommu_unmap_memslots   \n17972           cap_bprm_set_creds   \n17973    LocalDOMWindow::navigator   \n17974  SkMatrix::invertNonIdentity   \n\n                                             func_before  \\\n0      static int rndis_query_response(USBNetState *s...   \n1      static int rndis_set_response(USBNetState *s,\\...   \n2      static void usb_net_handle_dataout(USBNetState...   \n3      static int ne2000_buffer_full(NE2000State *s)\\...   \n4      static int mov_read_dref(MOVContext *c, AVIOCo...   \n...                                                  ...   \n17970  int __kvm_set_memory_region(struct kvm *kvm,\\n...   \n17971  static int kvm_iommu_unmap_memslots(struct kvm...   \n17972  int cap_bprm_set_creds(struct linux_binprm *bp...   \n17973  Navigator* LocalDOMWindow::navigator() const\\n...   \n17974  bool SkMatrix::invertNonIdentity(SkMatrix* inv...   \n\n                                    abstract_func_before  \\\n0      static int rndis_query_response(USBNetState *V...   \n1      static int rndis_set_response(USBNetState *VAR...   \n2      static void usb_net_handle_dataout(USBNetState...   \n3      static int ne2000_buffer_full(NE2000State *VAR...   \n4      static int mov_read_dref(MOVContext *VAR_0, AV...   \n...                                                  ...   \n17970  int __kvm_set_memory_region(struct kvm *kvm,\\n...   \n17971  static int kvm_iommu_unmap_memslots(struct kvm...   \n17972  int cap_bprm_set_creds(struct linux_binprm *VA...   \n17973  Navigator* LocalDOMWindow::navigator() const\\n...   \n17974  bool SkMatrix::invertNonIdentity(SkMatrix* VAR...   \n\n                                  func_graph_path_before  \\\n0      qemu/fe3c546c5ff2a6210f9a4d8561cc64051ca8603e/...   \n1      qemu/fe3c546c5ff2a6210f9a4d8561cc64051ca8603e/...   \n2      qemu/fe3c546c5ff2a6210f9a4d8561cc64051ca8603e/...   \n3      qemu/415ab35a441eca767d033a2702223e785b9d5190/...   \n4      ffmpeg/689e59b7ffed34eba6159dcc78e87133862e374...   \n...                                                  ...   \n17970  torvalds/linux/09ca8e1173bcb12e2a449698c9ae3b8...   \n17971  torvalds/linux/09ca8e1173bcb12e2a449698c9ae3b8...   \n17972  torvalds/linux/d52fc5dde171f030170a6cb78034d16...   \n17973  chromium/c62d8db228d01f75d74b5a3420c6dec8f7d96...   \n17974  skia/20eee3f047f56b7715b311313b2998daaaf08a96/...   \n\n                                                    func  \\\n0      static int rndis_query_response(USBNetState *s...   \n1      static int rndis_set_response(USBNetState *s,\\...   \n2      static void usb_net_handle_dataout(USBNetState...   \n3      static int ne2000_buffer_full(NE2000State *s)\\...   \n4      static int mov_read_dref(MOVContext *c, AVIOCo...   \n...                                                  ...   \n17970  int __kvm_set_memory_region(struct kvm *kvm,\\n...   \n17971  static int kvm_iommu_unmap_memslots(struct kvm...   \n17972  int cap_bprm_set_creds(struct linux_binprm *bp...   \n17973  Navigator* LocalDOMWindow::navigator() const\\n...   \n17974  bool SkMatrix::invertNonIdentity(SkMatrix* inv...   \n\n                                           abstract_func  \\\n0      static int rndis_query_response(USBNetState *V...   \n1      static int rndis_set_response(USBNetState *VAR...   \n2      static void usb_net_handle_dataout(USBNetState...   \n3      static int ne2000_buffer_full(NE2000State *VAR...   \n4      static int mov_read_dref(MOVContext *VAR_0, AV...   \n...                                                  ...   \n17970  int __kvm_set_memory_region(struct kvm *kvm,\\n...   \n17971  static int kvm_iommu_unmap_memslots(struct kvm...   \n17972  int cap_bprm_set_creds(struct linux_binprm *VA...   \n17973  Navigator* LocalDOMWindow::navigator() const\\n...   \n17974  bool SkMatrix::invertNonIdentity(SkMatrix* VAR...   \n\n                                         func_graph_path  \\\n0      qemu/fe3c546c5ff2a6210f9a4d8561cc64051ca8603e/...   \n1      qemu/fe3c546c5ff2a6210f9a4d8561cc64051ca8603e/...   \n2      qemu/fe3c546c5ff2a6210f9a4d8561cc64051ca8603e/...   \n3      qemu/415ab35a441eca767d033a2702223e785b9d5190/...   \n4      ffmpeg/689e59b7ffed34eba6159dcc78e87133862e374...   \n...                                                  ...   \n17970  torvalds/linux/09ca8e1173bcb12e2a449698c9ae3b8...   \n17971  torvalds/linux/09ca8e1173bcb12e2a449698c9ae3b8...   \n17972  torvalds/linux/d52fc5dde171f030170a6cb78034d16...   \n17973  chromium/c62d8db228d01f75d74b5a3420c6dec8f7d96...   \n17974  skia/20eee3f047f56b7715b311313b2998daaaf08a96/...   \n\n                                               diff_func  \\\n0      --- func_before\\n+++ func_after\\n@@ -10,8 +10,...   \n1      --- func_before\\n+++ func_after\\n@@ -11,8 +11,...   \n2      --- func_before\\n+++ func_after\\n@@ -30,8 +30,...   \n3      --- func_before\\n+++ func_after\\n@@ -1,6 +1,10...   \n4      --- func_before\\n+++ func_after\\n@@ -14,6 +14,...   \n...                                                  ...   \n17970  --- func_before\\n+++ func_after\\n@@ -165,12 +1...   \n17971  --- func_before\\n+++ func_after\\n@@ -8,7 +8,7 ...   \n17972  --- func_before\\n+++ func_after\\n@@ -36,6 +36,...   \n17973  --- func_before\\n+++ func_after\\n@@ -1,6 +1,15...   \n17974  --- func_before\\n+++ func_after\\n@@ -41,49 +41...   \n\n                                          diff_line_info  is_vul  \n0      {'deleted_lines': ['    if (bufoffs + buflen >...    True  \n1      {'deleted_lines': ['    if (bufoffs + buflen >...    True  \n2      {'deleted_lines': ['        if (offs + size <=...    True  \n3      {'deleted_lines': [], 'added_lines': ['', '   ...    True  \n4      {'deleted_lines': [], 'added_lines': ['    sc-...    True  \n...                                                  ...     ...  \n17970  {'deleted_lines': ['\\t/* map the pages in iomm...    True  \n17971  {'deleted_lines': ['\\t\\tkvm_iommu_put_pages(kv...    True  \n17972  {'deleted_lines': [], 'added_lines': ['', '\\t/...    True  \n17973  {'deleted_lines': [], 'added_lines': ['    if ...    True  \n17974  {'deleted_lines': ['    double scale = sk_inv_...    True  \n\n[17975 rows x 19 columns]",
      "text/html": "<div>\n<style scoped>\n    .dataframe tbody tr th:only-of-type {\n        vertical-align: middle;\n    }\n\n    .dataframe tbody tr th {\n        vertical-align: top;\n    }\n\n    .dataframe thead th {\n        text-align: right;\n    }\n</style>\n<table border=\"1\" class=\"dataframe\">\n  <thead>\n    <tr style=\"text-align: right;\">\n      <th></th>\n      <th>cve_id</th>\n      <th>cwe_ids</th>\n      <th>cvss_vector</th>\n      <th>cvss_is_v3</th>\n      <th>repo_name</th>\n      <th>commit_msg</th>\n      <th>commit_hash</th>\n      <th>git_url</th>\n      <th>file_path</th>\n      <th>func_name</th>\n      <th>func_before</th>\n      <th>abstract_func_before</th>\n      <th>func_graph_path_before</th>\n      <th>func</th>\n      <th>abstract_func</th>\n      <th>func_graph_path</th>\n      <th>diff_func</th>\n      <th>diff_line_info</th>\n      <th>is_vul</th>\n    </tr>\n  </thead>\n  <tbody>\n    <tr>\n      <th>0</th>\n      <td>CVE-2016-2538</td>\n      <td>['CWE-189']</td>\n      <td>AV:L/AC:L/Au:N/C:P/I:N/A:P</td>\n      <td>0.0</td>\n      <td>qemu</td>\n      <td>usb: check RNDIS buffer offsets &amp; length\\n\\nWh...</td>\n      <td>fe3c546c5ff2a6210f9a4d8561cc64051ca8603e</td>\n      <td>https://github.com/qemu/qemu/commit/fe3c546c5f...</td>\n      <td>hw/usb/dev-network.c</td>\n      <td>rndis_query_response</td>\n      <td>static int rndis_query_response(USBNetState *s...</td>\n      <td>static int rndis_query_response(USBNetState *V...</td>\n      <td>qemu/fe3c546c5ff2a6210f9a4d8561cc64051ca8603e/...</td>\n      <td>static int rndis_query_response(USBNetState *s...</td>\n      <td>static int rndis_query_response(USBNetState *V...</td>\n      <td>qemu/fe3c546c5ff2a6210f9a4d8561cc64051ca8603e/...</td>\n      <td>--- func_before\\n+++ func_after\\n@@ -10,8 +10,...</td>\n      <td>{'deleted_lines': ['    if (bufoffs + buflen &gt;...</td>\n      <td>True</td>\n    </tr>\n    <tr>\n      <th>1</th>\n      <td>CVE-2016-2538</td>\n      <td>['CWE-189']</td>\n      <td>AV:L/AC:L/Au:N/C:P/I:N/A:P</td>\n      <td>0.0</td>\n      <td>qemu</td>\n      <td>usb: check RNDIS buffer offsets &amp; length\\n\\nWh...</td>\n      <td>fe3c546c5ff2a6210f9a4d8561cc64051ca8603e</td>\n      <td>https://github.com/qemu/qemu/commit/fe3c546c5f...</td>\n      <td>hw/usb/dev-network.c</td>\n      <td>rndis_set_response</td>\n      <td>static int rndis_set_response(USBNetState *s,\\...</td>\n      <td>static int rndis_set_response(USBNetState *VAR...</td>\n      <td>qemu/fe3c546c5ff2a6210f9a4d8561cc64051ca8603e/...</td>\n      <td>static int rndis_set_response(USBNetState *s,\\...</td>\n      <td>static int rndis_set_response(USBNetState *VAR...</td>\n      <td>qemu/fe3c546c5ff2a6210f9a4d8561cc64051ca8603e/...</td>\n      <td>--- func_before\\n+++ func_after\\n@@ -11,8 +11,...</td>\n      <td>{'deleted_lines': ['    if (bufoffs + buflen &gt;...</td>\n      <td>True</td>\n    </tr>\n    <tr>\n      <th>2</th>\n      <td>CVE-2016-2538</td>\n      <td>['CWE-189']</td>\n      <td>AV:L/AC:L/Au:N/C:P/I:N/A:P</td>\n      <td>0.0</td>\n      <td>qemu</td>\n      <td>usb: check RNDIS buffer offsets &amp; length\\n\\nWh...</td>\n      <td>fe3c546c5ff2a6210f9a4d8561cc64051ca8603e</td>\n      <td>https://github.com/qemu/qemu/commit/fe3c546c5f...</td>\n      <td>hw/usb/dev-network.c</td>\n      <td>usb_net_handle_dataout</td>\n      <td>static void usb_net_handle_dataout(USBNetState...</td>\n      <td>static void usb_net_handle_dataout(USBNetState...</td>\n      <td>qemu/fe3c546c5ff2a6210f9a4d8561cc64051ca8603e/...</td>\n      <td>static void usb_net_handle_dataout(USBNetState...</td>\n      <td>static void usb_net_handle_dataout(USBNetState...</td>\n      <td>qemu/fe3c546c5ff2a6210f9a4d8561cc64051ca8603e/...</td>\n      <td>--- func_before\\n+++ func_after\\n@@ -30,8 +30,...</td>\n      <td>{'deleted_lines': ['        if (offs + size &lt;=...</td>\n      <td>True</td>\n    </tr>\n    <tr>\n      <th>3</th>\n      <td>CVE-2016-2841</td>\n      <td>['CWE-20']</td>\n      <td>AV:L/AC:L/Au:N/C:N/I:N/A:P</td>\n      <td>0.0</td>\n      <td>qemu</td>\n      <td>net: ne2000: check ring buffer control registe...</td>\n      <td>415ab35a441eca767d033a2702223e785b9d5190</td>\n      <td>https://github.com/qemu/qemu/commit/415ab35a44...</td>\n      <td>hw/net/ne2000.c</td>\n      <td>ne2000_buffer_full</td>\n      <td>static int ne2000_buffer_full(NE2000State *s)\\...</td>\n      <td>static int ne2000_buffer_full(NE2000State *VAR...</td>\n      <td>qemu/415ab35a441eca767d033a2702223e785b9d5190/...</td>\n      <td>static int ne2000_buffer_full(NE2000State *s)\\...</td>\n      <td>static int ne2000_buffer_full(NE2000State *VAR...</td>\n      <td>qemu/415ab35a441eca767d033a2702223e785b9d5190/...</td>\n      <td>--- func_before\\n+++ func_after\\n@@ -1,6 +1,10...</td>\n      <td>{'deleted_lines': [], 'added_lines': ['', '   ...</td>\n      <td>True</td>\n    </tr>\n    <tr>\n      <th>4</th>\n      <td>CVE-2016-3062</td>\n      <td>['CWE-119']</td>\n      <td>AV:N/AC:M/Au:N/C:P/I:P/A:P</td>\n      <td>0.0</td>\n      <td>ffmpeg</td>\n      <td>mov: reset dref_count on realloc to keep value...</td>\n      <td>689e59b7ffed34eba6159dcc78e87133862e3746</td>\n      <td>https://github.com/FFmpeg/FFmpeg/commit/689e59...</td>\n      <td>libavformat/mov.c</td>\n      <td>mov_read_dref</td>\n      <td>static int mov_read_dref(MOVContext *c, AVIOCo...</td>\n      <td>static int mov_read_dref(MOVContext *VAR_0, AV...</td>\n      <td>ffmpeg/689e59b7ffed34eba6159dcc78e87133862e374...</td>\n      <td>static int mov_read_dref(MOVContext *c, AVIOCo...</td>\n      <td>static int mov_read_dref(MOVContext *VAR_0, AV...</td>\n      <td>ffmpeg/689e59b7ffed34eba6159dcc78e87133862e374...</td>\n      <td>--- func_before\\n+++ func_after\\n@@ -14,6 +14,...</td>\n      <td>{'deleted_lines': [], 'added_lines': ['    sc-...</td>\n      <td>True</td>\n    </tr>\n    <tr>\n      <th>...</th>\n      <td>...</td>\n      <td>...</td>\n      <td>...</td>\n      <td>...</td>\n      <td>...</td>\n      <td>...</td>\n      <td>...</td>\n      <td>...</td>\n      <td>...</td>\n      <td>...</td>\n      <td>...</td>\n      <td>...</td>\n      <td>...</td>\n      <td>...</td>\n      <td>...</td>\n      <td>...</td>\n      <td>...</td>\n      <td>...</td>\n      <td>...</td>\n    </tr>\n    <tr>\n      <th>17970</th>\n      <td>CVE-2012-2121</td>\n      <td>['CWE-264']</td>\n      <td>AV:L/AC:L/Au:N/C:N/I:N/A:C</td>\n      <td>0.0</td>\n      <td>torvalds/linux</td>\n      <td>KVM: unmap pages from the iommu when slots are...</td>\n      <td>09ca8e1173bcb12e2a449698c9ae3b86a8a10195</td>\n      <td>https://github.com/torvalds/linux/commit/09ca8...</td>\n      <td>virt/kvm/kvm_main.c</td>\n      <td>__kvm_set_memory_region</td>\n      <td>int __kvm_set_memory_region(struct kvm *kvm,\\n...</td>\n      <td>int __kvm_set_memory_region(struct kvm *kvm,\\n...</td>\n      <td>torvalds/linux/09ca8e1173bcb12e2a449698c9ae3b8...</td>\n      <td>int __kvm_set_memory_region(struct kvm *kvm,\\n...</td>\n      <td>int __kvm_set_memory_region(struct kvm *kvm,\\n...</td>\n      <td>torvalds/linux/09ca8e1173bcb12e2a449698c9ae3b8...</td>\n      <td>--- func_before\\n+++ func_after\\n@@ -165,12 +1...</td>\n      <td>{'deleted_lines': ['\\t/* map the pages in iomm...</td>\n      <td>True</td>\n    </tr>\n    <tr>\n      <th>17971</th>\n      <td>CVE-2012-2121</td>\n      <td>['CWE-264']</td>\n      <td>AV:L/AC:L/Au:N/C:N/I:N/A:C</td>\n      <td>0.0</td>\n      <td>torvalds/linux</td>\n      <td>KVM: unmap pages from the iommu when slots are...</td>\n      <td>09ca8e1173bcb12e2a449698c9ae3b86a8a10195</td>\n      <td>https://github.com/torvalds/linux/commit/09ca8...</td>\n      <td>virt/kvm/iommu.c</td>\n      <td>kvm_iommu_unmap_memslots</td>\n      <td>static int kvm_iommu_unmap_memslots(struct kvm...</td>\n      <td>static int kvm_iommu_unmap_memslots(struct kvm...</td>\n      <td>torvalds/linux/09ca8e1173bcb12e2a449698c9ae3b8...</td>\n      <td>static int kvm_iommu_unmap_memslots(struct kvm...</td>\n      <td>static int kvm_iommu_unmap_memslots(struct kvm...</td>\n      <td>torvalds/linux/09ca8e1173bcb12e2a449698c9ae3b8...</td>\n      <td>--- func_before\\n+++ func_after\\n@@ -8,7 +8,7 ...</td>\n      <td>{'deleted_lines': ['\\t\\tkvm_iommu_put_pages(kv...</td>\n      <td>True</td>\n    </tr>\n    <tr>\n      <th>17972</th>\n      <td>CVE-2012-2123</td>\n      <td>['CWE-264']</td>\n      <td>AV:L/AC:L/Au:N/C:C/I:C/A:C</td>\n      <td>0.0</td>\n      <td>torvalds/linux</td>\n      <td>fcaps: clear the same personality flags as sui...</td>\n      <td>d52fc5dde171f030170a6cb78034d166b13c9445</td>\n      <td>https://github.com/torvalds/linux/commit/d52fc...</td>\n      <td>security/commoncap.c</td>\n      <td>cap_bprm_set_creds</td>\n      <td>int cap_bprm_set_creds(struct linux_binprm *bp...</td>\n      <td>int cap_bprm_set_creds(struct linux_binprm *VA...</td>\n      <td>torvalds/linux/d52fc5dde171f030170a6cb78034d16...</td>\n      <td>int cap_bprm_set_creds(struct linux_binprm *bp...</td>\n      <td>int cap_bprm_set_creds(struct linux_binprm *VA...</td>\n      <td>torvalds/linux/d52fc5dde171f030170a6cb78034d16...</td>\n      <td>--- func_before\\n+++ func_after\\n@@ -36,6 +36,...</td>\n      <td>{'deleted_lines': [], 'added_lines': ['', '\\t/...</td>\n      <td>True</td>\n    </tr>\n    <tr>\n      <th>17973</th>\n      <td>CVE-2015-1292</td>\n      <td>['CWE-264']</td>\n      <td>AV:N/AC:L/Au:N/C:P/I:N/A:N</td>\n      <td>0.0</td>\n      <td>chromium</td>\n      <td>DOMWindow::navigator should return a navigator...</td>\n      <td>c62d8db228d01f75d74b5a3420c6dec8f7d961fd</td>\n      <td>https://github.com/chromium/chromium/commit/c6...</td>\n      <td>third_party/WebKit/Source/core/frame/LocalDOMW...</td>\n      <td>LocalDOMWindow::navigator</td>\n      <td>Navigator* LocalDOMWindow::navigator() const\\n...</td>\n      <td>Navigator* LocalDOMWindow::navigator() const\\n...</td>\n      <td>chromium/c62d8db228d01f75d74b5a3420c6dec8f7d96...</td>\n      <td>Navigator* LocalDOMWindow::navigator() const\\n...</td>\n      <td>Navigator* LocalDOMWindow::navigator() const\\n...</td>\n      <td>chromium/c62d8db228d01f75d74b5a3420c6dec8f7d96...</td>\n      <td>--- func_before\\n+++ func_after\\n@@ -1,6 +1,15...</td>\n      <td>{'deleted_lines': [], 'added_lines': ['    if ...</td>\n      <td>True</td>\n    </tr>\n    <tr>\n      <th>17974</th>\n      <td>CVE-2015-1294</td>\n      <td>['CWE-Other']</td>\n      <td>AV:N/AC:L/Au:N/C:P/I:P/A:P</td>\n      <td>0.0</td>\n      <td>skia</td>\n      <td>Added check for ill-conditioned invert\\n\\nsk_i...</td>\n      <td>20eee3f047f56b7715b311313b2998daaaf08a96</td>\n      <td>https://skia.googlesource.com/skia/+/20eee3f04...</td>\n      <td>src/core/SkMatrix.cpp</td>\n      <td>SkMatrix::invertNonIdentity</td>\n      <td>bool SkMatrix::invertNonIdentity(SkMatrix* inv...</td>\n      <td>bool SkMatrix::invertNonIdentity(SkMatrix* VAR...</td>\n      <td>skia/20eee3f047f56b7715b311313b2998daaaf08a96/...</td>\n      <td>bool SkMatrix::invertNonIdentity(SkMatrix* inv...</td>\n      <td>bool SkMatrix::invertNonIdentity(SkMatrix* VAR...</td>\n      <td>skia/20eee3f047f56b7715b311313b2998daaaf08a96/...</td>\n      <td>--- func_before\\n+++ func_after\\n@@ -41,49 +41...</td>\n      <td>{'deleted_lines': ['    double scale = sk_inv_...</td>\n      <td>True</td>\n    </tr>\n  </tbody>\n</table>\n<p>17975 rows × 19 columns</p>\n</div>"
     },
     "execution_count": 156,
     "metadata": {},
     "output_type": "execute_result"
    }
   ],
   "source": [
    "data"
   ],
   "metadata": {
    "collapsed": false,
    "pycharm": {
     "name": "#%%\n"
    }
   }
  },
  {
   "cell_type": "code",
   "execution_count": 157,
   "outputs": [
    {
     "data": {
      "text/plain": "'SkMatrix::invertNonIdentity'"
     },
     "execution_count": 157,
     "metadata": {},
     "output_type": "execute_result"
    }
   ],
   "source": [
    "data['func_name'][17974]"
   ],
   "metadata": {
    "collapsed": false,
    "pycharm": {
     "name": "#%%\n"
    }
   }
  },
  {
   "cell_type": "code",
   "execution_count": 158,
   "outputs": [],
   "source": [
    "test = pd.read_excel(\"./dataset3/valid/valid_all.xlsx\")"
   ],
   "metadata": {
    "collapsed": false,
    "pycharm": {
     "name": "#%%\n"
    }
   }
  },
  {
   "cell_type": "code",
   "execution_count": 159,
   "outputs": [
    {
     "data": {
      "text/plain": "              cve_id                                        func_before  \\\n0     CVE-2017-15593  void page_unlock(struct page_info *page) { uns...   \n1      CVE-2023-1989  static void btsdio_remove(struct sdio_func *fu...   \n2     CVE-2019-18420  unsigned long hypercall_create_continuation( u...   \n3      CVE-2016-4971  static uerr_t ftp_loop_internal (struct url *u...   \n4     CVE-2020-16299  static int md_open(gx_device *pdev) { static c...   \n...              ...                                                ...   \n1202   CVE-2015-6831  static HashTable *spl_object_storage_get_gc(zv...   \n1203  CVE-2023-28101  gboolean flatpak_context_parse_filesystem (con...   \n1204   CVE-2023-1076  static int tap_open(struct inode *inode, struc...   \n1205  CVE-2022-42703  int anon_vma_fork(struct vm_area_struct *vma, ...   \n1206  CVE-2021-33185  size_t count_in_range(size_t start, size_t len...   \n\n                                            description  Base Score  \\\n0     An issue was discovered in Xen through 4.9.x a...         6.5   \n1     A use-after-free flaw was found in btsdio_remo...         7.0   \n2     An issue was discovered in Xen through 4.12.x ...         6.5   \n3     GNU wget before 1.18 allows remote servers to ...         8.8   \n4     A Division by Zero vulnerability in bj10v_prin...         5.5   \n...                                                 ...         ...   \n1202  Multiple use-after-free vulnerabilities in SPL...         7.3   \n1203  Flatpak is a system for building, distributing...         5.0   \n1204  A flaw was found in the Linux Kernel. The tun/...         5.5   \n1205  mm/rmap.c in the Linux kernel before 5.19.7 ha...         5.5   \n1206  SerenityOS contains a buffer overflow in the s...         7.5   \n\n     Base Severity  \n0           MEDIUM  \n1             HIGH  \n2           MEDIUM  \n3             HIGH  \n4           MEDIUM  \n...            ...  \n1202          HIGH  \n1203        MEDIUM  \n1204        MEDIUM  \n1205        MEDIUM  \n1206          HIGH  \n\n[1207 rows x 5 columns]",
      "text/html": "<div>\n<style scoped>\n    .dataframe tbody tr th:only-of-type {\n        vertical-align: middle;\n    }\n\n    .dataframe tbody tr th {\n        vertical-align: top;\n    }\n\n    .dataframe thead th {\n        text-align: right;\n    }\n</style>\n<table border=\"1\" class=\"dataframe\">\n  <thead>\n    <tr style=\"text-align: right;\">\n      <th></th>\n      <th>cve_id</th>\n      <th>func_before</th>\n      <th>description</th>\n      <th>Base Score</th>\n      <th>Base Severity</th>\n    </tr>\n  </thead>\n  <tbody>\n    <tr>\n      <th>0</th>\n      <td>CVE-2017-15593</td>\n      <td>void page_unlock(struct page_info *page) { uns...</td>\n      <td>An issue was discovered in Xen through 4.9.x a...</td>\n      <td>6.5</td>\n      <td>MEDIUM</td>\n    </tr>\n    <tr>\n      <th>1</th>\n      <td>CVE-2023-1989</td>\n      <td>static void btsdio_remove(struct sdio_func *fu...</td>\n      <td>A use-after-free flaw was found in btsdio_remo...</td>\n      <td>7.0</td>\n      <td>HIGH</td>\n    </tr>\n    <tr>\n      <th>2</th>\n      <td>CVE-2019-18420</td>\n      <td>unsigned long hypercall_create_continuation( u...</td>\n      <td>An issue was discovered in Xen through 4.12.x ...</td>\n      <td>6.5</td>\n      <td>MEDIUM</td>\n    </tr>\n    <tr>\n      <th>3</th>\n      <td>CVE-2016-4971</td>\n      <td>static uerr_t ftp_loop_internal (struct url *u...</td>\n      <td>GNU wget before 1.18 allows remote servers to ...</td>\n      <td>8.8</td>\n      <td>HIGH</td>\n    </tr>\n    <tr>\n      <th>4</th>\n      <td>CVE-2020-16299</td>\n      <td>static int md_open(gx_device *pdev) { static c...</td>\n      <td>A Division by Zero vulnerability in bj10v_prin...</td>\n      <td>5.5</td>\n      <td>MEDIUM</td>\n    </tr>\n    <tr>\n      <th>...</th>\n      <td>...</td>\n      <td>...</td>\n      <td>...</td>\n      <td>...</td>\n      <td>...</td>\n    </tr>\n    <tr>\n      <th>1202</th>\n      <td>CVE-2015-6831</td>\n      <td>static HashTable *spl_object_storage_get_gc(zv...</td>\n      <td>Multiple use-after-free vulnerabilities in SPL...</td>\n      <td>7.3</td>\n      <td>HIGH</td>\n    </tr>\n    <tr>\n      <th>1203</th>\n      <td>CVE-2023-28101</td>\n      <td>gboolean flatpak_context_parse_filesystem (con...</td>\n      <td>Flatpak is a system for building, distributing...</td>\n      <td>5.0</td>\n      <td>MEDIUM</td>\n    </tr>\n    <tr>\n      <th>1204</th>\n      <td>CVE-2023-1076</td>\n      <td>static int tap_open(struct inode *inode, struc...</td>\n      <td>A flaw was found in the Linux Kernel. The tun/...</td>\n      <td>5.5</td>\n      <td>MEDIUM</td>\n    </tr>\n    <tr>\n      <th>1205</th>\n      <td>CVE-2022-42703</td>\n      <td>int anon_vma_fork(struct vm_area_struct *vma, ...</td>\n      <td>mm/rmap.c in the Linux kernel before 5.19.7 ha...</td>\n      <td>5.5</td>\n      <td>MEDIUM</td>\n    </tr>\n    <tr>\n      <th>1206</th>\n      <td>CVE-2021-33185</td>\n      <td>size_t count_in_range(size_t start, size_t len...</td>\n      <td>SerenityOS contains a buffer overflow in the s...</td>\n      <td>7.5</td>\n      <td>HIGH</td>\n    </tr>\n  </tbody>\n</table>\n<p>1207 rows × 5 columns</p>\n</div>"
     },
     "execution_count": 159,
     "metadata": {},
     "output_type": "execute_result"
    }
   ],
   "source": [
    "test"
   ],
   "metadata": {
    "collapsed": false,
    "pycharm": {
     "name": "#%%\n"
    }
   }
  },
  {
   "cell_type": "code",
   "execution_count": 160,
   "outputs": [
    {
     "data": {
      "text/plain": "1207"
     },
     "execution_count": 160,
     "metadata": {},
     "output_type": "execute_result"
    }
   ],
   "source": [
    "len(list(test['func_before']))"
   ],
   "metadata": {
    "collapsed": false,
    "pycharm": {
     "name": "#%%\n"
    }
   }
  },
  {
   "cell_type": "code",
   "execution_count": 161,
   "outputs": [],
   "source": [
    "import re"
   ],
   "metadata": {
    "collapsed": false,
    "pycharm": {
     "name": "#%%\n"
    }
   }
  },
  {
   "cell_type": "code",
   "execution_count": 162,
   "outputs": [],
   "source": [
    "num_col = []\n",
    "for i in range(len(test)):\n",
    "    s = test['func_before'][i]\n",
    "    flag = 1\n",
    "    for j in range(len(data)):\n",
    "        index_of_parenthesis = s.find('(')\n",
    "        s0 = s[:index_of_parenthesis+1]\n",
    "        s0 = re.sub(r'\\s+', '', s0)\n",
    "\n",
    "        s1 = data['func_before'][j]\n",
    "        index_of_parenthesis2 = s1.find('(')\n",
    "        s1 = s1[:index_of_parenthesis2+1]\n",
    "        s1 = re.sub(r'\\s+', '', s1)\n",
    "\n",
    "        if s0.find(s1) != -1 and data['cve_id'][j] == test['cve_id'][i]:\n",
    "            num_col.append(j)\n",
    "            flag = 0\n",
    "            break\n",
    "    if flag == 1:\n",
    "        print(i)\n",
    "        print(s0)\n"
   ],
   "metadata": {
    "collapsed": false,
    "pycharm": {
     "name": "#%%\n"
    }
   }
  },
  {
   "cell_type": "code",
   "execution_count": 163,
   "outputs": [
    {
     "data": {
      "text/plain": "[2335,\n 13249,\n 898,\n 7961,\n 3804,\n 12784,\n 4454,\n 927,\n 2450,\n 5130,\n 11701,\n 7084,\n 5053,\n 8294,\n 11492,\n 15444,\n 9348,\n 11222,\n 5962,\n 14259,\n 1269,\n 16912,\n 17354,\n 16093,\n 6196,\n 7151,\n 5145,\n 1313,\n 10112,\n 7337,\n 14639,\n 11876,\n 6729,\n 8351,\n 7117,\n 4288,\n 7295,\n 12147,\n 16864,\n 9054,\n 8011,\n 12614,\n 11193,\n 13878,\n 8408,\n 1174,\n 7750,\n 11596,\n 6818,\n 3794,\n 17452,\n 16765,\n 8005,\n 1448,\n 6056,\n 12000,\n 13182,\n 4498,\n 16650,\n 6127,\n 11374,\n 2488,\n 412,\n 10056,\n 780,\n 16680,\n 1349,\n 1603,\n 832,\n 11642,\n 14485,\n 4206,\n 14647,\n 12869,\n 4203,\n 5206,\n 5261,\n 11115,\n 4788,\n 1559,\n 17591,\n 10673,\n 1067,\n 14613,\n 14447,\n 2572,\n 1052,\n 17511,\n 7058,\n 2440,\n 453,\n 5323,\n 3923,\n 17682,\n 8260,\n 8741,\n 12508,\n 13016,\n 11036,\n 4321,\n 11999,\n 4453,\n 6682,\n 14584,\n 13308,\n 13764,\n 12198,\n 10060,\n 7141,\n 11645,\n 6025,\n 8282,\n 6846,\n 13137,\n 13138,\n 1262,\n 5005,\n 1664,\n 938,\n 6180,\n 4550,\n 10472,\n 11958,\n 12209,\n 13541,\n 14380,\n 4680,\n 16313,\n 3855,\n 14402,\n 10724,\n 13314,\n 4183,\n 10857,\n 11641,\n 17722,\n 2427,\n 8278,\n 17424,\n 7594,\n 5276,\n 6828,\n 17787,\n 7331,\n 8893,\n 11367,\n 4284,\n 12556,\n 8734,\n 17073,\n 62,\n 6493,\n 8780,\n 317,\n 1604,\n 4466,\n 13931,\n 10864,\n 7660,\n 17828,\n 58,\n 11078,\n 1794,\n 7629,\n 7615,\n 13336,\n 12984,\n 634,\n 12981,\n 11331,\n 4598,\n 11035,\n 9218,\n 6564,\n 13870,\n 10672,\n 3968,\n 928,\n 16482,\n 9316,\n 5226,\n 2676,\n 11566,\n 17481,\n 17795,\n 1164,\n 14015,\n 15850,\n 13592,\n 17693,\n 17776,\n 8303,\n 4322,\n 4235,\n 11237,\n 10981,\n 3764,\n 12603,\n 14023,\n 8137,\n 15370,\n 7188,\n 850,\n 796,\n 10188,\n 12395,\n 1041,\n 7673,\n 13127,\n 823,\n 14496,\n 6034,\n 1241,\n 8849,\n 13521,\n 16066,\n 12639,\n 12956,\n 11130,\n 10200,\n 13151,\n 4613,\n 16828,\n 4601,\n 11620,\n 6915,\n 393,\n 8341,\n 10535,\n 10734,\n 6543,\n 13046,\n 8706,\n 5136,\n 14563,\n 4419,\n 8396,\n 8830,\n 17649,\n 1242,\n 11141,\n 4300,\n 9436,\n 8177,\n 3758,\n 1709,\n 93,\n 15798,\n 1816,\n 2867,\n 16470,\n 10807,\n 6289,\n 12359,\n 2527,\n 13654,\n 8476,\n 8175,\n 12023,\n 10936,\n 16502,\n 806,\n 12880,\n 14601,\n 14272,\n 12128,\n 1201,\n 7395,\n 3919,\n 16939,\n 10610,\n 6696,\n 16350,\n 3506,\n 11813,\n 3840,\n 10343,\n 15989,\n 13065,\n 13895,\n 8371,\n 883,\n 8706,\n 14237,\n 6349,\n 10539,\n 16970,\n 14553,\n 8089,\n 15854,\n 7580,\n 2834,\n 7927,\n 13880,\n 11681,\n 11652,\n 4439,\n 17265,\n 10517,\n 2650,\n 12262,\n 16676,\n 2704,\n 12135,\n 748,\n 16868,\n 3731,\n 10883,\n 13655,\n 14196,\n 13228,\n 8627,\n 3865,\n 13795,\n 11272,\n 12251,\n 17638,\n 11573,\n 13019,\n 6132,\n 2606,\n 11162,\n 14104,\n 1631,\n 16484,\n 16725,\n 6689,\n 8151,\n 3728,\n 8225,\n 17797,\n 2419,\n 16640,\n 4554,\n 13415,\n 16613,\n 13725,\n 10916,\n 7675,\n 914,\n 14546,\n 15820,\n 13190,\n 2592,\n 16086,\n 2564,\n 16524,\n 1423,\n 16218,\n 676,\n 8181,\n 2818,\n 13753,\n 11538,\n 13135,\n 8848,\n 6745,\n 5195,\n 950,\n 16137,\n 63,\n 3888,\n 16311,\n 6491,\n 11687,\n 1435,\n 10323,\n 9294,\n 13417,\n 1915,\n 11611,\n 6326,\n 13407,\n 1413,\n 2546,\n 17803,\n 16401,\n 11058,\n 5997,\n 6650,\n 16339,\n 15465,\n 16786,\n 11447,\n 12861,\n 10232,\n 9311,\n 1347,\n 16995,\n 6484,\n 17483,\n 9998,\n 7670,\n 8611,\n 16183,\n 2863,\n 10410,\n 12464,\n 10565,\n 15849,\n 11077,\n 4088,\n 10501,\n 5981,\n 17497,\n 11531,\n 11699,\n 2868,\n 4305,\n 11656,\n 16310,\n 5225,\n 11815,\n 12702,\n 7819,\n 4274,\n 13652,\n 4348,\n 7905,\n 17236,\n 4524,\n 4818,\n 11352,\n 12269,\n 17038,\n 17068,\n 7440,\n 11545,\n 17542,\n 14529,\n 12758,\n 920,\n 7821,\n 8112,\n 13441,\n 3813,\n 12075,\n 16189,\n 16156,\n 496,\n 6188,\n 13037,\n 16956,\n 1805,\n 11126,\n 2781,\n 13162,\n 713,\n 7735,\n 933,\n 10959,\n 4377,\n 11188,\n 13383,\n 17476,\n 10248,\n 704,\n 9333,\n 5157,\n 13133,\n 8531,\n 16700,\n 6273,\n 10193,\n 10324,\n 6795,\n 1619,\n 6042,\n 13545,\n 2292,\n 8678,\n 7524,\n 13429,\n 13208,\n 7249,\n 7197,\n 9455,\n 11333,\n 16046,\n 1432,\n 8279,\n 16427,\n 11598,\n 1196,\n 5210,\n 12040,\n 10341,\n 11675,\n 14063,\n 1330,\n 11647,\n 6754,\n 2652,\n 3878,\n 4659,\n 8392,\n 11182,\n 11539,\n 4606,\n 8273,\n 8439,\n 17748,\n 9355,\n 497,\n 12151,\n 4528,\n 16489,\n 10606,\n 4606,\n 3853,\n 7304,\n 15420,\n 882,\n 17055,\n 15386,\n 16451,\n 4113,\n 12094,\n 4708,\n 11180,\n 8415,\n 907,\n 16417,\n 10793,\n 16432,\n 8178,\n 544,\n 4119,\n 4758,\n 6894,\n 894,\n 15419,\n 8784,\n 6889,\n 17121,\n 2387,\n 13044,\n 410,\n 5991,\n 2486,\n 769,\n 6789,\n 11249,\n 2637,\n 11879,\n 2375,\n 607,\n 524,\n 16418,\n 605,\n 16635,\n 9286,\n 9189,\n 17640,\n 965,\n 476,\n 13011,\n 17193,\n 10567,\n 6671,\n 13387,\n 6229,\n 8305,\n 9227,\n 13665,\n 10970,\n 7386,\n 17022,\n 404,\n 9468,\n 6235,\n 4754,\n 17369,\n 812,\n 947,\n 13901,\n 15887,\n 140,\n 11189,\n 1744,\n 6347,\n 4553,\n 791,\n 7143,\n 13082,\n 2836,\n 10925,\n 15786,\n 12933,\n 12065,\n 10708,\n 12666,\n 1481,\n 12517,\n 8847,\n 11093,\n 4997,\n 16648,\n 7226,\n 12945,\n 2855,\n 11930,\n 16764,\n 3854,\n 10547,\n 12884,\n 16854,\n 15810,\n 6585,\n 7080,\n 261,\n 2327,\n 17847,\n 13224,\n 11669,\n 8857,\n 13136,\n 10502,\n 17007,\n 11677,\n 2374,\n 7972,\n 11805,\n 626,\n 10179,\n 4279,\n 7275,\n 12237,\n 1065,\n 17164,\n 5202,\n 8626,\n 16059,\n 6291,\n 466,\n 8842,\n 39,\n 5299,\n 3897,\n 15932,\n 13180,\n 5029,\n 4382,\n 15807,\n 8700,\n 14683,\n 13315,\n 17475,\n 1156,\n 2409,\n 4030,\n 16285,\n 13667,\n 17379,\n 11103,\n 12215,\n 1182,\n 11194,\n 2545,\n 13715,\n 8241,\n 7964,\n 11967,\n 11749,\n 4503,\n 16657,\n 6136,\n 11724,\n 6597,\n 17849,\n 6841,\n 12496,\n 6079,\n 16298,\n 11480,\n 4539,\n 4178,\n 6775,\n 10419,\n 14430,\n 10049,\n 13946,\n 4272,\n 15387,\n 781,\n 10013,\n 612,\n 6505,\n 9251,\n 126,\n 7065,\n 10279,\n 11314,\n 8798,\n 2313,\n 11172,\n 1689,\n 17348,\n 16019,\n 8380,\n 6097,\n 12246,\n 14440,\n 9435,\n 6917,\n 8845,\n 14019,\n 17720,\n 16538,\n 1233,\n 8313,\n 8692,\n 7606,\n 1401,\n 13628,\n 13789,\n 13223,\n 15500,\n 2587,\n 16443,\n 3816,\n 448,\n 17090,\n 10833,\n 12725,\n 8087,\n 7234,\n 10979,\n 7061,\n 1544,\n 1183,\n 14628,\n 4291,\n 804,\n 10460,\n 10987,\n 8081,\n 16517,\n 740,\n 16902,\n 3819,\n 16761,\n 6806,\n 8632,\n 4515,\n 7375,\n 840,\n 3898,\n 5147,\n 992,\n 12407,\n 15407,\n 12116,\n 1478,\n 1033,\n 1007,\n 11059,\n 8609,\n 2357,\n 4192,\n 14058,\n 12451,\n 7541,\n 7254,\n 2866,\n 1298,\n 13301,\n 17083,\n 10353,\n 8864,\n 15880,\n 231,\n 13205,\n 10494,\n 13355,\n 5018,\n 13389,\n 248,\n 12097,\n 745,\n 10709,\n 16111,\n 11413,\n 16371,\n 9171,\n 15437,\n 11008,\n 12723,\n 7947,\n 17249,\n 11002,\n 2408,\n 13720,\n 6008,\n 7203,\n 13287,\n 6463,\n 7607,\n 14186,\n 4619,\n 8576,\n 16797,\n 1122,\n 2700,\n 16363,\n 10817,\n 3915,\n 14012,\n 17771,\n 16572,\n 6005,\n 4673,\n 733,\n 16441,\n 16334,\n 12377,\n 10287,\n 16546,\n 17048,\n 6766,\n 16082,\n 11912,\n 3990,\n 13130,\n 15474,\n 7722,\n 10218,\n 4021,\n 16008,\n 6328,\n 13784,\n 12009,\n 12428,\n 7775,\n 12866,\n 694,\n 5150,\n 6378,\n 4520,\n 7175,\n 4050,\n 9982,\n 17775,\n 12891,\n 292,\n 308,\n 13167,\n 1553,\n 5250,\n 13729,\n 17340,\n 16164,\n 16475,\n 241,\n 10928,\n 745,\n 12137,\n 7471,\n 207,\n 15980,\n 14512,\n 4654,\n 16146,\n 7558,\n 9358,\n 4115,\n 7472,\n 17075,\n 15859,\n 128,\n 52,\n 17119,\n 9053,\n 16604,\n 17172,\n 14114,\n 1811,\n 8528,\n 4662,\n 7815,\n 4576,\n 16006,\n 8223,\n 8483,\n 14030,\n 9223,\n 628,\n 5010,\n 5095,\n 12108,\n 2285,\n 880,\n 860,\n 11408,\n 14033,\n 2422,\n 10365,\n 10382,\n 10121,\n 6338,\n 1302,\n 8588,\n 12828,\n 12791,\n 15405,\n 2656,\n 8024,\n 358,\n 17335,\n 6993,\n 14459,\n 17482,\n 2636,\n 7768,\n 13124,\n 12064,\n 1759,\n 7578,\n 3790,\n 10506,\n 10052,\n 10257,\n 2425,\n 9337,\n 141,\n 7075,\n 11554,\n 16037,\n 6076,\n 8019,\n 1765,\n 14084,\n 1906,\n 14435,\n 6152,\n 10714,\n 12949,\n 10652,\n 4236,\n 17446,\n 6282,\n 14466,\n 6410,\n 10235,\n 2439,\n 7202,\n 820,\n 10966,\n 8649,\n 12646,\n 14064,\n 8539,\n 15872,\n 1419,\n 13195,\n 4014,\n 4711,\n 10037,\n 5289,\n 1847,\n 4740,\n 10531,\n 8455,\n 16858,\n 6975,\n 7300,\n 4805,\n 8829,\n 1329,\n 12131,\n 14599,\n 16249,\n 11270,\n 10615,\n 11416,\n 4756,\n 8059,\n 7784,\n 14066,\n 10421,\n 6333,\n 6205,\n 1752,\n 7108,\n 12010,\n 7436,\n 8070,\n 2421,\n 11216,\n 993,\n 12545,\n 6160,\n 10886,\n 11043,\n 13271,\n 14467,\n 14537,\n 7809,\n 12812,\n 14622,\n ...]"
     },
     "execution_count": 163,
     "metadata": {},
     "output_type": "execute_result"
    }
   ],
   "source": [
    "num_col"
   ],
   "metadata": {
    "collapsed": false,
    "pycharm": {
     "name": "#%%\n"
    }
   }
  },
  {
   "cell_type": "code",
   "execution_count": 164,
   "outputs": [
    {
     "data": {
      "text/plain": "1207"
     },
     "execution_count": 164,
     "metadata": {},
     "output_type": "execute_result"
    }
   ],
   "source": [
    "len(num_col)"
   ],
   "metadata": {
    "collapsed": false,
    "pycharm": {
     "name": "#%%\n"
    }
   }
  },
  {
   "cell_type": "code",
   "execution_count": 165,
   "outputs": [],
   "source": [
    "cve_id = []\n",
    "func_before = []\n",
    "cwe_ids = []\n",
    "cvss_vector = []\n",
    "cvss_is_v3 = []\n",
    "repo_name = []\n",
    "commit_msg = []\n",
    "commit_hash = []\n",
    "git_url = []\n",
    "file_path = []\n",
    "func_name = []\n",
    "abstract_func_before = []\n",
    "func_graph_path_before = []\n",
    "func = []\n",
    "abstract_func = []\n",
    "func_graph_path = []\n",
    "diff_func = []\n",
    "diff_line_info = []\n",
    "is_vul = []"
   ],
   "metadata": {
    "collapsed": false,
    "pycharm": {
     "name": "#%%\n"
    }
   }
  },
  {
   "cell_type": "code",
   "execution_count": 166,
   "outputs": [],
   "source": [
    "for i in range(len(num_col)):\n",
    "    idx = num_col[i]\n",
    "    cve_id.append(data['cve_id'][idx])\n",
    "    func_before.append(data['func_before'][idx])\n",
    "    cwe_ids.append(data['cwe_ids'][idx])\n",
    "    cvss_vector.append(data['cvss_vector'][idx])\n",
    "    cvss_is_v3.append(data['cvss_is_v3'][idx])\n",
    "    repo_name.append(data['repo_name'][idx])\n",
    "    commit_msg.append(data['commit_msg'][idx])\n",
    "    commit_hash.append(data['commit_hash'][idx])\n",
    "    git_url.append(data['git_url'][idx])\n",
    "    file_path.append(data['file_path'][idx])\n",
    "    func_name.append(data['func_name'][idx])\n",
    "    abstract_func_before.append(data['abstract_func_before'][idx])\n",
    "    func_graph_path_before.append(data['func_graph_path_before'][idx])\n",
    "    func.append(data['func'][idx])\n",
    "    abstract_func.append(data['abstract_func'][idx])\n",
    "    func_graph_path.append(data['func_graph_path'][idx])\n",
    "    diff_func.append(data['diff_func'][idx])\n",
    "    diff_line_info.append(data['diff_line_info'][idx])\n",
    "    is_vul.append(data['is_vul'][idx])"
   ],
   "metadata": {
    "collapsed": false,
    "pycharm": {
     "name": "#%%\n"
    }
   }
  },
  {
   "cell_type": "code",
   "execution_count": 167,
   "outputs": [
    {
     "data": {
      "text/plain": "1207"
     },
     "execution_count": 167,
     "metadata": {},
     "output_type": "execute_result"
    }
   ],
   "source": [
    "len(diff_func)"
   ],
   "metadata": {
    "collapsed": false,
    "pycharm": {
     "name": "#%%\n"
    }
   }
  },
  {
   "cell_type": "code",
   "execution_count": 168,
   "outputs": [],
   "source": [
    "out = {\n",
    "    'cve_id': cve_id,\n",
    "    'func_before': func_before,\n",
    "    'cwe_ids': cwe_ids,\n",
    "    'cvss_vector': cvss_vector,\n",
    "    'cvss_is_v3': cvss_is_v3,\n",
    "    'repo_name': repo_name,\n",
    "    'commit_msg': commit_msg,\n",
    "    'commit_hash': commit_hash,\n",
    "    'git_url': git_url,\n",
    "    'file_path': file_path,\n",
    "    'func_name': func_name,\n",
    "    'abstract_func_before': abstract_func_before,\n",
    "    'func_graph_path_before': func_graph_path_before,\n",
    "    'func': func,\n",
    "    'abstract_func': abstract_func,\n",
    "    'func_graph_path': func_graph_path,\n",
    "    'diff_func': diff_func,\n",
    "    'diff_line_info': diff_line_info,\n",
    "    'is_vul': is_vul\n",
    "}"
   ],
   "metadata": {
    "collapsed": false,
    "pycharm": {
     "name": "#%%\n"
    }
   }
  },
  {
   "cell_type": "code",
   "execution_count": 169,
   "outputs": [
    {
     "name": "stdout",
     "output_type": "stream",
     "text": [
      "Data written to output_file.csv successfully!\n"
     ]
    }
   ],
   "source": [
    "df = pd.DataFrame(out)\n",
    "\n",
    "# 将 DataFrame 写入文件\n",
    "df.to_excel('./dataset3/valid/valid_all_infos.xlsx', index=False)\n",
    "\n",
    "print(\"Data written to output_file.csv successfully!\")"
   ],
   "metadata": {
    "collapsed": false,
    "pycharm": {
     "name": "#%%\n"
    }
   }
  },
  {
   "cell_type": "code",
   "execution_count": null,
   "outputs": [],
   "source": [],
   "metadata": {
    "collapsed": false,
    "pycharm": {
     "name": "#%%\n"
    }
   }
  }
 ],
 "metadata": {
  "kernelspec": {
   "name": "topic_jupyter",
   "language": "python",
   "display_name": "topic_jupyter"
  },
  "language_info": {
   "codemirror_mode": {
    "name": "ipython",
    "version": 2
   },
   "file_extension": ".py",
   "mimetype": "text/x-python",
   "name": "python",
   "nbconvert_exporter": "python",
   "pygments_lexer": "ipython2",
   "version": "2.7.6"
  }
 },
 "nbformat": 4,
 "nbformat_minor": 0
}