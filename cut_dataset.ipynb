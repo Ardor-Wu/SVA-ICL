{
 "cells": [
  {
   "cell_type": "code",
   "execution_count": 12,
   "metadata": {
    "collapsed": true
   },
   "outputs": [],
   "source": [
    "import pandas as pd\n",
    "import numpy as np\n",
    "from sklearn.model_selection import train_test_split"
   ]
  },
  {
   "cell_type": "code",
   "execution_count": 13,
   "outputs": [],
   "source": [
    "data = pd.read_csv(\"./dataset/megavul_simple_cpp_success_getast.csv\")"
   ],
   "metadata": {
    "collapsed": false,
    "pycharm": {
     "name": "#%%\n"
    }
   }
  },
  {
   "cell_type": "code",
   "execution_count": 14,
   "outputs": [
    {
     "data": {
      "text/plain": "               cve_id                                        func_before  \\\n0       CVE-2016-2538  static int rndis_query_response(USBNetState *s...   \n1       CVE-2016-2538  static int rndis_set_response(USBNetState *s, ...   \n2       CVE-2016-2841  static int ne2000_buffer_full(NE2000State *s) ...   \n3       CVE-2016-3062  static int mov_read_dref(MOVContext *c, AVIOCo...   \n4       CVE-2016-4817  void close_connection(h2o_http2_conn_t *conn) ...   \n...               ...                                                ...   \n12066  CVE-2020-15476  void ndpi_search_oracle(struct ndpi_detection_...   \n12067  CVE-2020-15503  void LibRaw::kodak_thumb_loader() { INT64 est_...   \n12068  CVE-2020-15503  int LibRaw::unpack_thumb(void) { CHECK_ORDER_L...   \n12069  CVE-2020-15503  libraw_processed_image_t *LibRaw::dcraw_make_m...   \n12070  CVE-2020-15569  PlayerGeneric::~PlayerGeneric() { if (mixer) d...   \n\n                                             description  Base Score  \\\n0      Multiple integer overflows in the USB Net devi...         7.1   \n1      Multiple integer overflows in the USB Net devi...         7.1   \n2      The ne2000_receive function in the NE2000 NIC ...         6.0   \n3      The mov_read_dref function in libavformat/mov....         8.8   \n4      lib/http2/connection.c in H2O before 1.7.3 and...         7.5   \n...                                                  ...         ...   \n12066  In nDPI through 3.2, the Oracle protocol disse...         7.5   \n12067  LibRaw before 0.20-RC1 lacks a thumbnail size ...         7.5   \n12068  LibRaw before 0.20-RC1 lacks a thumbnail size ...         7.5   \n12069  LibRaw before 0.20-RC1 lacks a thumbnail size ...         7.5   \n12070  PlayerGeneric.cpp in MilkyTracker through 1.02...         5.5   \n\n      Base Severity  \n0              HIGH  \n1              HIGH  \n2            MEDIUM  \n3              HIGH  \n4              HIGH  \n...             ...  \n12066          HIGH  \n12067          HIGH  \n12068          HIGH  \n12069          HIGH  \n12070        MEDIUM  \n\n[12071 rows x 5 columns]",
      "text/html": "<div>\n<style scoped>\n    .dataframe tbody tr th:only-of-type {\n        vertical-align: middle;\n    }\n\n    .dataframe tbody tr th {\n        vertical-align: top;\n    }\n\n    .dataframe thead th {\n        text-align: right;\n    }\n</style>\n<table border=\"1\" class=\"dataframe\">\n  <thead>\n    <tr style=\"text-align: right;\">\n      <th></th>\n      <th>cve_id</th>\n      <th>func_before</th>\n      <th>description</th>\n      <th>Base Score</th>\n      <th>Base Severity</th>\n    </tr>\n  </thead>\n  <tbody>\n    <tr>\n      <th>0</th>\n      <td>CVE-2016-2538</td>\n      <td>static int rndis_query_response(USBNetState *s...</td>\n      <td>Multiple integer overflows in the USB Net devi...</td>\n      <td>7.1</td>\n      <td>HIGH</td>\n    </tr>\n    <tr>\n      <th>1</th>\n      <td>CVE-2016-2538</td>\n      <td>static int rndis_set_response(USBNetState *s, ...</td>\n      <td>Multiple integer overflows in the USB Net devi...</td>\n      <td>7.1</td>\n      <td>HIGH</td>\n    </tr>\n    <tr>\n      <th>2</th>\n      <td>CVE-2016-2841</td>\n      <td>static int ne2000_buffer_full(NE2000State *s) ...</td>\n      <td>The ne2000_receive function in the NE2000 NIC ...</td>\n      <td>6.0</td>\n      <td>MEDIUM</td>\n    </tr>\n    <tr>\n      <th>3</th>\n      <td>CVE-2016-3062</td>\n      <td>static int mov_read_dref(MOVContext *c, AVIOCo...</td>\n      <td>The mov_read_dref function in libavformat/mov....</td>\n      <td>8.8</td>\n      <td>HIGH</td>\n    </tr>\n    <tr>\n      <th>4</th>\n      <td>CVE-2016-4817</td>\n      <td>void close_connection(h2o_http2_conn_t *conn) ...</td>\n      <td>lib/http2/connection.c in H2O before 1.7.3 and...</td>\n      <td>7.5</td>\n      <td>HIGH</td>\n    </tr>\n    <tr>\n      <th>...</th>\n      <td>...</td>\n      <td>...</td>\n      <td>...</td>\n      <td>...</td>\n      <td>...</td>\n    </tr>\n    <tr>\n      <th>12066</th>\n      <td>CVE-2020-15476</td>\n      <td>void ndpi_search_oracle(struct ndpi_detection_...</td>\n      <td>In nDPI through 3.2, the Oracle protocol disse...</td>\n      <td>7.5</td>\n      <td>HIGH</td>\n    </tr>\n    <tr>\n      <th>12067</th>\n      <td>CVE-2020-15503</td>\n      <td>void LibRaw::kodak_thumb_loader() { INT64 est_...</td>\n      <td>LibRaw before 0.20-RC1 lacks a thumbnail size ...</td>\n      <td>7.5</td>\n      <td>HIGH</td>\n    </tr>\n    <tr>\n      <th>12068</th>\n      <td>CVE-2020-15503</td>\n      <td>int LibRaw::unpack_thumb(void) { CHECK_ORDER_L...</td>\n      <td>LibRaw before 0.20-RC1 lacks a thumbnail size ...</td>\n      <td>7.5</td>\n      <td>HIGH</td>\n    </tr>\n    <tr>\n      <th>12069</th>\n      <td>CVE-2020-15503</td>\n      <td>libraw_processed_image_t *LibRaw::dcraw_make_m...</td>\n      <td>LibRaw before 0.20-RC1 lacks a thumbnail size ...</td>\n      <td>7.5</td>\n      <td>HIGH</td>\n    </tr>\n    <tr>\n      <th>12070</th>\n      <td>CVE-2020-15569</td>\n      <td>PlayerGeneric::~PlayerGeneric() { if (mixer) d...</td>\n      <td>PlayerGeneric.cpp in MilkyTracker through 1.02...</td>\n      <td>5.5</td>\n      <td>MEDIUM</td>\n    </tr>\n  </tbody>\n</table>\n<p>12071 rows × 5 columns</p>\n</div>"
     },
     "execution_count": 14,
     "metadata": {},
     "output_type": "execute_result"
    }
   ],
   "source": [
    "data"
   ],
   "metadata": {
    "collapsed": false,
    "pycharm": {
     "name": "#%%\n"
    }
   }
  },
  {
   "cell_type": "code",
   "execution_count": 15,
   "outputs": [],
   "source": [
    "# 统计不同Base Severity的数量\n",
    "severity_counts = data['Base Severity'].value_counts()"
   ],
   "metadata": {
    "collapsed": false,
    "pycharm": {
     "name": "#%%\n"
    }
   }
  },
  {
   "cell_type": "code",
   "execution_count": 16,
   "outputs": [
    {
     "name": "stdout",
     "output_type": "stream",
     "text": [
      "Base Severity\n",
      "HIGH        5568\n",
      "MEDIUM      4744\n",
      "CRITICAL    1462\n",
      "LOW          297\n",
      "Name: count, dtype: int64\n"
     ]
    }
   ],
   "source": [
    "print(severity_counts)"
   ],
   "metadata": {
    "collapsed": false,
    "pycharm": {
     "name": "#%%\n"
    }
   }
  },
  {
   "cell_type": "code",
   "execution_count": 17,
   "outputs": [],
   "source": [
    "# 计算每个分组的数量\n",
    "total_samples = severity_counts.sum()\n",
    "train_samples = int(total_samples * 0.8)\n",
    "valid_samples = int(total_samples * 0.1)\n",
    "test_samples = total_samples - train_samples - valid_samples"
   ],
   "metadata": {
    "collapsed": false,
    "pycharm": {
     "name": "#%%\n"
    }
   }
  },
  {
   "cell_type": "code",
   "execution_count": 18,
   "outputs": [
    {
     "name": "stdout",
     "output_type": "stream",
     "text": [
      "12071\n",
      "9656\n",
      "1207\n",
      "1208\n"
     ]
    }
   ],
   "source": [
    "print(total_samples)\n",
    "print(train_samples)\n",
    "print(valid_samples)\n",
    "print(test_samples)"
   ],
   "metadata": {
    "collapsed": false,
    "pycharm": {
     "name": "#%%\n"
    }
   }
  },
  {
   "cell_type": "code",
   "execution_count": 19,
   "outputs": [],
   "source": [
    "# 确定每个分组的数量比例\n",
    "train_proportions = severity_counts.apply(lambda x: int(x * 0.8))\n",
    "valid_proportions = severity_counts.apply(lambda x: int(x * 0.1))\n",
    "test_proportions = severity_counts - train_proportions - valid_proportions"
   ],
   "metadata": {
    "collapsed": false,
    "pycharm": {
     "name": "#%%\n"
    }
   }
  },
  {
   "cell_type": "code",
   "execution_count": 20,
   "outputs": [
    {
     "name": "stdout",
     "output_type": "stream",
     "text": [
      "Base Severity\n",
      "HIGH        4454\n",
      "MEDIUM      3795\n",
      "CRITICAL    1169\n",
      "LOW          237\n",
      "Name: count, dtype: int64\n",
      "Base Severity\n",
      "HIGH        556\n",
      "MEDIUM      474\n",
      "CRITICAL    146\n",
      "LOW          29\n",
      "Name: count, dtype: int64\n",
      "Base Severity\n",
      "HIGH        558\n",
      "MEDIUM      475\n",
      "CRITICAL    147\n",
      "LOW          31\n",
      "Name: count, dtype: int64\n"
     ]
    }
   ],
   "source": [
    "print(train_proportions)\n",
    "print(valid_proportions)\n",
    "print(test_proportions)"
   ],
   "metadata": {
    "collapsed": false,
    "pycharm": {
     "name": "#%%\n"
    }
   }
  },
  {
   "cell_type": "code",
   "execution_count": 21,
   "outputs": [],
   "source": [
    "# 划分数据集\n",
    "train_data, remaining_data = train_test_split(data, train_size=train_samples, stratify=data['Base Severity'])\n",
    "valid_data, test_data = train_test_split(remaining_data, train_size=valid_samples, stratify=remaining_data['Base Severity'])\n",
    "\n",
    "# 保存划分后的数据集到Excel文件"
   ],
   "metadata": {
    "collapsed": false,
    "pycharm": {
     "name": "#%%\n"
    }
   }
  },
  {
   "cell_type": "code",
   "execution_count": 22,
   "outputs": [],
   "source": [
    "# 保存划分后的数据集到Excel文件\n",
    "train_data.to_excel(\"C:/Data/PycharmProject/SVA-ICL/dataset3/train/train_all.xlsx\", index=False)\n",
    "valid_data.to_excel(\"C:/Data/PycharmProject/SVA-ICL/dataset3/valid/valid_all.xlsx\", index=False)\n",
    "test_data.to_excel(\"C:/Data/PycharmProject/SVA-ICL/dataset3/test/test_all.xlsx\", index=False)"
   ],
   "metadata": {
    "collapsed": false,
    "pycharm": {
     "name": "#%%\n"
    }
   }
  },
  {
   "cell_type": "code",
   "execution_count": null,
   "outputs": [],
   "source": [],
   "metadata": {
    "collapsed": false,
    "pycharm": {
     "name": "#%%\n"
    }
   }
  }
 ],
 "metadata": {
  "kernelspec": {
   "name": "funcgnn_jupyter",
   "language": "python",
   "display_name": "funcGNN_jupyter"
  },
  "language_info": {
   "codemirror_mode": {
    "name": "ipython",
    "version": 2
   },
   "file_extension": ".py",
   "mimetype": "text/x-python",
   "name": "python",
   "nbconvert_exporter": "python",
   "pygments_lexer": "ipython2",
   "version": "2.7.6"
  }
 },
 "nbformat": 4,
 "nbformat_minor": 0
}