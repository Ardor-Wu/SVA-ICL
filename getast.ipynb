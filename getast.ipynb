{
 "cells": [
  {
   "cell_type": "code",
   "execution_count": 117,
   "outputs": [],
   "source": [
    "from tree_sitter import Language, Parser  # 解析器库\n",
    "import re\n",
    "import pandas as pd\n",
    "import Levenshtein\n",
    "import os\n",
    "import sys\n",
    "import numpy as np\n",
    "\n",
    "\n"
   ],
   "metadata": {
    "collapsed": false,
    "pycharm": {
     "name": "#%%\n"
    }
   }
  },
  {
   "cell_type": "code",
   "execution_count": 118,
   "outputs": [],
   "source": [
    "data = pd.read_excel(\"./dataset3/train/train_all.xlsx\")\n",
    "# data = pd.read_csv(\"./dataset/megavul_simple_cpp_success_getast.csv\")\n",
    "# data = pd.read_excel(\"./dataset/megavul_simple_cpp_all.xlsx\")"
   ],
   "metadata": {
    "collapsed": false,
    "pycharm": {
     "name": "#%%\n"
    }
   }
  },
  {
   "cell_type": "code",
   "execution_count": 119,
   "outputs": [
    {
     "data": {
      "text/plain": "              cve_id                                        func_before  \\\n0     CVE-2023-38850  static void write_html_body( FILE        *out,...   \n1     CVE-2017-15587  static void pdf_read_new_xref_section(fz_conte...   \n2     CVE-2023-36364  static int rel_deps(mvc *sql, sql_rel *r, list...   \n3     CVE-2019-19319  int ext4_setup_system_zone(struct super_block ...   \n4     CVE-2019-19948  static MagickBooleanType WriteSGIImage(const I...   \n...              ...                                                ...   \n9651  CVE-2019-12448  static void do_query_info (GVfsBackend *backen...   \n9652  CVE-2018-10853  static int linear_read_system(struct x86_emula...   \n9653  CVE-2020-27670  static unsigned int clear_iommu_pte_present(un...   \n9654  CVE-2019-19082  struct resource_pool *dce100_create_resource_p...   \n9655  CVE-2023-42801  static void inputSendThreadProc(void* context)...   \n\n                                            description  Base Score  \\\n0     Buffer Overflow vulnerability in Michaelrsweet...         5.5   \n1     An integer overflow was discovered in pdf_read...         7.8   \n2     An issue in the rel_deps component of MonetDB ...         7.5   \n3     In the Linux kernel before 5.2, a setxattr ope...         6.5   \n4     In ImageMagick 7.0.8-43 Q16, there is a heap-b...         9.8   \n...                                                 ...         ...   \n9651  An issue was discovered in GNOME gvfs 1.29.4 t...         8.1   \n9652  A flaw was found in the way Linux kernel KVM h...         7.0   \n9653  An issue was discovered in Xen through 4.14.x ...         7.8   \n9654  Memory leaks in *create_resource_pool() functi...         4.7   \n9655  Moonlight-common-c contains the core GameStrea...         7.6   \n\n     Base Severity  \n0           MEDIUM  \n1             HIGH  \n2             HIGH  \n3           MEDIUM  \n4         CRITICAL  \n...            ...  \n9651          HIGH  \n9652          HIGH  \n9653          HIGH  \n9654        MEDIUM  \n9655          HIGH  \n\n[9656 rows x 5 columns]",
      "text/html": "<div>\n<style scoped>\n    .dataframe tbody tr th:only-of-type {\n        vertical-align: middle;\n    }\n\n    .dataframe tbody tr th {\n        vertical-align: top;\n    }\n\n    .dataframe thead th {\n        text-align: right;\n    }\n</style>\n<table border=\"1\" class=\"dataframe\">\n  <thead>\n    <tr style=\"text-align: right;\">\n      <th></th>\n      <th>cve_id</th>\n      <th>func_before</th>\n      <th>description</th>\n      <th>Base Score</th>\n      <th>Base Severity</th>\n    </tr>\n  </thead>\n  <tbody>\n    <tr>\n      <th>0</th>\n      <td>CVE-2023-38850</td>\n      <td>static void write_html_body( FILE        *out,...</td>\n      <td>Buffer Overflow vulnerability in Michaelrsweet...</td>\n      <td>5.5</td>\n      <td>MEDIUM</td>\n    </tr>\n    <tr>\n      <th>1</th>\n      <td>CVE-2017-15587</td>\n      <td>static void pdf_read_new_xref_section(fz_conte...</td>\n      <td>An integer overflow was discovered in pdf_read...</td>\n      <td>7.8</td>\n      <td>HIGH</td>\n    </tr>\n    <tr>\n      <th>2</th>\n      <td>CVE-2023-36364</td>\n      <td>static int rel_deps(mvc *sql, sql_rel *r, list...</td>\n      <td>An issue in the rel_deps component of MonetDB ...</td>\n      <td>7.5</td>\n      <td>HIGH</td>\n    </tr>\n    <tr>\n      <th>3</th>\n      <td>CVE-2019-19319</td>\n      <td>int ext4_setup_system_zone(struct super_block ...</td>\n      <td>In the Linux kernel before 5.2, a setxattr ope...</td>\n      <td>6.5</td>\n      <td>MEDIUM</td>\n    </tr>\n    <tr>\n      <th>4</th>\n      <td>CVE-2019-19948</td>\n      <td>static MagickBooleanType WriteSGIImage(const I...</td>\n      <td>In ImageMagick 7.0.8-43 Q16, there is a heap-b...</td>\n      <td>9.8</td>\n      <td>CRITICAL</td>\n    </tr>\n    <tr>\n      <th>...</th>\n      <td>...</td>\n      <td>...</td>\n      <td>...</td>\n      <td>...</td>\n      <td>...</td>\n    </tr>\n    <tr>\n      <th>9651</th>\n      <td>CVE-2019-12448</td>\n      <td>static void do_query_info (GVfsBackend *backen...</td>\n      <td>An issue was discovered in GNOME gvfs 1.29.4 t...</td>\n      <td>8.1</td>\n      <td>HIGH</td>\n    </tr>\n    <tr>\n      <th>9652</th>\n      <td>CVE-2018-10853</td>\n      <td>static int linear_read_system(struct x86_emula...</td>\n      <td>A flaw was found in the way Linux kernel KVM h...</td>\n      <td>7.0</td>\n      <td>HIGH</td>\n    </tr>\n    <tr>\n      <th>9653</th>\n      <td>CVE-2020-27670</td>\n      <td>static unsigned int clear_iommu_pte_present(un...</td>\n      <td>An issue was discovered in Xen through 4.14.x ...</td>\n      <td>7.8</td>\n      <td>HIGH</td>\n    </tr>\n    <tr>\n      <th>9654</th>\n      <td>CVE-2019-19082</td>\n      <td>struct resource_pool *dce100_create_resource_p...</td>\n      <td>Memory leaks in *create_resource_pool() functi...</td>\n      <td>4.7</td>\n      <td>MEDIUM</td>\n    </tr>\n    <tr>\n      <th>9655</th>\n      <td>CVE-2023-42801</td>\n      <td>static void inputSendThreadProc(void* context)...</td>\n      <td>Moonlight-common-c contains the core GameStrea...</td>\n      <td>7.6</td>\n      <td>HIGH</td>\n    </tr>\n  </tbody>\n</table>\n<p>9656 rows × 5 columns</p>\n</div>"
     },
     "execution_count": 119,
     "metadata": {},
     "output_type": "execute_result"
    }
   ],
   "source": [
    "data"
   ],
   "metadata": {
    "collapsed": false,
    "pycharm": {
     "name": "#%%\n"
    }
   }
  },
  {
   "cell_type": "code",
   "execution_count": 120,
   "outputs": [],
   "source": [
    "code = data['func_before']"
   ],
   "metadata": {
    "collapsed": false,
    "pycharm": {
     "name": "#%%\n"
    }
   }
  },
  {
   "cell_type": "code",
   "execution_count": 121,
   "outputs": [
    {
     "data": {
      "text/plain": "0       static void write_html_body( FILE        *out,...\n1       static void pdf_read_new_xref_section(fz_conte...\n2       static int rel_deps(mvc *sql, sql_rel *r, list...\n3       int ext4_setup_system_zone(struct super_block ...\n4       static MagickBooleanType WriteSGIImage(const I...\n                              ...                        \n9651    static void do_query_info (GVfsBackend *backen...\n9652    static int linear_read_system(struct x86_emula...\n9653    static unsigned int clear_iommu_pte_present(un...\n9654    struct resource_pool *dce100_create_resource_p...\n9655    static void inputSendThreadProc(void* context)...\nName: func_before, Length: 9656, dtype: object"
     },
     "execution_count": 121,
     "metadata": {},
     "output_type": "execute_result"
    }
   ],
   "source": [
    "code"
   ],
   "metadata": {
    "collapsed": false,
    "pycharm": {
     "name": "#%%\n"
    }
   }
  },
  {
   "cell_type": "code",
   "execution_count": 122,
   "outputs": [
    {
     "data": {
      "text/plain": "'static void write_html_body( FILE        *out, int         mode, const char  *bodyfile, mmd_t       *body, mxml_node_t *doc) { mxml_node_t*function, *scut, *arg, *description, *type; const char*name, *defval; boolwhitespace; const char*string; if (body) markdown_write_block(out, body, mode); else if (bodyfile) write_file(out, bodyfile, mode); if ((scut = find_public(doc, doc, \"class\", NULL, mode)) != NULL) { fputs(\"<h2 class=\\\\\"title\\\\\"><a id=\\\\\"CLASSES\\\\\">Classes</a></h2>\\\\n\", out); while (scut) { write_scu(out, mode, doc, scut); scut = find_public(scut, doc, \"class\", NULL, mode); } } if ((function = find_public(doc, doc, \"function\", NULL, mode)) != NULL) { fputs(\"<h2 class=\\\\\"title\\\\\"><a id=\\\\\"FUNCTIONS\\\\\">Functions</a></h2>\\\\n\", out); while (function) { write_function(out, mode, doc, function, 3); function = find_public(function, doc, \"function\", NULL, mode); } } if ((scut = find_public(doc, doc, \"typedef\", NULL, mode)) != NULL) { fputs(\"<h2 class=\\\\\"title\\\\\"><a id=\\\\\"TYPES\\\\\">Data Types</a></h2>\\\\n\", out); while (scut) { name        = mxmlElementGetAttr(scut, \"name\"); description = mxmlFindElement(scut, scut, \"description\", NULL, NULL, MXML_DESCEND_FIRST); fprintf(out, \"<h3 class=\\\\\"typedef\\\\\"><a id=\\\\\"%s\\\\\">%s%s</a></h3>\\\\n\", name, get_comment_info(description), name); if (description) write_description(out, mode, description, \"p\", 1); fputs(\"<p class=\\\\\"code\\\\\">\\\\n\" \"typedef \", out); type = mxmlFindElement(scut, scut, \"type\", NULL, NULL, MXML_DESCEND_FIRST); for (type = mxmlGetFirstChild(type); type; type = mxmlGetNextSibling(type)) { string = mxmlGetText(type, &whitespace); if (!strcmp(string, \"(\")) { break; } else { if (whitespace) putc(\\' \\', out); if (find_public(doc, doc, \"class\", string, mode) || find_public(doc, doc, \"enumeration\", string, mode) || find_public(doc, doc, \"struct\", string, mode) || find_public(doc, doc, \"typedef\", string, mode) || find_public(doc, doc, \"union\", string, mode)) { fputs(\"<a href=\\\\\"#\", out); write_string(out, string, OUTPUT_HTML, 0); fputs(\"\\\\\">\", out); write_string(out, string, OUTPUT_HTML, 0); fputs(\"</a>\", out); } else write_string(out, string, OUTPUT_HTML, 0); } } if (type) { string = mxmlGetText(mxmlGetPrevSibling(type), NULL); if (string && *string != \\'*\\') putc(\\' \\', out); fprintf(out, \"(*%s\", name); for (type = mxmlGetNextSibling(mxmlGetNextSibling(type)); type; type = mxmlGetNextSibling(type)) { string = mxmlGetText(type, &whitespace); if (whitespace) putc(\\' \\', out); if (find_public(doc, doc, \"class\", string, mode) || find_public(doc, doc, \"enumeration\", string, mode) || find_public(doc, doc, \"struct\", string, mode) || find_public(doc, doc, \"typedef\", string, mode) || find_public(doc, doc, \"union\", string, mode)) { fputs(\"<a href=\\\\\"#\", out); write_string(out, string, OUTPUT_HTML, 0); fputs(\"\\\\\">\", out); write_string(out, string, OUTPUT_HTML, 0); fputs(\"</a>\", out); } else write_string(out, string, OUTPUT_HTML, 0); } fputs(\";\\\\n\", out); } else { type   = mxmlFindElement(scut, scut, \"type\", NULL, NULL, MXML_DESCEND_FIRST); string = mxmlGetText(mxmlGetLastChild(type), NULL); if (*string != \\'*\\') putc(\\' \\', out); fprintf(out, \"%s;\\\\n\", name); } fputs(\"</p>\\\\n\", out); scut = find_public(scut, doc, \"typedef\", NULL, mode); } } if ((scut = find_public(doc, doc, \"struct\", NULL, mode)) != NULL) { fputs(\"<h2 class=\\\\\"title\\\\\"><a id=\\\\\"STRUCTURES\\\\\">Structures</a></h2>\\\\n\", out); while (scut) { write_scu(out, mode, doc, scut); scut = find_public(scut, doc, \"struct\", NULL, mode); } } if ((scut = find_public(doc, doc, \"union\", NULL, mode)) != NULL) { fputs(\"<h2 class=\\\\\"title\\\\\"><a id=\\\\\"UNIONS\\\\\">Unions</a></h2>\\\\n\", out); while (scut) { write_scu(out, mode, doc, scut); scut = find_public(scut, doc, \"union\", NULL, mode); } } if ((arg = find_public(doc, doc, \"variable\", NULL, mode)) != NULL) { fputs(\"<h2 class=\\\\\"title\\\\\"><a id=\\\\\"VARIABLES\\\\\">Variables</a></h2>\\\\n\", out); while (arg) { name        = mxmlElementGetAttr(arg, \"name\"); description = mxmlFindElement(arg, arg, \"description\", NULL, NULL, MXML_DESCEND_FIRST); fprintf(out, \"<h3 class=\\\\\"variable\\\\\"><a id=\\\\\"%s\\\\\">%s%s</a></h3>\\\\n\", name, get_comment_info(description), name); if (description) write_description(out, mode, description, \"p\", 1); fputs(\"<p class=\\\\\"code\\\\\">\", out); write_element(out, doc, mxmlFindElement(arg, arg, \"type\", NULL, NULL, MXML_DESCEND_FIRST), OUTPUT_HTML); fputs(mxmlElementGetAttr(arg, \"name\"), out); if ((defval = mxmlElementGetAttr(arg, \"default\")) != NULL) fprintf(out, \" %s\", defval); fputs(\";</p>\\\\n\", out); arg = find_public(arg, doc, \"variable\", NULL, mode); } } if ((scut = find_public(doc, doc, \"enumeration\", NULL, mode)) != NULL) { fputs(\"<h2 class=\\\\\"title\\\\\"><a id=\\\\\"ENUMERATIONS\\\\\">Constants</a></h2>\\\\n\", out); while (scut) { name        = mxmlElementGetAttr(scut, \"name\"); description = mxmlFindElement(scut, scut, \"description\", NULL, NULL, MXML_DESCEND_FIRST); fprintf(out, \"<h3 class=\\\\\"enumeration\\\\\"><a id=\\\\\"%s\\\\\">%s%s</a></h3>\\\\n\", name, get_comment_info(description), name); if (description) write_description(out, mode, description, \"p\", 1); fputs(\"<h4 class=\\\\\"constants\\\\\">Constants</h4>\\\\n\" \"<table class=\\\\\"list\\\\\"><tbody>\\\\n\", out); for (arg = find_public(scut, scut, \"constant\", NULL, mode); arg; arg = find_public(arg, scut, \"constant\", NULL, mode)) { description = mxmlFindElement(arg, arg, \"description\", NULL, NULL, MXML_DESCEND_FIRST); fprintf(out, \"<tr><th>%s %s</th>\", mxmlElementGetAttr(arg, \"name\"), get_comment_info(description)); write_description(out, mode, description, \"td\", -1); fputs(\"</tr>\\\\n\", out); } fputs(\"</tbody></table>\\\\n\", out); scut = find_public(scut, doc, \"enumeration\", NULL, mode); } } }'"
     },
     "execution_count": 122,
     "metadata": {},
     "output_type": "execute_result"
    }
   ],
   "source": [
    "code[0]"
   ],
   "metadata": {
    "collapsed": false,
    "pycharm": {
     "name": "#%%\n"
    }
   }
  },
  {
   "cell_type": "code",
   "execution_count": 123,
   "outputs": [],
   "source": [
    "ast = []"
   ],
   "metadata": {
    "collapsed": false,
    "pycharm": {
     "name": "#%%\n"
    }
   }
  },
  {
   "cell_type": "code",
   "execution_count": 124,
   "outputs": [],
   "source": [
    "# idx = []"
   ],
   "metadata": {
    "collapsed": false,
    "pycharm": {
     "name": "#%%\n"
    }
   }
  },
  {
   "cell_type": "code",
   "execution_count": 125,
   "outputs": [
    {
     "name": "stderr",
     "output_type": "stream",
     "text": [
      "C:\\APP\\Anaconda3\\envs\\funcGNN_gcy\\lib\\site-packages\\tree_sitter\\__init__.py:36: FutureWarning: Language(path, name) is deprecated. Use Language(ptr, name) instead.\n",
      "  warn(\"{} is deprecated. Use {} instead.\".format(old, new), FutureWarning)\n"
     ]
    }
   ],
   "source": [
    "CPP_LANGUAGE = Language('build/my-languages.so', 'cpp')\n",
    "cpp_parser = Parser()\n",
    "cpp_parser.set_language(CPP_LANGUAGE)"
   ],
   "metadata": {
    "collapsed": false,
    "pycharm": {
     "name": "#%%\n"
    }
   }
  },
  {
   "cell_type": "code",
   "execution_count": 126,
   "outputs": [],
   "source": [
    "for i in range(len(code)):\n",
    "    tree = cpp_parser.parse(bytes(code[i], \"utf8\"))\n",
    "    root = tree.root_node  # 注意，root_node 才是可遍历的树节点\n",
    "    sexp = root.sexp()\n",
    "    cleaned_sexp = re.sub(r'[:\\(\\)]', '', sexp)\n",
    "    ast.append(cleaned_sexp)\n",
    "    # ast.append(sexp)"
   ],
   "metadata": {
    "collapsed": false,
    "pycharm": {
     "name": "#%%\n"
    }
   }
  },
  {
   "cell_type": "code",
   "execution_count": 127,
   "outputs": [
    {
     "name": "stdout",
     "output_type": "stream",
     "text": [
      "9656\n"
     ]
    }
   ],
   "source": [
    "print(len(ast))"
   ],
   "metadata": {
    "collapsed": false,
    "pycharm": {
     "name": "#%%\n"
    }
   }
  },
  {
   "cell_type": "code",
   "execution_count": 128,
   "outputs": [
    {
     "name": "stdout",
     "output_type": "stream",
     "text": [
      "translation_unit function_definition storage_class_specifier type primitive_type declarator function\n"
     ]
    }
   ],
   "source": [
    "print(ast[0][:100])"
   ],
   "metadata": {
    "collapsed": false,
    "pycharm": {
     "name": "#%%\n"
    }
   }
  },
  {
   "cell_type": "code",
   "execution_count": 129,
   "outputs": [],
   "source": [
    "# for i in range(len(ast)):\n",
    "#     if ast[i][:300].find(\"ERROR\") != -1:\n",
    "#         idx.append(i)"
   ],
   "metadata": {
    "collapsed": false,
    "pycharm": {
     "name": "#%%\n"
    }
   }
  },
  {
   "cell_type": "markdown",
   "source": [],
   "metadata": {
    "collapsed": false
   }
  },
  {
   "cell_type": "code",
   "execution_count": 130,
   "outputs": [],
   "source": [
    "# idx"
   ],
   "metadata": {
    "collapsed": false,
    "pycharm": {
     "name": "#%%\n"
    }
   }
  },
  {
   "cell_type": "code",
   "execution_count": 131,
   "outputs": [],
   "source": [
    "# print(len(idx))"
   ],
   "metadata": {
    "collapsed": false,
    "pycharm": {
     "name": "#%%\n"
    }
   }
  },
  {
   "cell_type": "code",
   "execution_count": 132,
   "outputs": [],
   "source": [
    "# data2 = data.drop(labels=idx,axis=0)"
   ],
   "metadata": {
    "collapsed": false,
    "pycharm": {
     "name": "#%%\n"
    }
   }
  },
  {
   "cell_type": "code",
   "execution_count": 133,
   "outputs": [],
   "source": [
    "# data2"
   ],
   "metadata": {
    "collapsed": false,
    "pycharm": {
     "name": "#%%\n"
    }
   }
  },
  {
   "cell_type": "code",
   "execution_count": 134,
   "outputs": [],
   "source": [
    "# print(len(data2))"
   ],
   "metadata": {
    "collapsed": false,
    "pycharm": {
     "name": "#%%\n"
    }
   }
  },
  {
   "cell_type": "code",
   "execution_count": 135,
   "outputs": [],
   "source": [
    "# data2.to_csv(\"./dataset/megavul_simple_cpp_success_ast.csv\", index=False)"
   ],
   "metadata": {
    "collapsed": false,
    "pycharm": {
     "name": "#%%\n"
    }
   }
  },
  {
   "cell_type": "code",
   "execution_count": 136,
   "outputs": [
    {
     "name": "stdout",
     "output_type": "stream",
     "text": [
      "0.35547212968085523\n"
     ]
    }
   ],
   "source": [
    "\n",
    "\n",
    "print(Levenshtein.seqratio(ast[0].split(), ast[1].split()))"
   ],
   "metadata": {
    "collapsed": false,
    "pycharm": {
     "name": "#%%\n"
    }
   }
  },
  {
   "cell_type": "code",
   "execution_count": 137,
   "outputs": [],
   "source": [
    "df = pd.DataFrame(ast)"
   ],
   "metadata": {
    "collapsed": false,
    "pycharm": {
     "name": "#%%\n"
    }
   }
  },
  {
   "cell_type": "code",
   "execution_count": 138,
   "outputs": [
    {
     "name": "stdout",
     "output_type": "stream",
     "text": [
      "9656\n"
     ]
    }
   ],
   "source": [
    "print(len(df))"
   ],
   "metadata": {
    "collapsed": false,
    "pycharm": {
     "name": "#%%\n"
    }
   }
  },
  {
   "cell_type": "code",
   "execution_count": 139,
   "outputs": [],
   "source": [
    "df.to_csv(\"./dataset3/train/train_ast.csv\", header=False, index=False)"
   ],
   "metadata": {
    "collapsed": false,
    "pycharm": {
     "name": "#%%\n"
    }
   }
  },
  {
   "cell_type": "code",
   "execution_count": 25,
   "outputs": [],
   "source": [
    "ddd = pd.read_csv(\"./dataset2/test/test_ast.csv\", header=None)"
   ],
   "metadata": {
    "collapsed": false,
    "pycharm": {
     "name": "#%%\n"
    }
   }
  },
  {
   "cell_type": "code",
   "execution_count": 26,
   "outputs": [
    {
     "data": {
      "text/plain": "                                                      0\n0     translation_unit function_definition type type...\n1     translation_unit function_definition storage_c...\n2     translation_unit function_definition type prim...\n3     translation_unit function_definition storage_c...\n4     translation_unit function_definition storage_c...\n...                                                 ...\n1203  translation_unit function_definition storage_c...\n1204  translation_unit function_definition type type...\n1205  translation_unit function_definition type prim...\n1206  translation_unit function_definition storage_c...\n1207  translation_unit function_definition type prim...\n\n[1208 rows x 1 columns]",
      "text/html": "<div>\n<style scoped>\n    .dataframe tbody tr th:only-of-type {\n        vertical-align: middle;\n    }\n\n    .dataframe tbody tr th {\n        vertical-align: top;\n    }\n\n    .dataframe thead th {\n        text-align: right;\n    }\n</style>\n<table border=\"1\" class=\"dataframe\">\n  <thead>\n    <tr style=\"text-align: right;\">\n      <th></th>\n      <th>0</th>\n    </tr>\n  </thead>\n  <tbody>\n    <tr>\n      <th>0</th>\n      <td>translation_unit function_definition type type...</td>\n    </tr>\n    <tr>\n      <th>1</th>\n      <td>translation_unit function_definition storage_c...</td>\n    </tr>\n    <tr>\n      <th>2</th>\n      <td>translation_unit function_definition type prim...</td>\n    </tr>\n    <tr>\n      <th>3</th>\n      <td>translation_unit function_definition storage_c...</td>\n    </tr>\n    <tr>\n      <th>4</th>\n      <td>translation_unit function_definition storage_c...</td>\n    </tr>\n    <tr>\n      <th>...</th>\n      <td>...</td>\n    </tr>\n    <tr>\n      <th>1203</th>\n      <td>translation_unit function_definition storage_c...</td>\n    </tr>\n    <tr>\n      <th>1204</th>\n      <td>translation_unit function_definition type type...</td>\n    </tr>\n    <tr>\n      <th>1205</th>\n      <td>translation_unit function_definition type prim...</td>\n    </tr>\n    <tr>\n      <th>1206</th>\n      <td>translation_unit function_definition storage_c...</td>\n    </tr>\n    <tr>\n      <th>1207</th>\n      <td>translation_unit function_definition type prim...</td>\n    </tr>\n  </tbody>\n</table>\n<p>1208 rows × 1 columns</p>\n</div>"
     },
     "execution_count": 26,
     "metadata": {},
     "output_type": "execute_result"
    }
   ],
   "source": [
    "ddd"
   ],
   "metadata": {
    "collapsed": false,
    "pycharm": {
     "name": "#%%\n"
    }
   }
  },
  {
   "cell_type": "code",
   "execution_count": 86,
   "outputs": [],
   "source": [
    "import csv\n",
    "chat = pd.read_csv(\"./dataset/valid_ast.csv\",sep = \"\\t\", header = None)"
   ],
   "metadata": {
    "collapsed": false,
    "pycharm": {
     "name": "#%%\n"
    }
   }
  },
  {
   "cell_type": "code",
   "execution_count": 87,
   "outputs": [
    {
     "data": {
      "text/plain": "                                                      0\n0     translation_unit function_definition storage_c...\n1     translation_unit function_definition storage_c...\n2     translation_unit function_definition storage_c...\n3     translation_unit function_definition type prim...\n4     translation_unit function_definition type temp...\n...                                                 ...\n1418  translation_unit function_definition type prim...\n1419  translation_unit function_definition type stru...\n1420  translation_unit function_definition storage_c...\n1421  translation_unit function_definition storage_c...\n1422  translation_unit function_definition type prim...\n\n[1423 rows x 1 columns]",
      "text/html": "<div>\n<style scoped>\n    .dataframe tbody tr th:only-of-type {\n        vertical-align: middle;\n    }\n\n    .dataframe tbody tr th {\n        vertical-align: top;\n    }\n\n    .dataframe thead th {\n        text-align: right;\n    }\n</style>\n<table border=\"1\" class=\"dataframe\">\n  <thead>\n    <tr style=\"text-align: right;\">\n      <th></th>\n      <th>0</th>\n    </tr>\n  </thead>\n  <tbody>\n    <tr>\n      <th>0</th>\n      <td>translation_unit function_definition storage_c...</td>\n    </tr>\n    <tr>\n      <th>1</th>\n      <td>translation_unit function_definition storage_c...</td>\n    </tr>\n    <tr>\n      <th>2</th>\n      <td>translation_unit function_definition storage_c...</td>\n    </tr>\n    <tr>\n      <th>3</th>\n      <td>translation_unit function_definition type prim...</td>\n    </tr>\n    <tr>\n      <th>4</th>\n      <td>translation_unit function_definition type temp...</td>\n    </tr>\n    <tr>\n      <th>...</th>\n      <td>...</td>\n    </tr>\n    <tr>\n      <th>1418</th>\n      <td>translation_unit function_definition type prim...</td>\n    </tr>\n    <tr>\n      <th>1419</th>\n      <td>translation_unit function_definition type stru...</td>\n    </tr>\n    <tr>\n      <th>1420</th>\n      <td>translation_unit function_definition storage_c...</td>\n    </tr>\n    <tr>\n      <th>1421</th>\n      <td>translation_unit function_definition storage_c...</td>\n    </tr>\n    <tr>\n      <th>1422</th>\n      <td>translation_unit function_definition type prim...</td>\n    </tr>\n  </tbody>\n</table>\n<p>1423 rows × 1 columns</p>\n</div>"
     },
     "execution_count": 87,
     "metadata": {},
     "output_type": "execute_result"
    }
   ],
   "source": [
    "chat"
   ],
   "metadata": {
    "collapsed": false,
    "pycharm": {
     "name": "#%%\n"
    }
   }
  },
  {
   "cell_type": "code",
   "execution_count": null,
   "outputs": [],
   "source": [],
   "metadata": {
    "collapsed": false,
    "pycharm": {
     "name": "#%%\n"
    }
   }
  }
 ],
 "metadata": {
  "kernelspec": {
   "name": "funcgnn_jupyter",
   "language": "python",
   "display_name": "funcGNN_jupyter"
  },
  "language_info": {
   "codemirror_mode": {
    "name": "ipython",
    "version": 2
   },
   "file_extension": ".py",
   "mimetype": "text/x-python",
   "name": "python",
   "nbconvert_exporter": "python",
   "pygments_lexer": "ipython2",
   "version": "2.7.6"
  }
 },
 "nbformat": 4,
 "nbformat_minor": 0
}